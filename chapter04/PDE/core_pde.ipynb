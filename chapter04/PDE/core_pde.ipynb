{
 "cells": [
  {
   "attachments": {},
   "cell_type": "markdown",
   "metadata": {},
   "source": [
    "# Solving PDE-based BIP using core CUQIpy\n",
    "\n",
    "Here we build a Bayesian problem in which the forward model is a partial differential equation (PDE) model, the 1D heat problem in particular.\n",
    "\n",
    "**Try to at least run through part 1 to 3 before working on the optional exercises.**\n",
    "\n",
    "## Learning objectives of this notebook:\n",
    "- Solve PDE-based Bayesian problem using CUQIpy.\n",
    "- Use different parametrizations of the Bayesian parameters (e.g. KL expansion, non-linear maps).\n",
    "\n",
    "## Table of contents: \n",
    "* [1. Loading the PDE test problem](#PDE_model)\n",
    "* [2. Building and solving the Bayesian inverse problem](#inverse_problem)\n",
    "* [3. Parametrizing the unknown parameters via step function expansion](#step_function)\n",
    "* [4. ★ Observe on part of the domain](#Partial_Observation) \n",
    "* [5. ★ Parametrizing the unknown parameters via KL expansion](#KL_expansion)\n",
    "\n",
    "★ Indicates optional section."
   ]
  },
  {
   "cell_type": "markdown",
   "metadata": {},
   "source": [
    "<div style=\"border: 2px solid #FFB74D; background-color: #FFF3E0; border-radius: 8px; padding: 10px; font-family: Arial, sans-serif; color: #333; box-shadow: 2px 2px 8px rgba(0, 0, 0, 0.1); max-width: 750px; margin: 0 auto;\">\n",
    "  <strong style=\"color: #E65100;\">⚠️ Note:</strong> This notebook uses MCMC samplers from the new <code>cuqi.experimental.mcmc</code> module, which are expected to become the default soon. Check out the <a href=\"https://cuqi-dtu.github.io/CUQIpy/api/_autosummary/cuqi.experimental.mcmc.html#module-cuqi.experimental.mcmc\">documentation</a> for more details.\n",
    "</div>"
   ]
  },
  {
   "attachments": {},
   "cell_type": "markdown",
   "metadata": {},
   "source": [
    "##  1. Loading the PDE test problem <a class=\"anchor\" id=\"PDE_model\"></a>\n",
    "\n",
    "We first import the required python standard packages that we need:"
   ]
  },
  {
   "cell_type": "code",
   "execution_count": null,
   "metadata": {},
   "outputs": [],
   "source": [
    "import numpy as np\n",
    "import matplotlib.pyplot as plt\n",
    "from math import floor"
   ]
  },
  {
   "attachments": {},
   "cell_type": "markdown",
   "metadata": {},
   "source": [
    "From CUQIpy we import the classes that we use in this exercise:"
   ]
  },
  {
   "cell_type": "code",
   "execution_count": null,
   "metadata": {},
   "outputs": [],
   "source": [
    "from cuqi.testproblem import Heat1D\n",
    "from cuqi.distribution import Gaussian, JointDistribution\n",
    "from cuqi.experimental.mcmc import PCN, MH, CWMH"
   ]
  },
  {
   "attachments": {},
   "cell_type": "markdown",
   "metadata": {},
   "source": [
    "We load the test problem `Heat1D` which provides a one dimensional (1D) time-dependent heat model with zero boundary conditions. The model is discretized using finite differences.\n",
    "\n",
    "The PDE is given by:\n",
    "\n",
    "$$ \\frac{\\partial u(\\xi,\\tau)}{\\partial \\tau} - c^2 \\Delta_\\xi u(\\xi,\\tau)   = f(\\xi,\\tau), \\;\\text{in}\\;[0,L] $$\n",
    "$$u(0,\\tau)= u(L,\\tau)= 0 $$\n",
    "\n",
    "where $u(\\xi,\\tau)$ is the temperature and $c^2$ is the thermal diffusivity (assumed to be 1 here). We assume the source term $f$ is zero. The unknown parameters (random variable) for this test problem is the initial heat profile $g(\\xi):=u(\\xi,0)$.\n",
    "\n",
    "The data $y$ is a random variable containing the temperature measurements everywhere in the domain at the final time $\\tau^\\mathrm{max}$ corrupted by Gaussian noise:\n",
    "\n",
    "$$y = \\mathcal{G}(g) + \\eta, \\;\\;\\; \\eta\\sim\\mathrm{Gaussian}(0,\\sigma_\\text{noise}^2\\mathbf{I}),$$ \n",
    "\n",
    "where $\\mathcal{G}(g)$ is the forward model that maps the initial condition $g$ to the final time solution via solving the 1D time-dependent heat problem. $\\eta$ is the measurement noise.\n",
    "\n",
    "Given observed data $y^\\text{obs}$ the task is to infer the initial heat profile $g$.\n",
    "\n",
    "Before we load the `Heat1D` problem, let us set the parameters: final time $\\tau^\\mathrm{max}$, number of finite difference nodes $N$, and the length of the domain $L$"
   ]
  },
  {
   "cell_type": "code",
   "execution_count": null,
   "metadata": {},
   "outputs": [],
   "source": [
    "N = 30    # Number of finite difference nodes            \n",
    "L = 1     # Length of the domain\n",
    "tau_max = 0.02  # Final time"
   ]
  },
  {
   "attachments": {},
   "cell_type": "markdown",
   "metadata": {},
   "source": [
    "We assume that the exact initial condition that we want to infer is a step function with three pieces. Here we use regular Python and NumPy functions to define the initial condition."
   ]
  },
  {
   "cell_type": "code",
   "execution_count": null,
   "metadata": {},
   "outputs": [],
   "source": [
    "n_steps = 3\n",
    "n_steps_values = [0,1,2]\n",
    "myExactSolution = np.zeros(N)\n",
    "\n",
    "start_idx=0\n",
    "for i in range(n_steps):\n",
    "    end_idx = floor((i+1)*N/n_steps)\n",
    "    myExactSolution[start_idx:end_idx] = n_steps_values[i]\n",
    "    start_idx = end_idx"
   ]
  },
  {
   "attachments": {},
   "cell_type": "markdown",
   "metadata": {},
   "source": [
    "We plot the exact solution for each node $\\xi_i$:"
   ]
  },
  {
   "cell_type": "code",
   "execution_count": null,
   "metadata": {},
   "outputs": [],
   "source": [
    "plt.plot(myExactSolution)\n",
    "plt.xlabel(\"i\")"
   ]
  },
  {
   "attachments": {},
   "cell_type": "markdown",
   "metadata": {},
   "source": [
    "While it is possible to create a PDE model from scratch, for this notebook we use the `Heat1D` test problem that is already implemented in CUQIpy.\n",
    "\n",
    "We may extract components of a `Heat1D` instance by calling the `get_components` method."
   ]
  },
  {
   "cell_type": "code",
   "execution_count": null,
   "metadata": {},
   "outputs": [],
   "source": [
    "model, data, problemInfo = Heat1D(\n",
    "    dim=N, \n",
    "    endpoint=L, \n",
    "    max_time=tau_max, \n",
    "    exactSolution=myExactSolution\n",
    ").get_components()"
   ]
  },
  {
   "attachments": {},
   "cell_type": "markdown",
   "metadata": {},
   "source": [
    "Let us take a look at what we obtain from the test problem. We view the `model`:"
   ]
  },
  {
   "cell_type": "code",
   "execution_count": null,
   "metadata": {},
   "outputs": [],
   "source": [
    "model"
   ]
  },
  {
   "attachments": {},
   "cell_type": "markdown",
   "metadata": {},
   "source": [
    "Note that the forward model parameter, named `x` here, is the unknown parameter which we want to infer. It represents the initial condition $g$ above, or a a parameterization of it. \n",
    "\n",
    "\n",
    "We can look at the returned `data`:"
   ]
  },
  {
   "cell_type": "code",
   "execution_count": null,
   "metadata": {},
   "outputs": [],
   "source": [
    "data"
   ]
  },
  {
   "attachments": {},
   "cell_type": "markdown",
   "metadata": {},
   "source": [
    "And the `problemInfo`:"
   ]
  },
  {
   "cell_type": "code",
   "execution_count": null,
   "metadata": {},
   "outputs": [],
   "source": [
    "problemInfo"
   ]
  },
  {
   "attachments": {},
   "cell_type": "markdown",
   "metadata": {},
   "source": [
    "Now let us plot the exact solution (exact initial condition) of this inverse problem and the exact and noisy data (the final time solution before and after adding observation noise):"
   ]
  },
  {
   "cell_type": "code",
   "execution_count": null,
   "metadata": {},
   "outputs": [],
   "source": [
    "problemInfo.exactSolution.plot()\n",
    "problemInfo.exactData.plot()\n",
    "data.plot()\n",
    "plt.legend(['exact solution', 'exact data', 'noisy data']);"
   ]
  },
  {
   "attachments": {},
   "cell_type": "markdown",
   "metadata": {},
   "source": [
    "Note that the values of the initial solution and the data at 0 and $L$ are not included in this plot."
   ]
  },
  {
   "attachments": {},
   "cell_type": "markdown",
   "metadata": {},
   "source": [
    "\n",
    "#### Try yourself (optional)\n",
    "* The data plotted above was generated from the model. Confirm that the model actually generates this data (the exact data) by applying `model.forward` on the exact solution (the initial heat profile)."
   ]
  },
  {
   "cell_type": "code",
   "execution_count": null,
   "metadata": {},
   "outputs": [],
   "source": [
    "# Your code here\n",
    "\n"
   ]
  },
  {
   "attachments": {},
   "cell_type": "markdown",
   "metadata": {},
   "source": [
    "* Can you view the heat profile at time $\\tau= 0.001$? At $0.002, 0.003, ..., 0.02$? What do you notice? (hint: you can do that by choosing different final time when loading `Heat1D`)."
   ]
  },
  {
   "cell_type": "code",
   "execution_count": null,
   "metadata": {},
   "outputs": [],
   "source": [
    "# Your code here\n",
    "\n"
   ]
  },
  {
   "attachments": {},
   "cell_type": "markdown",
   "metadata": {},
   "source": [
    "In case the parameters were changed in the exercise, we reset them here"
   ]
  },
  {
   "cell_type": "code",
   "execution_count": null,
   "metadata": {},
   "outputs": [],
   "source": [
    "N = 30    # Number of finite difference nodes            \n",
    "L = 1     # Length of the domain\n",
    "tau_max = 0.02  # Final time\n",
    "model, data, problemInfo = Heat1D(\n",
    "    dim=N, \n",
    "    endpoint=L, \n",
    "    max_time=tau_max, \n",
    "    exactSolution=myExactSolution\n",
    ").get_components()"
   ]
  },
  {
   "attachments": {},
   "cell_type": "markdown",
   "metadata": {},
   "source": [
    "## 2. Building and solving the Bayesian inverse problem <a class=\"anchor\" id=\"inverse_problem\"></a>\n",
    "\n",
    "The joint distribution of the data $y$ and the parameter $x$ (where $x$ represents the unknown values of the initial condition $g$ at the grid nodes in this section) is given by\n",
    "\n",
    "$$p(x,y) = p(y|x)p(x)$$\n",
    "\n",
    "\n",
    "\n",
    "Where $p(x)$ is the prior pdf, $p(y|x)$ is the data distribution pdf (likelihood). We start by defining the prior distribution $p(x)$:"
   ]
  },
  {
   "cell_type": "code",
   "execution_count": null,
   "metadata": {},
   "outputs": [],
   "source": [
    "mean = 0\n",
    "std = 1.2\n",
    "x = Gaussian(mean, cov=std**2, geometry=model.domain_geometry) # The prior distribution"
   ]
  },
  {
   "attachments": {},
   "cell_type": "markdown",
   "metadata": {},
   "source": [
    "\n",
    "#### Try yourself (optional)\n",
    "* Create prior samples.\n",
    "* Plot the $95\\%$ credibility interval of the prior samples.\n",
    "* Look at the $95\\%$ credibility interval of the PDE model solution to quantify the forward uncertainty.\n"
   ]
  },
  {
   "cell_type": "code",
   "execution_count": null,
   "metadata": {},
   "outputs": [],
   "source": [
    "# Your code here\n",
    "\n"
   ]
  },
  {
   "attachments": {},
   "cell_type": "markdown",
   "metadata": {},
   "source": [
    "To define the data distribution $p(y|x)$, we first estimate the noise level. Because here we know the exact data, we can estimate the noise level as follows:"
   ]
  },
  {
   "cell_type": "code",
   "execution_count": null,
   "metadata": {},
   "outputs": [],
   "source": [
    "sigma_noise = np.std(problemInfo.exactData - data)*np.ones(model.range_dim) # noise level"
   ]
  },
  {
   "attachments": {},
   "cell_type": "markdown",
   "metadata": {},
   "source": [
    "And then define the data distribution $p(y|x)$: "
   ]
  },
  {
   "cell_type": "code",
   "execution_count": null,
   "metadata": {},
   "outputs": [],
   "source": [
    "y = Gaussian(mean=model(x), cov=sigma_noise**2, geometry=model.range_geometry)"
   ]
  },
  {
   "attachments": {},
   "cell_type": "markdown",
   "metadata": {},
   "source": [
    "Now that we have all the components we need, we can create the joint distribution $p(x,y)$, from which the posterior distribution can be created by setting $y=y^\\text{obs}$ (we named the observed data as `data` in our code):"
   ]
  },
  {
   "attachments": {},
   "cell_type": "markdown",
   "metadata": {},
   "source": [
    "First, we define the joint distribution $p(x,y)$:"
   ]
  },
  {
   "cell_type": "code",
   "execution_count": null,
   "metadata": {},
   "outputs": [],
   "source": [
    "joint = JointDistribution(y, x)\n",
    "print(joint)"
   ]
  },
  {
   "attachments": {},
   "cell_type": "markdown",
   "metadata": {},
   "source": [
    "The posterior distribution pdf is given by the Bayes rule:\n",
    "$$ p(x|y=y^\\text{obs}) \\propto p(y=y^\\text{obs}|x)p(x) $$ \n",
    "By setting $y=\\texttt{data}$ in the joint distribution we obtain the posterior distribution:"
   ]
  },
  {
   "cell_type": "code",
   "execution_count": null,
   "metadata": {},
   "outputs": [],
   "source": [
    "posterior = joint(y=data)\n",
    "print(posterior)"
   ]
  },
  {
   "attachments": {},
   "cell_type": "markdown",
   "metadata": {},
   "source": [
    "We can now sample the posterior. Let's try the preconditioned Crank-Nicolson (pCN) sampler (~30 seconds):"
   ]
  },
  {
   "cell_type": "code",
   "execution_count": null,
   "metadata": {},
   "outputs": [],
   "source": [
    "MySampler = PCN(posterior)\n",
    "posterior_samples = MySampler.warmup(20000).get_samples()"
   ]
  },
  {
   "cell_type": "markdown",
   "metadata": {},
   "source": [
    "Note here we use the `warmup` sampling method for the entire sampling run. This is because the PCN sampler can adapting the scale in such a way that the scale statistically converges to a given value. Therefore, we do not need to remove the warmup samples.\n",
    "\n",
    "ToDo. Check this is what we want."
   ]
  },
  {
   "attachments": {},
   "cell_type": "markdown",
   "metadata": {},
   "source": [
    "Let's look at the $95\\%$ credible interval:"
   ]
  },
  {
   "cell_type": "code",
   "execution_count": null,
   "metadata": {},
   "outputs": [],
   "source": [
    "posterior_samples.plot_ci(95, exact=problemInfo.exactSolution)"
   ]
  },
  {
   "attachments": {},
   "cell_type": "markdown",
   "metadata": {},
   "source": [
    "We can see that the mean reconstruction of the initial solution matches the general trend of the exact solution to some extent but it does not capture the piece-wise constant nature of the exact solution.\n",
    "\n",
    "Also we note that since the heat problem has zero boundary conditions, the initial solution reconstruction tend to go to zero at the right boundary. "
   ]
  },
  {
   "attachments": {},
   "cell_type": "markdown",
   "metadata": {},
   "source": [
    "## 3. Parametrizing the unknown parameters via step function expansion <a class=\"anchor\" id=\" step_function\"></a> "
   ]
  },
  {
   "attachments": {},
   "cell_type": "markdown",
   "metadata": {},
   "source": [
    "One way to improve the solution of this Bayesian problem is to use better prior information. Here we assume the prior is a step function with three pieces (which is exactly how we created the exact solution). This also makes the Bayesian inverse problem simpler because now we only have three unknown parameters to infer.\n",
    "\n",
    "To test this case we pass `field_type='Step'` to the constructor of `Heat1D`, which creates a `StepExpansion` domain geometry for the model during initializing the `Heat1D` test problem. It is also possible to change the domain geometry manually after initializing the test problem, but we will not do that here. \n",
    "\n",
    "The parameter `field_params` is a dictionary that is used to pass keyword arguments that the underlying domain field geometry accepts. For example `StepExpansion` has a keyword argument `n_steps` and thus we can set `field_params={'n_steps': 3}`."
   ]
  },
  {
   "cell_type": "code",
   "execution_count": null,
   "metadata": {},
   "outputs": [],
   "source": [
    "n_steps = 3 # number of steps in the step expansion domain geometry\n",
    "N = 30\n",
    "model, data, problemInfo = Heat1D(\n",
    "    dim=N,\n",
    "    endpoint=L,\n",
    "    max_time=tau_max,\n",
    "    field_type=\"Step\",\n",
    "    field_params={\"n_steps\": n_steps},\n",
    "    exactSolution=myExactSolution,\n",
    ").get_components()\n"
   ]
  },
  {
   "attachments": {},
   "cell_type": "markdown",
   "metadata": {},
   "source": [
    "Let's look at the `model` in this case: "
   ]
  },
  {
   "cell_type": "code",
   "execution_count": null,
   "metadata": {},
   "outputs": [],
   "source": [
    "model"
   ]
  },
  {
   "attachments": {},
   "cell_type": "markdown",
   "metadata": {},
   "source": [
    "We then continue to create the Bayesian inverse problem (prior, data distribution and then posterior) with a prior of dimension = n_steps. "
   ]
  },
  {
   "cell_type": "code",
   "execution_count": null,
   "metadata": {},
   "outputs": [],
   "source": [
    "# Prior\n",
    "x = Gaussian(mean, std**2, geometry=model.domain_geometry)\n",
    "\n",
    "# Data distribution\n",
    "sigma_noise = np.std(problemInfo.exactData - data)*np.ones(model.range_dim) # noise level\n",
    "y = Gaussian(mean=model(x), cov=sigma_noise**2, geometry=model.range_geometry)"
   ]
  },
  {
   "attachments": {},
   "cell_type": "markdown",
   "metadata": {},
   "source": [
    "And the posterior:"
   ]
  },
  {
   "cell_type": "code",
   "execution_count": null,
   "metadata": {},
   "outputs": [],
   "source": [
    "joint =  JointDistribution(y, x)\n",
    "posterior = joint(y=data)"
   ]
  },
  {
   "attachments": {},
   "cell_type": "markdown",
   "metadata": {},
   "source": [
    "We then sample the posterior using Metropolis Hastings `MH` sampler (~30 seconds)"
   ]
  },
  {
   "cell_type": "code",
   "execution_count": null,
   "metadata": {},
   "outputs": [],
   "source": [
    "MySampler = MH(posterior)\n",
    "posterior_samples = MySampler.warmup(25000).get_samples()"
   ]
  },
  {
   "attachments": {},
   "cell_type": "markdown",
   "metadata": {},
   "source": [
    "Let's take a look at the posterior:"
   ]
  },
  {
   "cell_type": "code",
   "execution_count": null,
   "metadata": {},
   "outputs": [],
   "source": [
    "posterior_samples.plot_ci(95, exact=problemInfo.exactSolution)\n",
    "posterior_samples.shape"
   ]
  },
  {
   "attachments": {},
   "cell_type": "markdown",
   "metadata": {},
   "source": [
    "We show the trace plot: a plot of the kernel density estimator (left) and chains (right) of the `n_steps` variables:"
   ]
  },
  {
   "cell_type": "code",
   "execution_count": null,
   "metadata": {},
   "outputs": [],
   "source": [
    "posterior_samples.plot_trace()"
   ]
  },
  {
   "attachments": {},
   "cell_type": "markdown",
   "metadata": {},
   "source": [
    "We show pair plot of 2D marginal posterior distributions: "
   ]
  },
  {
   "cell_type": "code",
   "execution_count": null,
   "metadata": {},
   "outputs": [],
   "source": [
    "posterior_samples.plot_pair()"
   ]
  },
  {
   "attachments": {},
   "cell_type": "markdown",
   "metadata": {},
   "source": [
    "We notice that there seems to be some burn-in samples until the chain reaches the high density region. We show the pair plot after removing 200 burn-in:"
   ]
  },
  {
   "cell_type": "code",
   "execution_count": null,
   "metadata": {},
   "outputs": [],
   "source": [
    "posterior_samples.burnthin(200).plot_pair()"
   ]
  },
  {
   "attachments": {},
   "cell_type": "markdown",
   "metadata": {},
   "source": [
    "We can see that, visually, the burn-in is indeed removed. Another observation here is the clear correlation (or inverse correlation) between each pair of the variables."
   ]
  },
  {
   "attachments": {},
   "cell_type": "markdown",
   "metadata": {},
   "source": [
    "We can also see the effect of removing the burn-in if we look at the $100\\%$ credible interval before and after removing the burn-in. Let us look at the $100\\%$ credible interval before:"
   ]
  },
  {
   "cell_type": "code",
   "execution_count": null,
   "metadata": {},
   "outputs": [],
   "source": [
    "posterior_samples.plot_ci(100, exact=problemInfo.exactSolution)"
   ]
  },
  {
   "attachments": {},
   "cell_type": "markdown",
   "metadata": {},
   "source": [
    "And after removing the burn-in:"
   ]
  },
  {
   "cell_type": "code",
   "execution_count": null,
   "metadata": {},
   "outputs": [],
   "source": [
    "posterior_samples.burnthin(200).plot_ci(100, exact=problemInfo.exactSolution)"
   ]
  },
  {
   "attachments": {},
   "cell_type": "markdown",
   "metadata": {},
   "source": [
    "We compute the effective sample size (ESS) which approximately gives the number of independent samples in the chain:"
   ]
  },
  {
   "cell_type": "code",
   "execution_count": null,
   "metadata": {},
   "outputs": [],
   "source": [
    "posterior_samples.compute_ess()"
   ]
  },
  {
   "attachments": {},
   "cell_type": "markdown",
   "metadata": {},
   "source": [
    "#### Try it yourself (optional):\n",
    "* For this step function parametrization, try to enforce positivity of prior and the posterior samples via log parametrization which can be done by initialing `Heat1D` with `map = lambda x : np.exp(x)`. Then run the Metropolis Hastings sampler again (similar to part 3)."
   ]
  },
  {
   "cell_type": "code",
   "execution_count": null,
   "metadata": {},
   "outputs": [],
   "source": [
    "# Your code here\n",
    "\n"
   ]
  },
  {
   "attachments": {},
   "cell_type": "markdown",
   "metadata": {},
   "source": [
    "## 4. ★ Observe on part of the domain <a class=\"anchor\" id=\"Partial_Observation\"></a> "
   ]
  },
  {
   "attachments": {},
   "cell_type": "markdown",
   "metadata": {},
   "source": [
    "Here we solve the same problem as in section 3 but with observing the data only on the right half of the domain.  "
   ]
  },
  {
   "attachments": {},
   "cell_type": "markdown",
   "metadata": {},
   "source": [
    "We chose the number of steps to be 4:"
   ]
  },
  {
   "cell_type": "code",
   "execution_count": null,
   "metadata": {},
   "outputs": [],
   "source": [
    "N = 30\n",
    "n_steps = 4 # Number of steps in the StepExpansion geometry. "
   ]
  },
  {
   "attachments": {},
   "cell_type": "markdown",
   "metadata": {},
   "source": [
    "Then we write the `observation_nodes` map which can be passed to the `Heat1D`.\n",
    "It is a lambda function that takes the forward model range grid (`range_grid`) as an input and generates a sub grid of the nodes where we have observations (data). "
   ]
  },
  {
   "cell_type": "code",
   "execution_count": null,
   "metadata": {},
   "outputs": [],
   "source": [
    "# observe in the right half of the domain\n",
    "observation_nodes = lambda range_grid: range_grid[np.where(range_grid>L/2)] "
   ]
  },
  {
   "attachments": {},
   "cell_type": "markdown",
   "metadata": {},
   "source": [
    "We load the `Heat1D` problem. Note in this case we do not pass an `exactSolution`. If no `exactSolution` is passed, the `Heat1D` test problem will create an exact solution."
   ]
  },
  {
   "cell_type": "code",
   "execution_count": null,
   "metadata": {},
   "outputs": [],
   "source": [
    "model, data, problemInfo = Heat1D(\n",
    "    dim=N,\n",
    "    endpoint=L,\n",
    "    max_time=tau_max,\n",
    "    field_type=\"Step\",\n",
    "    field_params={\"n_steps\": n_steps},\n",
    "    observation_grid_map=observation_nodes,\n",
    ").get_components()\n"
   ]
  },
  {
   "attachments": {},
   "cell_type": "markdown",
   "metadata": {},
   "source": [
    "Now let us plot the exact solution of this inverse problem and the exact and noisy data:"
   ]
  },
  {
   "cell_type": "code",
   "execution_count": null,
   "metadata": {},
   "outputs": [],
   "source": [
    "problemInfo.exactSolution.plot()\n",
    "problemInfo.exactData.plot()\n",
    "data.plot()\n",
    "plt.legend(['exact solution', 'exact data', 'noisy data']);"
   ]
  },
  {
   "attachments": {},
   "cell_type": "markdown",
   "metadata": {},
   "source": [
    "We then continue to create the Bayesian inverse problem (prior, data distribution and then posterior) with a prior of dimension = 4. "
   ]
  },
  {
   "cell_type": "code",
   "execution_count": null,
   "metadata": {},
   "outputs": [],
   "source": [
    "# Prior\n",
    "x = Gaussian(1, std**2, geometry=model.domain_geometry)\n",
    "\n",
    "# Data distribution\n",
    "sigma_noise = np.std(problemInfo.exactData - data)*np.ones(model.range_dim) # noise level\n",
    "y = Gaussian(mean=model(x), cov=sigma_noise**2, geometry=model.range_geometry)"
   ]
  },
  {
   "attachments": {},
   "cell_type": "markdown",
   "metadata": {},
   "source": [
    "And the posterior:"
   ]
  },
  {
   "cell_type": "code",
   "execution_count": null,
   "metadata": {},
   "outputs": [],
   "source": [
    "joint =  JointDistribution(y, x)\n",
    "posterior = joint(y=data)"
   ]
  },
  {
   "attachments": {},
   "cell_type": "markdown",
   "metadata": {},
   "source": [
    "We then sample the posterior using the Metropolis Hastings sampler (~40 seconds)"
   ]
  },
  {
   "cell_type": "code",
   "execution_count": null,
   "metadata": {},
   "outputs": [],
   "source": [
    "MySampler = MH(posterior, x0=np.ones(posterior.dim)) # x0 is the initial guess\n",
    "posterior_samples = MySampler.warmup(20000).get_samples()"
   ]
  },
  {
   "attachments": {},
   "cell_type": "markdown",
   "metadata": {},
   "source": [
    "Let's take a look at the posterior:"
   ]
  },
  {
   "cell_type": "code",
   "execution_count": null,
   "metadata": {},
   "outputs": [],
   "source": [
    "posterior_samples.plot_ci(95, exact=problemInfo.exactSolution)"
   ]
  },
  {
   "attachments": {},
   "cell_type": "markdown",
   "metadata": {},
   "source": [
    "We see that the credible interval is wider on the side of the domain where data is not available (the left side) and narrower as we get to the right side of the domain."
   ]
  },
  {
   "attachments": {},
   "cell_type": "markdown",
   "metadata": {},
   "source": [
    "## 5. ★ Parametrizing the unknown parameters via KL expansion <a class=\"anchor\" id=\"KL_expansion\"></a>"
   ]
  },
  {
   "attachments": {},
   "cell_type": "markdown",
   "metadata": {},
   "source": [
    "Here we explore the Bayesian inversion for a more general exact solution. We parametrize the Bayesian parameters using Karhunen–Loève (KL) expansion. This will represent the inferred heat initial profile as a linear combination of sine functions. \n",
    "\n",
    "$$u(\\xi_j,0) = \\sum_{i=0}^{N-2} \\left(\\frac{1}{(i+1)^\\gamma\\tau_\\mathrm{KL}}\\right)  x_i \\, \\text{sin}\\left(\\frac{\\pi}{N}(i+1)(j+\\frac{1}{2})\\right) + \\frac{(-1)^j}{2}\\left(\\frac{1}{N^\\gamma\\tau_\\mathrm{KL}}\\right)  x_{N-1}$$\n",
    "\n",
    "    \n",
    "where $\\xi_j$ is the $j^\\text{th}$ grid point (in a regular grid), $j=0, 1, 2, 3, ..., N-1$, $N$ is the number of nodes in the grid, $\\gamma$ is a decay rate, $\\tau_\\mathrm{KL}$ is a normalization constant, and $x_i$ are the expansion coefficients (the Bayesian parameters here). "
   ]
  },
  {
   "attachments": {},
   "cell_type": "markdown",
   "metadata": {},
   "source": [
    "Let's load the `Heat1D` test case and pass `field_type = 'KL'`, which behind the scenes will set the domain geometry of the model to be a KL expansion geometry (See [`KLExpansion`](https://cuqi-dtu.github.io/CUQIpy/api/_autosummary/cuqi.geometry/cuqi.geometry.KLExpansion.html#cuqi.geometry.KLExpansion) documentation for details): "
   ]
  },
  {
   "cell_type": "code",
   "execution_count": null,
   "metadata": {},
   "outputs": [],
   "source": [
    "N = 35\n",
    "model, data, problemInfo = Heat1D(\n",
    "    dim=N,\n",
    "    endpoint=L,\n",
    "    max_time=tau_max,\n",
    "    field_type=\"KL\"\n",
    ").get_components()\n"
   ]
  },
  {
   "attachments": {},
   "cell_type": "markdown",
   "metadata": {},
   "source": [
    "Now we inspect the `model`:"
   ]
  },
  {
   "cell_type": "code",
   "execution_count": null,
   "metadata": {},
   "outputs": [],
   "source": [
    "model"
   ]
  },
  {
   "attachments": {},
   "cell_type": "markdown",
   "metadata": {},
   "source": [
    "And the exact solution and the data:"
   ]
  },
  {
   "cell_type": "code",
   "execution_count": null,
   "metadata": {},
   "outputs": [],
   "source": [
    "problemInfo.exactSolution.plot()\n",
    "problemInfo.exactData.plot()\n",
    "data.plot()\n",
    "plt.legend(['exact solution', 'exact data', 'noisy data']);"
   ]
  },
  {
   "attachments": {},
   "cell_type": "markdown",
   "metadata": {},
   "source": [
    "Note that the exact solution here is a general signal that is not constructed from the basis functions. We define the prior $p(x)$ as an i.i.d multivariate Gaussian with variance $3^2$. We determined the choice of this variance value through trial and error approach to get a reasonable Bayesian reconstruction of the exact solution:"
   ]
  },
  {
   "cell_type": "code",
   "execution_count": null,
   "metadata": {},
   "outputs": [],
   "source": [
    "sigma_prior = 3*np.ones(model.domain_dim)\n",
    "x = Gaussian(mean, sigma_prior**2, geometry=model.domain_geometry)"
   ]
  },
  {
   "attachments": {},
   "cell_type": "markdown",
   "metadata": {},
   "source": [
    "We define the data distribution:"
   ]
  },
  {
   "cell_type": "code",
   "execution_count": null,
   "metadata": {},
   "outputs": [],
   "source": [
    "sigma_noise = np.std(problemInfo.exactData - data)*np.ones(model.range_dim) # noise level\n",
    "y = Gaussian(mean=model(x), cov=sigma_noise**2, geometry=model.range_geometry)"
   ]
  },
  {
   "attachments": {},
   "cell_type": "markdown",
   "metadata": {},
   "source": [
    "And the posterior distribution:"
   ]
  },
  {
   "cell_type": "code",
   "execution_count": null,
   "metadata": {},
   "outputs": [],
   "source": [
    "joint =  JointDistribution(y, x)\n",
    "posterior = joint(y=data)"
   ]
  },
  {
   "attachments": {},
   "cell_type": "markdown",
   "metadata": {},
   "source": [
    "We sample the posterior, here we use Component-wise Metropolis Hastings (~90 seconds):"
   ]
  },
  {
   "cell_type": "code",
   "execution_count": null,
   "metadata": {},
   "outputs": [],
   "source": [
    "MySampler = CWMH(posterior, x0=np.ones(N))\n",
    "posterior_samples = MySampler.warmup(2000).get_samples()"
   ]
  },
  {
   "attachments": {},
   "cell_type": "markdown",
   "metadata": {},
   "source": [
    "And plot the $95\\%$ credibility interval (you can try plotting different credibility intervals, e.g. $80\\%$) "
   ]
  },
  {
   "cell_type": "code",
   "execution_count": null,
   "metadata": {},
   "outputs": [],
   "source": [
    "posterior_samples.plot_ci(95, exact=problemInfo.exactSolution)"
   ]
  },
  {
   "attachments": {},
   "cell_type": "markdown",
   "metadata": {},
   "source": [
    "The credibility interval can have zero width at some locations where the upper and lower limits seem to intersect and switch order (uppers becomes lower and vice versa). To look into what actually happen here, we plot some samples:"
   ]
  },
  {
   "cell_type": "code",
   "execution_count": null,
   "metadata": {},
   "outputs": [],
   "source": [
    "posterior_samples_burnthin = posterior_samples.burnthin(0,10)\n",
    "for i, s in enumerate(posterior_samples_burnthin):\n",
    "    model.domain_geometry.plot(s)"
   ]
  },
  {
   "attachments": {},
   "cell_type": "markdown",
   "metadata": {},
   "source": [
    "The samples seem to paint a different picture than what the credibility interval plot shows. Note that the computed credibility interval above, is computed on the domain geometry parameter space, then converted to the function space for plotting. We can alternatively convert the samples to function values first, then compute and plot the credibility interval."
   ]
  },
  {
   "attachments": {},
   "cell_type": "markdown",
   "metadata": {},
   "source": [
    "Convert samples to function values:"
   ]
  },
  {
   "cell_type": "code",
   "execution_count": null,
   "metadata": {},
   "outputs": [],
   "source": [
    "funvals_samples = posterior_samples.funvals"
   ]
  },
  {
   "attachments": {},
   "cell_type": "markdown",
   "metadata": {},
   "source": [
    "Then plot the credibility interval computed from the function values:"
   ]
  },
  {
   "cell_type": "code",
   "execution_count": null,
   "metadata": {},
   "outputs": [],
   "source": [
    "funvals_samples.plot_ci(95, exact=problemInfo.exactSolution)"
   ]
  },
  {
   "attachments": {},
   "cell_type": "markdown",
   "metadata": {},
   "source": [
    "We can see that the credibility interval now reflects what the samples plot shows and does not have these locations where the upper and lower bounds intersect."
   ]
  },
  {
   "attachments": {},
   "cell_type": "markdown",
   "metadata": {},
   "source": [
    "Let's look at the effective sample size (ESS):"
   ]
  },
  {
   "cell_type": "code",
   "execution_count": null,
   "metadata": {},
   "outputs": [],
   "source": [
    "posterior_samples.compute_ess()"
   ]
  },
  {
   "attachments": {},
   "cell_type": "markdown",
   "metadata": {},
   "source": [
    "We note that the ESS varies considerably among the variables. We can view the trace plot for, let's say, the first and the second variables:"
   ]
  },
  {
   "cell_type": "code",
   "execution_count": null,
   "metadata": {},
   "outputs": [],
   "source": [
    "posterior_samples.plot_trace([0,1])"
   ]
  },
  {
   "attachments": {},
   "cell_type": "markdown",
   "metadata": {},
   "source": [
    "We note that the (as expected from the values of ESS) the chain quality of $x1$, which corresponds to the second coefficient in the KL expansion, is much better than that of the first variable $x0$. Low quality chain (where chain samples are highly correlated) indicates difficulty in exploring the corresponding parameter and possibly high sensitivity of the model to that particular parameter. Sampling methods that incorporate gradient information (which we do not explore in this notebook) are expected to work better in this situation. "
   ]
  },
  {
   "attachments": {},
   "cell_type": "markdown",
   "metadata": {},
   "source": [
    "A third way of looking at the credibility intervals, is to look at the expansion coefficients  $x_i$ credibility intervals. We plot the credibility intervals for these coefficients from both prior  and posterior samples by passing the flag `plot_par=True` to `plot_ci` function:"
   ]
  },
  {
   "attachments": {},
   "cell_type": "markdown",
   "metadata": {},
   "source": [
    "The prior:"
   ]
  },
  {
   "cell_type": "code",
   "execution_count": null,
   "metadata": {},
   "outputs": [],
   "source": [
    "plt.figure()\n",
    "x.sample(1000).plot_ci(95, plot_par=True)\n",
    "plt.xticks(np.arange(x.dim)[::5]);"
   ]
  },
  {
   "attachments": {},
   "cell_type": "markdown",
   "metadata": {},
   "source": [
    "The posterior:"
   ]
  },
  {
   "cell_type": "code",
   "execution_count": null,
   "metadata": {},
   "outputs": [],
   "source": [
    "posterior_samples.plot_ci(95, plot_par=True)\n",
    "plt.xticks(np.arange(x.dim)[::5]);"
   ]
  },
  {
   "attachments": {},
   "cell_type": "markdown",
   "metadata": {},
   "source": [
    "By comparing the two plots above, we see that the first few coefficients are inferred with higher certainty than the remaining coefficients. In parts, this is due to the nature of the Heat problem where high oscillatory initial heat features (corresponding to the higher modes in the expansion) will be smoothed out (lost) faster and thus are harder to retrieve based on measurements from the final solution.   "
   ]
  },
  {
   "cell_type": "markdown",
   "metadata": {},
   "source": []
  }
 ],
 "metadata": {
  "kernelspec": {
   "display_name": "Python 3.8.8 ('base')",
   "language": "python",
   "name": "python3"
  },
  "language_info": {
   "codemirror_mode": {
    "name": "ipython",
    "version": 3
   },
   "file_extension": ".py",
   "mimetype": "text/x-python",
   "name": "python",
   "nbconvert_exporter": "python",
   "pygments_lexer": "ipython3",
   "version": "3.12.5"
  },
  "vscode": {
   "interpreter": {
    "hash": "4ff4ac6af9578637e0e623c40bf41129eb04e2c9abec3a9480d43324f3a3fec8"
   }
  }
 },
 "nbformat": 4,
 "nbformat_minor": 4
}
