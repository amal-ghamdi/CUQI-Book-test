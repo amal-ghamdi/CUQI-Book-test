{
 "cells": [
  {
   "cell_type": "markdown",
   "id": "69d1d192",
   "metadata": {},
   "source": [
    "\n",
    "<div hidden>\n",
    "\n",
    "$\\gdef\\dd{\\mathrm{d}}$\n",
    "\n",
    "</div>\n",
    "\n",
    "<div hidden>\n",
    "\n",
    "$\\gdef\\abs#1{\\left\\vert#1\\right\\vert}$\n",
    "\n",
    "</div>\n",
    "\n",
    "<div hidden>\n",
    "\n",
    "$\\gdef\\ve#1{\\bm{#1}}$\n",
    "</div>\n",
    "\n",
    "<div hidden>\n",
    "\n",
    "$\\gdef\\mat#1{\\mathbf{#1}}$\n",
    "</div>\n"
   ]
  },
  {
   "cell_type": "markdown",
   "id": "f852081e",
   "metadata": {},
   "source": [
    "# Sampling with CUQIpy: five little stories\n",
    "\n"
   ]
  },
  {
   "cell_type": "code",
   "execution_count": null,
   "id": "c154a666",
   "metadata": {
    "tags": [
     "hide-cell"
    ]
   },
   "outputs": [],
   "source": [
    "from cuqi.distribution import DistributionGallery, Gaussian, JointDistribution\n",
    "from cuqi.testproblem import Poisson1D\n",
    "from cuqi.problem import BayesianProblem\n",
    "import cuqi\n",
    "import inspect\n",
    "import numpy as np\n",
    "import matplotlib.pyplot as plt\n",
    "from cuqi.sampler import MH, CWMH, ULA, MALA, NUTS\n",
    "import time\n",
    "import scipy.stats as sps\n",
    "from scipy.stats import gaussian_kde"
   ]
  },
  {
   "cell_type": "markdown",
   "id": "bd8072f2",
   "metadata": {},
   "source": [
    "## <font color=#CD853F>  The two targets, again </font>\n",
    "\n",
    "Here we will add the code for building the two targets that we discussed in the previous [notebook](https://cuqi-dtu.github.io/CUQI-Book/chapter03/sampling_with_cuqipy_two_target.html). The details of the two targets can be found in that notebook. After running the following (hidden) code cell, we will have the two targets ready for sampling:\n",
    "- The donut target `target_donut` (distribution)\n",
    "- The Poisson 1D target `target_poisson` (posterior)\n",
    "\n"
   ]
  },
  {
   "cell_type": "code",
   "execution_count": null,
   "id": "4660b006",
   "metadata": {
    "tags": [
     "hide-cell"
    ]
   },
   "outputs": [],
   "source": [
    "# The donut distribution \n",
    "target_donut = DistributionGallery(\"donut\")\n",
    "\n",
    "# The Poisson1D Bayesian problem\n",
    "dim = 201\n",
    "L = np.pi\n",
    "\n",
    "xs = np.array([0.2, 0.4, 0.6, 0.8])*L\n",
    "ws = 0.8\n",
    "sigma_s = 0.05\n",
    "def f(t):\n",
    "    s = np.zeros(dim-1)\n",
    "    for i in range(4):\n",
    "        s += ws * sps.norm.pdf(t, loc=xs[i], scale=sigma_s)\n",
    "    return s\n",
    "\n",
    "A, _, _ = Poisson1D(dim=dim, \n",
    "                    endpoint=L,\n",
    "                    field_type='KL',\n",
    "                    field_params={'num_modes': 10} ,\n",
    "                    map=lambda x: np.exp(x), \n",
    "                    source=f).get_components()\n",
    "sigma_x = 30\n",
    "x = Gaussian(0, sigma_x**2, geometry=A.domain_geometry)\n",
    "np.random.seed(12)\n",
    "x_true = x.sample()\n",
    "sigma_y = np.sqrt(0.001)\n",
    "y = Gaussian(A(x), sigma_y**2, geometry=A.range_geometry)\n",
    "y_obs = y(x=x_true).sample()\n",
    "joint = JointDistribution(y, x)\n",
    "target_poisson = joint(y=y_obs)"
   ]
  },
  {
   "cell_type": "markdown",
   "id": "1dec43e9",
   "metadata": {},
   "source": [
    "The in the following (hidden) code cell we again define the method `plot_pdf_1D` and `plot_pdf_2D` for plotting univariate and bi-variate pdfs. We have used these method before in [a previous notebook](https://cuqi-dtu.github.io/CUQI-Book/chapter01/Intro_example.html)."
   ]
  },
  {
   "cell_type": "code",
   "execution_count": null,
   "id": "22432e49",
   "metadata": {
    "tags": [
     "hide-cell"
    ]
   },
   "outputs": [],
   "source": [
    "def plot2d(val, x1_min, x1_max, x2_min, x2_max, N2=201, **kwargs):\n",
    "    # plot\n",
    "    pixelwidth_x = (x1_max-x1_min)/(N2-1)\n",
    "    pixelwidth_y = (x2_max-x2_min)/(N2-1)\n",
    "\n",
    "    hp_x = 0.5*pixelwidth_x\n",
    "    hp_y = 0.5*pixelwidth_y\n",
    "\n",
    "    extent = (x1_min-hp_x, x1_max+hp_x, x2_min-hp_y, x2_max+hp_y)\n",
    "\n",
    "    plt.imshow(val, origin='lower', extent=extent, **kwargs)\n",
    "    plt.colorbar()\n",
    "\n",
    "\n",
    "def plot_pdf_2D(distb, x1_min, x1_max, x2_min, x2_max, N2=201, **kwargs):\n",
    "    N2 = 201\n",
    "    ls1 = np.linspace(x1_min, x1_max, N2)\n",
    "    ls2 = np.linspace(x2_min, x2_max, N2)\n",
    "    grid1, grid2 = np.meshgrid(ls1, ls2)\n",
    "    distb_pdf = np.zeros((N2,N2))\n",
    "    for ii in range(N2):\n",
    "        for jj in range(N2):\n",
    "            distb_pdf[ii,jj] = np.exp(distb.logd(np.array([grid1[ii,jj], grid2[ii,jj]]))) \n",
    "    plot2d(distb_pdf, x1_min, x1_max, x2_min, x2_max, N2, **kwargs)\n",
    "\n",
    "def plot_pdf_1D(distb, min, max, **kwargs):\n",
    "    grid = np.linspace(min, max, 1000)\n",
    "    y = [distb.pdf(grid_point) for grid_point in grid]\n",
    "    plt.plot(grid, y, **kwargs)"
   ]
  },
  {
   "cell_type": "markdown",
   "id": "b28aaf92",
   "metadata": {},
   "source": [
    "## <font color=#CD853F>  Sampling the posterior </font>\n",
    "\n",
    "\n",
    "After defining the posterior distribution (or a target distribution in general) for the parameters of interest $\\mathbf{x}$, we can characterize the parameter and its uncertainty by samples from the posterior (target) distribution. However, in general the posterior (target) is not a simple distribution that we can easily sample from. Instead, we need to rely on Markov Chain Monte Carlo (MCMC) methods to sample from the posterior.\n",
    "\n",
    "In CUQIpy, a number of MCMC samplers are provided in the sampler module that can be used to sample probability distributions. All samplers have the same signature, namely `Sampler(target, ...)`, where `target` is the target CUQIpy distribution and `...` indicates any (optional) arguments.\n",
    "\n",
    "In CUQIpy we have a number of samplers available, that we can list using:"
   ]
  },
  {
   "cell_type": "code",
   "execution_count": null,
   "id": "ccb08b43",
   "metadata": {},
   "outputs": [],
   "source": [
    "[sampler for sampler in dir(cuqi.sampler) if not sampler.startswith('_')]"
   ]
  },
  {
   "cell_type": "markdown",
   "id": "7506b775",
   "metadata": {},
   "source": [
    "Note that there is also the experimental `mcmc` module that has a new implementation of the samplers. This module is still under development and is aim to replace the current `sampler` module. We can list the samplers in the `mcmc` module using:"
   ]
  },
  {
   "cell_type": "code",
   "execution_count": null,
   "id": "5f7484b4",
   "metadata": {},
   "outputs": [],
   "source": [
    "# This code needs the latest development version of cuqipy to run\n",
    "# [samplerNew for samplerNew in dir(cuqi.experimental.mcmc) if not samplerNew.startswith('_')]"
   ]
  },
  {
   "cell_type": "markdown",
   "id": "cdb6d506",
   "metadata": {},
   "source": [
    "## <font color=#CD853F> Story 1 - It pays off to adapt: Comparing Metropolis Hastings (MH) with and without adaptation </font>\n",
    "\n",
    "- In the class, you learned about MH method.\n",
    "- In MH, for each iteration, a new sample is proposed based on the current sample (essintially adding a random perturbation to the corrent sample).\n",
    "- Then the porposed sample is accepted or rejected based on the acceptance probability: $\\min\\left(1, \\frac{p(\\mathbf{x}_{k+1})q(\\mathbf{x}_k|\\mathbf{x}_{k+1})}{p(\\mathbf{x}_k)q(\\mathbf{x}_{k+1}|\\mathbf{x}_k)}\\right)$, where $p(\\mathbf{x})$ is the target distribution and $q(\\mathbf{x}|\\mathbf{y})$ is the proposal distribution.\n",
    "- Here we test the MH method with and without adaptation.\n",
    "- For adaptation, MH uses vanishing adaptation to set the step size (scale) to achieve a desired acceptance rate (0.234 in this case).\n",
    "\n",
    "Let us sample the `target_donut` with a fixed `scale`. We first set up the number of samples, number of burn-in samples, and the fixed scale."
   ]
  },
  {
   "cell_type": "code",
   "execution_count": null,
   "id": "990991b6",
   "metadata": {},
   "outputs": [],
   "source": [
    "Ns = 10000 # Number of samples\n",
    "Nb = 0 # Number of burn-in samples\n",
    "scale = 0.05 # Fixed step size \"scale\""
   ]
  },
  {
   "cell_type": "markdown",
   "id": "a9048607",
   "metadata": {},
   "source": [
    "We create the `MH` sampler with the target distribution `target_donut`, the scale `scale` and an initial sample `x0`."
   ]
  },
  {
   "cell_type": "code",
   "execution_count": null,
   "id": "70e4dd56",
   "metadata": {},
   "outputs": [],
   "source": [
    "MH_sampler = MH(target_donut, scale=scale, x0=np.array([0,0]))"
   ]
  },
  {
   "cell_type": "markdown",
   "id": "e192db14",
   "metadata": {},
   "source": [
    "We sample using `sample` method:"
   ]
  },
  {
   "cell_type": "code",
   "execution_count": null,
   "id": "bbcf6824",
   "metadata": {
    "tags": [
     "scroll-output"
    ]
   },
   "outputs": [],
   "source": [
    "MH_fixed_samples = MH_sampler.sample(Ns, Nb)"
   ]
  },
  {
   "cell_type": "markdown",
   "id": "7d04c0de",
   "metadata": {},
   "source": [
    "The samples are stored in a `Samples` object that is returned by the `sample` method. Let us visualize the samples using the `plot_pair` method, along with the density of the target distribution using the `plot_pdf_2D` method:"
   ]
  },
  {
   "cell_type": "code",
   "execution_count": null,
   "id": "688e66a9",
   "metadata": {},
   "outputs": [],
   "source": [
    "plot_pdf_2D(target_donut, -4, 4, -4, 4)\n",
    "MH_fixed_samples.plot_pair(ax=plt.gca())"
   ]
  },
  {
   "cell_type": "markdown",
   "id": "769c1e4a",
   "metadata": {},
   "source": [
    "**Observations**\n",
    "- The samples captures only part of the target distribution.\n",
    "- Once the chain reaches the high density region, it stays there.\n",
    "- The samples starts at the center and takes some time to move to the donut shape. This part of the chain is the burn-in phase."
   ]
  },
  {
   "cell_type": "markdown",
   "id": "5f60bed7",
   "metadata": {},
   "source": [
    "##### <font color=#8B4513> Exercise: </font>\n",
    "- In CUQIpy we can remove the burin in in two ways. The first approach is to set Nb to the number of samples you want to remove. The second approach is after you already have the samples, you can use the `Samples` object `burnthin` method which removes the burn-in and applies thinning if the user asked for it. Try the second approach to remove a burn-in of size 1500 samples and plot the samples again (same as above, visualize both the density using `plot_pdf_2D` and the samples using the `plot_pair` method).\n",
    "- Try sampling with another scale (much smaller 0.005 and much larger 1) and visualize the samples, how does that affect the samples and the acceptance rate, and why."
   ]
  },
  {
   "cell_type": "code",
   "execution_count": null,
   "id": "ae1cecee",
   "metadata": {},
   "outputs": [],
   "source": [
    "# your code here\n"
   ]
  },
  {
   "cell_type": "markdown",
   "id": "34a5827e",
   "metadata": {},
   "source": [
    "Now we try the solving the same problem with adaptation. We make sure to set the scale to the previous value 0.05."
   ]
  },
  {
   "cell_type": "code",
   "execution_count": null,
   "id": "8aaec45f",
   "metadata": {},
   "outputs": [],
   "source": [
    "MH_sampler.scale = 0.05"
   ]
  },
  {
   "cell_type": "markdown",
   "id": "5432617a",
   "metadata": {},
   "source": [
    "Then we sample this time using `sample_adapt` method which adapts the step size. Note that the adaptation happen during the burin-in phase so we need to set `Nb` to some large value to see the effect of adaptation."
   ]
  },
  {
   "cell_type": "code",
   "execution_count": null,
   "id": "4d6c1a6f",
   "metadata": {
    "tags": [
     "scroll-output"
    ]
   },
   "outputs": [],
   "source": [
    "Ns = 8500\n",
    "Nb = 1500\n",
    "MH_adapted_samples = MH_sampler.sample_adapt(Ns, Nb)"
   ]
  },
  {
   "cell_type": "markdown",
   "id": "d76e3e26",
   "metadata": {},
   "source": [
    "Here we visualize the results (both the ones with and without adaptation). We set the color of the samples and the transparency `alpha` using the arviz argument `scatter_kwargs`:"
   ]
  },
  {
   "cell_type": "code",
   "execution_count": null,
   "id": "a22f160e",
   "metadata": {},
   "outputs": [],
   "source": [
    "plot_pdf_2D(target_donut, -4, 4, -4, 4)\n",
    "MH_fixed_samples.plot_pair(ax=plt.gca(),scatter_kwargs={'c':'b', 'alpha':0.3})\n",
    "MH_adapted_samples.plot_pair(ax=plt.gca(),scatter_kwargs={'c':'r', 'alpha':0.3})"
   ]
  },
  {
   "cell_type": "markdown",
   "id": "7fa15304",
   "metadata": {},
   "source": [
    "##### <font color=#8B4513> Exercise: </font>\n",
    "- What do you notice about the acceptance rate and the scale in the case with adaptation compared to the previous case. \n",
    "- Time the two sampling methods, which one is faster and by what factor?\n",
    "- Compute the effective sample size for both cases. Note that you can use `compute_ess` method of the `Samples` object to compute the effective sample size. Which one is larger.\n",
    "- Scale the ESS by the time so that you have the ESS per second. Which one is larger? Does it pay off to use adaptation?\n"
   ]
  },
  {
   "cell_type": "code",
   "execution_count": null,
   "id": "dfae5050",
   "metadata": {},
   "outputs": [],
   "source": [
    "# your code here\n",
    "\n"
   ]
  },
  {
   "cell_type": "markdown",
   "id": "4e7658f1",
   "metadata": {},
   "source": [
    "Let us plot the chains for the two cases, removing the burin-in from the fixed scale case:"
   ]
  },
  {
   "cell_type": "code",
   "execution_count": null,
   "id": "c34e5b8e",
   "metadata": {},
   "outputs": [],
   "source": [
    "MH_fixed_samples.burnthin(Nb).plot_trace()\n",
    "MH_adapted_samples.plot_trace()"
   ]
  },
  {
   "cell_type": "markdown",
   "id": "2809b101",
   "metadata": {},
   "source": [
    "**Notes**\n",
    "\n",
    "- The chains in the second case (with adaptation) has much better mixing compared to the first case (closer to a fuzzy warm shape).\n",
    "- The estimate density of the target distribution is much better in the second case, captures the 2 modes."
   ]
  },
  {
   "cell_type": "markdown",
   "id": "884c0a77",
   "metadata": {},
   "source": [
    "We can also use `plot_pair` with additional arviz arguments `kind`, `kde_kwargs`, and `marginals` to visualize the marginals and the kernel density estimate of the target distribution. Let us do this for the two cases:"
   ]
  },
  {
   "cell_type": "code",
   "execution_count": null,
   "id": "53d837fd",
   "metadata": {},
   "outputs": [],
   "source": [
    "MH_adapted_samples.plot_pair(kind=[\"scatter\", \"kde\"], kde_kwargs={\"fill_last\": False}, marginals=True)\n",
    "MH_fixed_samples.plot_pair(kind=[\"scatter\", \"kde\"], kde_kwargs={\"fill_last\": False}, marginals=True)"
   ]
  },
  {
   "cell_type": "markdown",
   "id": "87dea07b",
   "metadata": {},
   "source": [
    "It is clear from these figures how using adaptation of the step size is very beneficial to capture the target distribution in this scenario."
   ]
  },
  {
   "cell_type": "markdown",
   "id": "1af7c582",
   "metadata": {},
   "source": [
    "##  <font color=#CD853F> Story 2 - Not all unkowns are created equal: Component-wise Metropolis Hastings CWMH </font>"
   ]
  },
  {
   "cell_type": "markdown",
   "id": "93ba88b9",
   "metadata": {},
   "source": [
    "To get to the next sample, CWMH updates the components of the current sample one at a time and applies the accept/reject step for each component. Updating the scale happens for each component separately depending on the acceptance rate of the component.\n",
    "\n",
    "Let us test sampling the Poisson problem target with CWMH. We fix the seed for reproducibility and set the number of samples, burn-in samples, and the scale."
   ]
  },
  {
   "cell_type": "code",
   "execution_count": null,
   "id": "a8734156",
   "metadata": {},
   "outputs": [],
   "source": [
    "np.random.seed(0) # Fix the seed for reproducibility\n",
    "scale = 0.06\n",
    "Ns = 500\n",
    "Nb = 500"
   ]
  },
  {
   "cell_type": "markdown",
   "id": "35174b07",
   "metadata": {},
   "source": [
    "For comparison, we sample the Poisson problem target with the MH sampler first:"
   ]
  },
  {
   "cell_type": "code",
   "execution_count": null,
   "id": "d7e3260d",
   "metadata": {
    "tags": [
     "scroll-output"
    ]
   },
   "outputs": [],
   "source": [
    "MH_sampler = MH(target_poisson, scale = scale, x0=np.ones(target_poisson.dim))\n",
    "MH_samples = MH_sampler.sample_adapt(Ns, Nb)"
   ]
  },
  {
   "cell_type": "markdown",
   "id": "2e800053",
   "metadata": {},
   "source": [
    "Then we create a `CWMH` sampler with the target distribution `target_poisson`, the scale `scale` and an initial sample `x0` and sample from it."
   ]
  },
  {
   "cell_type": "code",
   "execution_count": null,
   "id": "1a7e8e3a",
   "metadata": {
    "tags": [
     "scroll-output"
    ]
   },
   "outputs": [],
   "source": [
    "CWMH_sampler = CWMH(target_poisson, scale = scale, x0=np.ones(target_poisson.dim))\n",
    "CWMH_samples = CWMH_sampler.sample_adapt(Ns, Nb)"
   ]
  },
  {
   "cell_type": "markdown",
   "id": "4031b338",
   "metadata": {},
   "source": [
    "Note that we use adaptation in both cases. Let us visualize the credible intervals in both cases: for `MH`"
   ]
  },
  {
   "cell_type": "code",
   "execution_count": null,
   "id": "4dc6a9f9",
   "metadata": {},
   "outputs": [],
   "source": [
    "MH_samples.plot_ci(exact=x_true)"
   ]
  },
  {
   "cell_type": "markdown",
   "id": "c51d3b73",
   "metadata": {},
   "source": [
    "And for `CWMH`"
   ]
  },
  {
   "cell_type": "code",
   "execution_count": null,
   "id": "9a91e0c4",
   "metadata": {},
   "outputs": [],
   "source": [
    "CWMH_samples.plot_ci(exact=x_true)"
   ]
  },
  {
   "cell_type": "markdown",
   "id": "c32dd531",
   "metadata": {},
   "source": [
    "##### <font color=#8B4513> Exercise: </font>\n",
    "- We mentioned in the previous [notebook](https://cuqi-dtu.github.io/CUQI-Book/chapter03/sampling_with_cuqipy_two_target.html) that the credible interval (CI) visualized here is computed on the KL coefficients and then mapped to the function values (through computing the linear combination of the KL basis weighted by the KL coefficients and applying the map $x \\rightarrow e^x $). We are interested in mapping all the samples to the function values and then computing the credible interval. To achieve this in CUQIpy, one can use the property `funvals` of the `Samples` object. This property returns the function values of the samples wrapped in another `Samples` object. Use this property to create the `Samples` objects of function values `MH_samples_funvals` and `CWMH_samples_funvals` and then compute the credible interval on these new `Samples` object. Do this for both cases, the `MH` and the `CWMH` cases. Which sampler resulted in samples with a better credible interval?\n",
    "\n",
    "- Which approach of visualizing the credible interval do you prefer (mapping then computing the CI or the other way around)? Why?\n",
    "\n",
    "- Visualize the credible interval for both cases in the coefficient space. To achieve this in CUQIpy, pass the argument `plot_par=True` to the `plot_ci` method. What do you notice? what do you observe about the credible intervals in the coefficient space as the coefficient index increases? Hint: use the original `MH_samples` and `CWMH_samples` objects and not the ones converted to function values. Which sampler performs better in the coefficient space?\n",
    "\n",
    "\n",
    "- Plot the effictive sample size for both cases in the same plot (where the $x-\\text{axis}$ is the sample index and the $y-\\text{axis}$ is the effective sample size). What do you notice? Hint: use the `compute_ess` method of the `Samples` object to compute the effective sample size.\n",
    "\n",
    "- Plot the sampler scale for both cases in the same plot (the $x-\\text{axis}$ is the sample index and the $y-\\text{axis}$ is the scale). What do you notice? Hint: you can use `CWMH_sampler.scale` and `MH_sampler.scale` to get the scale for each sampler. Keep in mind that the scale for the `MH` sampler is the same for all components."
   ]
  },
  {
   "cell_type": "code",
   "execution_count": null,
   "id": "26c3dee4",
   "metadata": {},
   "outputs": [],
   "source": [
    "# your code here\n"
   ]
  },
  {
   "cell_type": "markdown",
   "id": "212b92d8",
   "metadata": {},
   "source": [
    "##  <font color=#CD853F> Story 3 -  May the force guide you: Unadjusted Langevin algorithm (ULA)  </font>\n"
   ]
  },
  {
   "cell_type": "markdown",
   "id": "a695a432",
   "metadata": {},
   "source": [
    "* In the Unadjusted Langevin algorithm (ULA), new states are proposed using (overdamped) Langevin dynamics.\n",
    "\n",
    "* Let $p$ denote a probability density on $\\mathbb{R}^d$, from which it is desired to draw an ensemble of i.i.d. samples. We consider the overdamped Langevin Itô diffusion\n",
    " \n",
    "$$\n",
    "\\begin{equation*}\n",
    "\\dfrac{\\mathrm{d}\\boldsymbol{x}_t}{\\mathrm{d} t} = \\dfrac{1}{2}\\nabla\\log p(\\boldsymbol{x}_t) + \\dfrac{\\mathrm{d} W_t}{\\mathrm{d} t},\n",
    "\\end{equation*}\n",
    "$$\n",
    "\n",
    "driven by the time derivative of a standard Brownian motion $W$ and force given as gradient of a potential $\\log p(\\boldsymbol{x}_t)$.\n",
    "\n",
    "* In the limit, as $t\\to\\infty$, the probability distribution of $X(t)$ approaches a stationary distribution, which is also invariant under the diffusion. It turns out that this distribution is $p$.\n",
    " \n",
    "* Approximate sample paths of the Langevin diffusion can be generated by the Euler--Maruyama method with a fixed time step $\\varepsilon>0$. We set $\\boldsymbol{x}_{0}$ and then recursively define an approximation to the true solution by\n",
    " \n",
    "$$\n",
    "\\begin{equation*}\n",
    "\\boldsymbol{x}_{k+1} := \\boldsymbol{x}_{k} + \\dfrac{\\varepsilon^2}{2} \\nabla \\log p(\\boldsymbol{x}_{k})+ \\varepsilon\\,\\boldsymbol{\\xi}_{k},\n",
    "\\end{equation*}\n",
    "$$\n",
    "\n",
    "where each $\\boldsymbol{\\xi}_k\\sim\\mathcal{N}(\\boldsymbol{0},\\boldsymbol{I}_d)$. "
   ]
  },
  {
   "cell_type": "markdown",
   "id": "8d8fa56a",
   "metadata": {},
   "source": [
    "Let us create the ULA sampler in CUQIpy with the target distribution `target_donuts`, a fixed scale `scale`, and an initial sample `x0`:"
   ]
  },
  {
   "cell_type": "code",
   "execution_count": null,
   "id": "320260ad",
   "metadata": {},
   "outputs": [],
   "source": [
    "ULA_sampler = ULA(target=target_donut, scale=0.065, x0=np.array([0,0]))"
   ]
  },
  {
   "cell_type": "markdown",
   "id": "42aa7e6c",
   "metadata": {},
   "source": [
    "We set the number of samples, and sample the target distribution using the `sample` method:"
   ]
  },
  {
   "cell_type": "code",
   "execution_count": null,
   "id": "acb129f2",
   "metadata": {
    "tags": [
     "scroll-output"
    ]
   },
   "outputs": [],
   "source": [
    "Ns = 1000\n",
    "ULA_samples = ULA_sampler.sample(Ns)"
   ]
  },
  {
   "cell_type": "markdown",
   "id": "95b2c06e",
   "metadata": {},
   "source": [
    "And visualize the samples using the `plot_pair` method:"
   ]
  },
  {
   "cell_type": "code",
   "execution_count": null,
   "id": "3b93fd44",
   "metadata": {},
   "outputs": [],
   "source": [
    "plot_pdf_2D(target_donut, -4, 4, -4, 4)\n",
    "ULA_samples.plot_pair(ax=plt.gca(), scatter_kwargs={'alpha': 1})"
   ]
  },
  {
   "cell_type": "markdown",
   "id": "6c9bf482",
   "metadata": {},
   "source": [
    "We note that the samples are all over the domain and do not capture the target distribution. This is because the ULA sampler will result in approximate (biased) distribution that as $\\varepsilon \\rightarrow 0$ will converge to $p(\\mathbf{x})$."
   ]
  },
  {
   "cell_type": "markdown",
   "id": "0a74d2a1",
   "metadata": {},
   "source": [
    "##### <font color=#8B4513> Exercise: </font>\n",
    "- Try a different scales 0.01 and visualize the samples in the same way as above. What do you notice about the samples? does it capture the target distribution?\n",
    "- Using the new scale 0.01, sample only 10 samples. Using this scale as well, generate 10 MH samples using a MH sampler `MH_10 = MH(target_donut, scale=0.01, x0=np.array([0, 0]))`. Visualize the samples of both samplers using the `plot_pair` method (along with the pdf plot `plot_pdf_2D(target_donut, -4, 4, -4, 4)`). What do you notice about the samples of the two samplers in terms of finding the high density region of the target distribution?\n",
    "- Try ULA for a univariate target distribution `x_uni = Gaussian(0, 1)`:\n",
    "    - Create an ULA sampler object `ULA_uni` for the target distribution `x_uni` with scale 1 and initial sample 0.\n",
    "    - Generate 40000 samples and store it in `ULA_samples_uni`.\n",
    "    - Compare the kernel density estimation (KDE) of the samples with the target distribution `x_uni` PDF. What do you notice? does the KDE capture the target distribution? Hint: to plot the PDE use the `plot_pdf_1D` method and to plot the KDE generate a KDE using scipy.stats gaussian_kde (already imported here) `kde_est = gaussian_kde(ULA_samples_uni.samples[0,:])`, then create a grid `grid = np.linspace(-4, 4, 1000)` and plot the KDE using `plt.plot(grid, kde_est(grid))`.\n",
    "    - Try a different scale 0.1 and repeat the above steps. What do you notice about the samples KDE? does it capture the target distribution?"
   ]
  },
  {
   "cell_type": "code",
   "execution_count": null,
   "id": "dbae55e9",
   "metadata": {},
   "outputs": [],
   "source": [
    "# your code here\n"
   ]
  },
  {
   "cell_type": "markdown",
   "id": "6ea6a8e6",
   "metadata": {},
   "source": [
    "##  <font color=#CD853F> Story 4: This is a bias we can fix - Metropolis-adjusted Langevin algorithm (MALA) </font>"
   ]
  },
  {
   "cell_type": "markdown",
   "id": "d2baae55",
   "metadata": {},
   "source": [
    "* In contrast to the Euler--Maruyama method for simulating the Langevin diffusion. MALA incorporates an additional step. We consider the above update rule as defining a proposal $\\tilde{\\boldsymbol{x}}$ for a new state:\n",
    " \n",
    "$$\n",
    "\\begin{equation}\n",
    "{\\tilde{\\boldsymbol{x}}}_{k+1}:=\\boldsymbol{x}_{k}+\\dfrac{\\varepsilon^2}{2} \\nabla \\log p(\\boldsymbol{x}_{k})+ \\varepsilon\\,\\boldsymbol{\\xi}_{k};\n",
    "\\end{equation}\n",
    "$$\n",
    "\n",
    "this proposal is accepted or rejected according to the MH algorithm.\n",
    "\n",
    "* That is, the acceptance probability is:\n",
    " \n",
    " $$\n",
    "\\begin{equation}\n",
    "\\alpha(\\boldsymbol{x}_k,{\\tilde{\\boldsymbol{x}}}_{k+1}) = \\min\\left(1,\\dfrac{p({\\tilde{\\boldsymbol{x}}}_{k+1})q(\\boldsymbol{x}_k \\,\\vert\\, {\\tilde{\\boldsymbol{x}}}_{k+1})} {p(\\boldsymbol{x}_k)q({\\tilde{\\boldsymbol{x}}}_{k+1} \\,\\vert\\, \\boldsymbol{x}_k)}\\right);\n",
    "\\end{equation}\n",
    "$$\n",
    "\n",
    "where the proposal has the form\n",
    "\n",
    "$$\n",
    "\\begin{equation}\n",
    "q(\\boldsymbol{x}' \\,\\vert\\, \\boldsymbol{x}) = \\mathcal{N}\\left(\\boldsymbol{x}';\\, \\boldsymbol{x}+\\dfrac{\\varepsilon^2}{2} \\nabla \\log p(\\boldsymbol{x}),\\varepsilon^2\\boldsymbol{I}_d\\right).\n",
    "\\end{equation}\n",
    "$$\n",
    "\n",
    "* The combined dynamics of the Langevin diffusion and the MH algorithm satisfy the detailed balance conditions necessary for the existence of a unique, invariant, stationary distribution.\n",
    "\n",
    "* For limited classes of target distributions, the optimal acceptance rate for this algorithm can be shown to be $0.574$; this can be used to tune $\\varepsilon$."
   ]
  },
  {
   "cell_type": "markdown",
   "id": "9f476b68",
   "metadata": {},
   "source": [
    "Let us get back to the uni-variate Gaussian target distribution `x_uni` that was suggested in the exercise of the previous section. We saw that when the scale was 1, the resulting samples did not capture the target distribution, but an appreciably different one, which shows the bias in ULA.\n",
    "\n",
    "We will now use MALA to sample from this target distribution. Let us create `x_uni` first:"
   ]
  },
  {
   "cell_type": "code",
   "execution_count": null,
   "id": "f3bdffe8",
   "metadata": {},
   "outputs": [],
   "source": [
    "x_uni = Gaussian(0, 1)"
   ]
  },
  {
   "cell_type": "markdown",
   "id": "b776c160",
   "metadata": {},
   "source": [
    "Then we create a MALA sampler object `MALA_uni` for the target distribution `x_uni` with scale 1 and initial sample 0 and sample from it:"
   ]
  },
  {
   "cell_type": "code",
   "execution_count": null,
   "id": "40f8d048",
   "metadata": {
    "tags": [
     "scroll-output"
    ]
   },
   "outputs": [],
   "source": [
    "MALA_uni = MALA(x_uni, scale=1, x0=0)\n",
    "\n",
    "Ns = 40000\n",
    "ULA_samples_uni = MALA_uni.sample(Ns)"
   ]
  },
  {
   "cell_type": "markdown",
   "id": "7b14a84e",
   "metadata": {},
   "source": [
    "Lastly, we visualize the KDE obtained from samples along with the target distribution PDF:"
   ]
  },
  {
   "cell_type": "code",
   "execution_count": null,
   "id": "6c6d9def",
   "metadata": {},
   "outputs": [],
   "source": [
    "plot_pdf_1D(x_uni, -4, 4, label='True')\n",
    "grid = np.linspace(-4, 4, 1000)\n",
    "kde_est = gaussian_kde(ULA_samples_uni.samples[0,:])\n",
    "plt.plot(grid, kde_est(grid), label='Estimated')\n",
    "plt.legend()"
   ]
  },
  {
   "cell_type": "markdown",
   "id": "453b6ed7",
   "metadata": {},
   "source": [
    "We notice in this case that the KDE of the samples captures the target distribution well. This is because MALA corrects the bias in ULA by using the MH acceptance step. "
   ]
  },
  {
   "cell_type": "markdown",
   "id": "da20c679",
   "metadata": {},
   "source": [
    "## <font color=#CD853F> Story 5 - Sampling goes nuts with NUTS: Hamiltonian Monte Carlo (HMC) and No-U-Turn Sampler (NUTS) </font>\n",
    "\n",
    "\n",
    "* Hamiltonian Monte Carlo (HMC): use Hamiltonian dynamics to simulate particle trajectories.\n",
    " \n",
    "* Define a Hamiltonian function in terms of the target distribution.\n",
    " \n",
    "* Introduce an auxiliary momentum variables, which typically have independent Gaussian distributions.\n",
    " \n",
    "* Hamiltonian dynamics operate on a $d$-dimensional position vector $\\boldsymbol{x}$, and a $d$-dimensional momentum vector $\\boldsymbol{r}$, so that the full state space has $2d$ dimensions. The system is described by a function of $\\boldsymbol{x}$ and $\\boldsymbol{r}$ known as the Hamiltonian $H(\\boldsymbol{x}, \\boldsymbol{r})$.\n",
    "\n",
    "* In HMC, one uses Hamiltonian functions that can be written as (closed-system dynamics):\n",
    " \n",
    "$$\n",
    "\\begin{equation}\n",
    "H(\\boldsymbol{x}, \\boldsymbol{r}) = \\underbrace{U(\\boldsymbol{x})}_{\\text{potential energy}} + \\underbrace{K(\\boldsymbol{r},\\boldsymbol{x})}_{\\text{kinetic energy}}.\n",
    "\\end{equation}\n",
    "$$\n",
    "\n",
    "* The potential energy is completely determined by the target distribution, indeed $U(\\boldsymbol{x})$ is equal to the logarithm of the target distribution $p$.\n",
    "\n",
    "$$\n",
    "\\begin{equation}\n",
    "H(\\boldsymbol{x}, \\boldsymbol{r}) = \\underbrace{\\text{log}(p(\\boldsymbol{x}))}_{\\text{potential energy}} + \\underbrace{K(\\boldsymbol{r},\\boldsymbol{x})}_{\\text{kinetic energy}}.\n",
    "\\end{equation}\n",
    "$$\n",
    "\n",
    "* The kinetic energy is unconstrained and must be specified by the implementation.\n",
    " \n",
    "* The Hamiltonian is an energy function for the joint state of position-momentum, and so defines a joint distribution for them as follows:\n",
    " \n",
    "$$\n",
    "\\begin{equation}\n",
    "p(\\boldsymbol{x}, \\boldsymbol{r}) = \\dfrac{1}{Z}\\exp\\left(-\\dfrac{H(\\boldsymbol{x}, \\boldsymbol{r})}{T}\\right) = \\dfrac{1}{Z}\\exp\\left(-{U(\\boldsymbol{x})}\\right)\\exp\\left(-{K(\\boldsymbol{r})}\\right).\n",
    "\\end{equation}\n",
    "$$\n",
    "\n",
    "* There are several ways to set the kinetic energy (density of the auxiliary momentum):\n",
    "  - Euclidean--Gaussian kinetic energy: using a fixed covariance $\\boldsymbol{M}$ estimated from the position parameters, $K(\\boldsymbol{r},\\boldsymbol{x}) = \\dfrac{1}{2} \\boldsymbol{r}^T\\boldsymbol{M}^{-1}\\boldsymbol{r} + \\log( \\abs{\\boldsymbol{M}}) + \\text{const}$.\n",
    "  - Riemann--Gaussian kinetic energy: unlike the Euclidean metric, varies as one moves through parameter space, $K(\\boldsymbol{r}, \\boldsymbol{x}) = \\dfrac{1}{2} \\boldsymbol{r}^T\\boldsymbol{\\Sigma}(\\boldsymbol{x})^{-1}\\boldsymbol{r} + \\dfrac{1}{2}\\log( \\abs{\\boldsymbol{\\Sigma}(\\boldsymbol{x})}) + \\text{const}$.\n",
    "  - Non-Gaussian kinetic energies.\n",
    "  \n",
    "* Hamilton's equations read as follows:\n",
    "\n",
    "$$\n",
    "\\begin{align}\n",
    "\\dfrac{\\mathrm{d} \\boldsymbol{x}}{\\dd t} &= +\\frac{\\partial H}{\\partial \\boldsymbol{r}} = \\boldsymbol{M}^{-1}\\boldsymbol{r} \\\\\n",
    "\\dfrac{\\mathrm{d} \\boldsymbol{r}}{\\mathrm{d} t} &= -\\dfrac{\\partial H}{\\partial \\boldsymbol{x}} = -\\dfrac{\\partial K}{\\partial \\boldsymbol{x}} - \\dfrac{\\partial U}{\\partial \\boldsymbol{x}},\n",
    "\\end{align}\n",
    "$$\n",
    "\n",
    "where $\\dfrac{\\partial U}{\\partial \\boldsymbol{x}} = \\dfrac{\\partial \\text{log}p(\\boldsymbol{x})}{\\partial \\boldsymbol{x}}$ is the gradient of the logarithm of the target density.\n",
    "\n",
    "* Discretizing Hamilton's equations:\n",
    "  - Symplectic integrators: the leapfrog method (the standard choice).\n",
    "  \n",
    "* Hamiltonian dynamics are time-reversible and volume-preserving.\n",
    "\n",
    "* The dynamics keep the Hamiltonian invariant. A Hamiltonian trajectory will (if simulated exactly) move within a hypersurface of constant probability density.\n",
    "\n",
    "* Each iteration of the HMC algorithm has two steps. Both steps leave the joint distribution of $p(\\boldsymbol{x}, \\boldsymbol{r})$ invariant (detailed balance).\n",
    "  - In the first step, new values of $\\boldsymbol{r}$ are randomly drawn from their Gaussian distribution, independently of the current $\\boldsymbol{x}$.\n",
    "  - In the second step, a Metropolis update is performed, using Hamiltonian dynamics to propose a new state.\n",
    "  - Optimal acceptance rate is 0.65. The step size $\\varepsilon$ and trajectory length $L$ need to be tuned.\n",
    "  "
   ]
  },
  {
   "cell_type": "markdown",
   "id": "4cf990a2",
   "metadata": {},
   "source": [
    "\n",
    "## No-U-Turn sampler <a class=\"anchor\" id=\"NUTS\"></a>\n",
    "\n",
    "* HMC is an algorithm that avoids the random walk behavior and sensitivity to correlated parameters that plague many MCMC methods by taking a series of steps informed by first-order gradient information.\n",
    "\n",
    "* However, HMC's performance is highly sensitive to two user-specified parameters: a step size $\\varepsilon$ and a desired number of steps $L$.\n",
    "\n",
    "*  The No-U-Turn Sampler (NUTS), an extension to HMC that eliminates the need to set a number of steps $L$, as well as the step-size.\n",
    "\n",
    "* We simulate in discrete time steps, and to make sure you explore the parameter space properly you simulate steps in one direction and the twice as many in the other direction, turn around again, etc. At some point you want to stop this and a good way of doing that is when you have done a U-turn (i.e., appear to have gone all over the place).\n",
    "\n",
    "* NUTS begins by introducing an auxiliary variable with conditional distribution. After re-sampling from this distribution, NUTS uses the leapfrog integrator to trace out a path forwards and backwards in fictitious time. First running forwards or backwards 1 step, then forwards or backwards 2 steps, then forwards or backwards 4 steps, etc.\n",
    "\n",
    "* This doubling process implicitly builds a balanced binary tree whose leaf nodes correspond to position-momentum state. The doubling is stopped when the subtrajectory from the leftmost to the rightmost nodes of any balanced subtree of the overall binary tree starts to double back on itself (i.e., the fictional particle starts to make a U-turn).\n",
    "\n",
    "* At this point NUTS stops the simulation and samples from among the set of points computed during the simulation, taking care to preserve detailed balance.\n",
    "\n",
    "* To adapt the step-size, NUTS uses a modified dual averaging algorithm during the burn-in phase.\n",
    "\n",
    "* The good thing about NUTS is that proposals are made based on the shape of the posterior and they can happend at the other end of the distribution. In contrast, MH makes proposals within a ball, and Gibbs sampling only moves along one (or at least very few) dimensions at a time."
   ]
  },
  {
   "cell_type": "markdown",
   "id": "9993e80b",
   "metadata": {},
   "source": [
    "Let us try the NUTS sampler in CUQIpy for the donut target distribution `target_donut`. We create the NUTS sampler object `NUTS_donut` for the target distribution `target_donut` with initial sample `[0, 0]`:"
   ]
  },
  {
   "cell_type": "code",
   "execution_count": null,
   "id": "6b3ad72c",
   "metadata": {},
   "outputs": [],
   "source": [
    "NUTS_donut = NUTS(target=target_donut, x0=np.array([0,0]))"
   ]
  },
  {
   "cell_type": "markdown",
   "id": "e2c5b5e3",
   "metadata": {},
   "source": [
    "We set the number of samples and burin-in and sample the target distribution: Note: for `NUTS` in CUQIpy, using `sample` or `sample_adapt` is the same. `NUTS` will always adapt if the number of burn-in samples is larger than 0 and the parameter `adapt_step_size` is passed as `True`, the later is a default behavior. "
   ]
  },
  {
   "cell_type": "code",
   "execution_count": null,
   "id": "fe712faa",
   "metadata": {
    "tags": [
     "scroll-output"
    ]
   },
   "outputs": [],
   "source": [
    "Ns = 100\n",
    "Nb = 10\n",
    "NUTS_donuts_samples = NUTS_donut.sample(Ns, Nb)"
   ]
  },
  {
   "cell_type": "markdown",
   "id": "e155c855",
   "metadata": {},
   "source": [
    "Let us visualize the samples using the `plot_pair` method over the target distribution PDF. We will also add connetions between the samples to visualize the path of the NUTS sampler:"
   ]
  },
  {
   "cell_type": "code",
   "execution_count": null,
   "id": "a43af541",
   "metadata": {},
   "outputs": [],
   "source": [
    "plot_pdf_2D(target_donut, -4, 4, -4, 4)\n",
    "NUTS_donuts_samples.plot_pair(ax=plt.gca(), scatter_kwargs={'alpha': 1, 'c': 'r'})\n",
    "plt.plot(NUTS_donuts_samples.samples[0,:], NUTS_donuts_samples.samples[1,:], 'r', alpha=0.5)"
   ]
  },
  {
   "cell_type": "markdown",
   "id": "3b5b5bac",
   "metadata": {},
   "source": [
    "We can see that NUTS can take rapid steps in exploring the target distribution. The samples are spread all over the domain and capture the target distribution efficiently."
   ]
  },
  {
   "cell_type": "markdown",
   "id": "e845d64c",
   "metadata": {},
   "source": [
    "##### <font color=#8B4513> Exercise: </font>\n",
    "\n",
    "- Compute the ESS of the NUTS samples and visualize the chain. What do you observe?\n",
    "- Generate a plot similar to the one above (showing samples and connections) but with samples generated from MALA using scale = 0.01. What do you notice about the samples of the two samplers in terms of exploring the target distribution?\n",
    "- Inspect how the step size in NUTS is adapted during the burn-in phase as well as the size of the tree that is built each step. Create a plot that visualizes both quantities over the sample index. What do you notice? Hint: you can use the properties `epsilon_list` and `num_tree_node_list` of the `NUTS_donut` object to get, respectively, the step size and the tree size lists for the samples.\n"
   ]
  },
  {
   "cell_type": "code",
   "execution_count": null,
   "id": "5afd7442",
   "metadata": {},
   "outputs": [],
   "source": [
    "# your code here"
   ]
  },
  {
   "cell_type": "markdown",
   "id": "4a2eeaf8",
   "metadata": {},
   "source": [
    "##### <font color=#8B4513> Exercise: </font>\n",
    "\n",
    "- Try the NUTS sampler for the Poisson problem target `target_poisson`:\n",
    "   - Enable finite difference approximation of the posterior gradient by calling `target_poisson.enable_FD()` \n",
    "   - Create a NUTS sampler object `NUTS_poisson` for the target distribution `target_poisson` and limit the depth of the tree to 7 (use `help(NUTS)` to learn about the smapler paramters).\n",
    "   - Sample the target distribution using the `sample` method setting Ns to 100 and Nb to 10 (sampling might take about 12 min).\n",
    "   - Visualize the credible interval of the samples along with the exact solution using the `plot_ci` method. How does the results compare to the MH and CWMH samplers we used earlier?\n",
    "   - Compute the ESS of the samples and comment on how they compare to the MH and CWMH cases.\n",
    "   - Can you guess roughly how many times the forward operator was called?"
   ]
  },
  {
   "cell_type": "code",
   "execution_count": null,
   "id": "100ec6eb",
   "metadata": {},
   "outputs": [],
   "source": [
    "# your code here\n",
    "np.random.seed(0) # Fix the seed for reproducibility\n"
   ]
  },
  {
   "cell_type": "markdown",
   "id": "341d04c9",
   "metadata": {},
   "source": [
    "We see that although the number of `NUTS` samples is much smaller than in the `CWMH` samples, the ESS is much larger. This however comes at a cost of computational time, which is due to building the tree structure in each iteration as well as the finite difference approximation of the gradient. Note that other approaches that are more computationally efficient can be used to compute the gradient of the target distribution, e.g. computing the adjoint-based gradient."
   ]
  }
 ],
 "metadata": {
  "jupytext": {
   "cell_metadata_filter": "-all",
   "main_language": "python",
   "notebook_metadata_filter": "-all"
  },
  "kernelspec": {
   "display_name": "Python 3",
   "language": "python",
   "name": "python3"
  },
  "language_info": {
   "codemirror_mode": {
    "name": "ipython",
    "version": 3
   },
   "file_extension": ".py",
   "mimetype": "text/x-python",
   "name": "python",
   "nbconvert_exporter": "python",
   "pygments_lexer": "ipython3",
   "version": "3.10.5"
  }
 },
 "nbformat": 4,
 "nbformat_minor": 5
}
