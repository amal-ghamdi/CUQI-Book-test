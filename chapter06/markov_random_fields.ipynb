{
 "cells": [
  {
   "cell_type": "markdown",
   "metadata": {},
   "source": [
    "#  Markov random fields in CUQIpy \n",
    "\n",
    "In some cases, we may want to generate samples that represent a field with some spatial correlation and smoothness properties.\n",
    "\n",
    "One `CUQIpy` distribution object that can be achieved for this purpose is the Gaussian Markov random field (GMRF) distribution {cite}`siden2020scalable`. This distribution assumes a Gaussian distribution on the differences between neighboring elements of $\\mathbf{x}$, i.e. in 1D:\n",
    "\n",
    "$$\n",
    "\\begin{align*}\n",
    "x_i - x_{i-1} \\sim \\mathrm{Gaussian}(0, d^{-1}), \\quad i=1, \\ldots, n,\n",
    "\\end{align*}\n",
    "$$\n",
    "\n",
    "where we purposely leave out the details on the boundary conditions for this notebook.\n",
    "\n",
    "To simplify the notation, we denote by $\\mathrm{GMRF}$ the distribution that induces this property on a vector $\\mathbf{x}$ defined by its mean and precision $d$. That is, the above can be written as\n",
    "\n",
    "$$\n",
    "\\begin{align*}\n",
    "\\mathbf{x} &\\sim \\mathrm{GMRF}(\\mathbf{0}, d),\n",
    "\\end{align*}\n",
    "$$\n",
    "\n",
    "\n",
    "with some choice of the precision say $d=50$. For more details on GMRF see the CUQIpy paper (the first part of the 2-part article) {cite}`Riis_2024`.\n",
    "\n",
    "The GMRF distribution is implemented in CUQIpy as [GMRF class](https://cuqi-dtu.github.io/CUQIpy/api/_autosummary/cuqi.distribution/cuqi.distribution.GMRF.html#cuqi.distribution.GMRF) and can be used as follows:\n",
    "\n"
   ]
  },
  {
   "cell_type": "code",
   "execution_count": null,
   "metadata": {
    "tags": [
     "hide-cell"
    ]
   },
   "outputs": [],
   "source": [
    "from cuqi.distribution import GMRF\n",
    "import numpy as np"
   ]
  },
  {
   "cell_type": "code",
   "execution_count": null,
   "metadata": {},
   "outputs": [],
   "source": [
    "# Define prior precision\n",
    "d = 50\n",
    "n = 200\n",
    "# Define GMRF prior (zero boundary conditions are the default)\n",
    "x_GMRF = GMRF(np.zeros(n), d)"
   ]
  },
  {
   "cell_type": "markdown",
   "metadata": {},
   "source": [
    "#### <font color=#8B4513>Exercise:</font>\n",
    "\n",
    "1. Can you generate and plot a realization (sample) of `x_GMRF`? Does the realization show spatial correlation?\n",
    "2. Create a Gaussian distribution `x_Gaussian` with mean `np.zeros(n)` and precision `50`, and compare a sample from the GMRF distribution with the Gaussian distribution by plotting them on the same plot. What do you observe?\n",
    "3. ★ Generate 100000 samples of `x_GMRF` and store them in variable `x_GMRF_samples`. Verify the following about the distribution of the differences. Focus only on verifying the difference between elements 30 and 31 as a representative example.\n",
    "    - The mean of the difference between elements 30 and 31 is close to 0.\n",
    "    - The variance of the difference between elements 30 and 31 is close to $1/50$.\n",
    "    - Hint: Use this line to create a `Samples` object of the differences `diff_30_31_samples = Samples((x_GMRF_samples.samples[31] - x_GMRF_samples.samples[30]).reshape(1, -1))`."
   ]
  },
  {
   "cell_type": "code",
   "execution_count": null,
   "metadata": {},
   "outputs": [],
   "source": [
    "# your code here\n"
   ]
  },
  {
   "cell_type": "markdown",
   "metadata": {},
   "source": [
    "#### <font color=#8B4513>Other Markov random fields in CUQIpy:</font>\n",
    "- Cauchy Markov Random Field (CMRF): [CMRF class](https://cuqi-dtu.github.io/CUQIpy/api/_autosummary/cuqi.distribution/cuqi.distribution.CMRF.html#cuqi.distribution.CMRF)\n",
    "- Laplace Markov Random Field (LMRF): [LMRF class](https://cuqi-dtu.github.io/CUQIpy/api/_autosummary/cuqi.distribution/cuqi.distribution.LMRF.html#cuqi.distribution.LMRF)\n",
    "\n",
    "`CMRF` and `LMRF` are similar to `GMRF` but with different distributions on the differences between neighboring elements in the signal, where `CMRF` assumes a Cauchy distribution and `LMRF` assumes a Laplace distribution. `LMRF` and `CMRF` are particularly useful in cases in which the signal to be inferred has sharp edges (jumps).\n",
    "\n",
    "This [1D deconvolution example](https://github.com/CUQI-DTU/Paper-CUQIpy-1-Core/blob/main/deconvolution1D/paper1_deconv1D_square.ipynb) from {cite}`Riis_2024`  illustrates and compares using the three Markov random fields in a 1D  problem."
   ]
  }
 ],
 "metadata": {
  "kernelspec": {
   "display_name": "Python 3",
   "language": "python",
   "name": "python3"
  },
  "language_info": {
   "codemirror_mode": {
    "name": "ipython",
    "version": 3
   },
   "file_extension": ".py",
   "mimetype": "text/x-python",
   "name": "python",
   "nbconvert_exporter": "python",
   "pygments_lexer": "ipython3",
   "version": "3.10.5"
  }
 },
 "nbformat": 4,
 "nbformat_minor": 2
}
