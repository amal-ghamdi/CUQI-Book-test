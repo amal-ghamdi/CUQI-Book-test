{
 "cells": [
  {
   "cell_type": "markdown",
   "metadata": {},
   "source": [
    "# Geometry object: representation, parametrization and mapping\n"
   ]
  },
  {
   "cell_type": "markdown",
   "metadata": {},
   "source": [
    "A single sample from a distribution (in vector form) can be interpreted in various ways. It can be, for example, a vector of function values at 1D or 2D grid points, an image, a vector of expansion coefficients, or a collection of variables, e.g. the temperature measurement at four cities: A, B, C, and D. \n",
    "\n",
    "In CUQIpy, the [`cuqi.geometry`](https://cuqi-dtu.github.io/CUQIpy/api/_autosummary/cuqi.geometry.html) module provides classes for different representations of a vector, e.g `Continuous1D`, `Continuous2D`, `Image2D`, and `Discrete`.     \n",
    "\n",
    "\n",
    "Here we explore geometry assignment for `Distributions`, `Samples` and `CUQIarray`.\n",
    "\n",
    "##### <font color=#8B4513> Geometry are used to specify variable representation </font>\n",
    "First let us, again, create 1000 samples from a 4-element distribution $y$:"
   ]
  },
  {
   "cell_type": "code",
   "execution_count": null,
   "metadata": {
    "tags": [
     "hide-cell"
    ]
   },
   "outputs": [],
   "source": [
    "from cuqi.distribution import Gaussian\n",
    "from cuqi.geometry import Image2D, Discrete, StepExpansion, MappedGeometry\n",
    "from cuqi.array import CUQIarray\n",
    "import numpy as np"
   ]
  },
  {
   "cell_type": "code",
   "execution_count": null,
   "metadata": {},
   "outputs": [],
   "source": [
    "mu = np.array([5, 3, 1, 0])\n",
    "sigma = np.array([1, 2, 3, 0.5])\n",
    "y = Gaussian(mean=mu, cov=sigma**2)\n",
    "y_samples = y.sample(1000)"
   ]
  },
  {
   "cell_type": "markdown",
   "metadata": {},
   "source": [
    "If no geometry is provided by the user, when creating a `Distribution` for example, CUQIpy will assign `_DefaultGeometry1D` (trivial geometry) to the distribution and the `Samples` produced from it."
   ]
  },
  {
   "cell_type": "code",
   "execution_count": null,
   "metadata": {},
   "outputs": [],
   "source": [
    "print(y.geometry)\n",
    "print(y_samples.geometry)"
   ]
  },
  {
   "cell_type": "markdown",
   "metadata": {},
   "source": [
    "As we saw, samples are plotted with line plot by default, which is due to how the `_DefaultGeometry1D` interprets the samples. "
   ]
  },
  {
   "cell_type": "code",
   "execution_count": null,
   "metadata": {},
   "outputs": [],
   "source": [
    "y_samples.plot([100,200,300])"
   ]
  },
  {
   "cell_type": "markdown",
   "metadata": {},
   "source": [
    "We may equip the distribution with a different geometry, either when creating it, or afterwards. Let us for example assign an `Image2D` geometry to the distribution `y`. First we create the `Image2D` geometry and we assume the shape of the image is $2\\times2$:"
   ]
  },
  {
   "cell_type": "code",
   "execution_count": null,
   "metadata": {},
   "outputs": [],
   "source": [
    "geom_image = Image2D((2,2))\n",
    "print(geom_image)"
   ]
  },
  {
   "cell_type": "markdown",
   "metadata": {},
   "source": [
    "We can check the number of parameters (parameter dimension) of the geometry:"
   ]
  },
  {
   "cell_type": "code",
   "execution_count": null,
   "metadata": {},
   "outputs": [],
   "source": [
    "geom_image.par_dim"
   ]
  },
  {
   "cell_type": "markdown",
   "metadata": {},
   "source": [
    "We can also check the shape of its representation (size of the image in this case) using the property `fun_shape`:"
   ]
  },
  {
   "cell_type": "code",
   "execution_count": null,
   "metadata": {},
   "outputs": [],
   "source": [
    "geom_image.fun_shape"
   ]
  },
  {
   "cell_type": "markdown",
   "metadata": {},
   "source": [
    "Now we equip the distribution `y` with this `Image2D` geometry."
   ]
  },
  {
   "cell_type": "code",
   "execution_count": null,
   "metadata": {},
   "outputs": [],
   "source": [
    "y.geometry = geom_image"
   ]
  },
  {
   "cell_type": "markdown",
   "metadata": {},
   "source": [
    "Check the geometry of `y`:"
   ]
  },
  {
   "cell_type": "code",
   "execution_count": null,
   "metadata": {},
   "outputs": [],
   "source": [
    "y.geometry"
   ]
  },
  {
   "cell_type": "markdown",
   "metadata": {},
   "source": [
    "With this distribution set up, we are ready to generate some samples"
   ]
  },
  {
   "cell_type": "code",
   "execution_count": null,
   "metadata": {},
   "outputs": [],
   "source": [
    "# call method to sample\n",
    "y_samples = y.sample(50)"
   ]
  },
  {
   "cell_type": "markdown",
   "metadata": {},
   "source": [
    "We can check that we have produced 50 samples, each of size 4:"
   ]
  },
  {
   "cell_type": "code",
   "execution_count": null,
   "metadata": {},
   "outputs": [],
   "source": [
    "y_samples.shape"
   ]
  },
  {
   "cell_type": "markdown",
   "metadata": {},
   "source": [
    "We plot a couple of samples:"
   ]
  },
  {
   "cell_type": "code",
   "execution_count": null,
   "metadata": {},
   "outputs": [],
   "source": [
    "y_samples.plot()   "
   ]
  },
  {
   "cell_type": "markdown",
   "metadata": {},
   "source": [
    "What if the 4 parameters in samples have a different meaning? For example, the four parameters might represent labelled quantities such as temperature measurement at four cities A, B, C, D. In this case, we can use a `Discrete` geometry:"
   ]
  },
  {
   "cell_type": "code",
   "execution_count": null,
   "metadata": {},
   "outputs": [],
   "source": [
    "geom_discrete = Discrete(['Temperature A', 'Temperature B', 'Temperature C', 'Temperature D'])\n",
    "print(geom_discrete)"
   ]
  },
  {
   "cell_type": "markdown",
   "metadata": {},
   "source": [
    "We can update the distribution's geometry and generate some new samples:"
   ]
  },
  {
   "cell_type": "code",
   "execution_count": null,
   "metadata": {},
   "outputs": [],
   "source": [
    "y.geometry = geom_discrete"
   ]
  },
  {
   "cell_type": "code",
   "execution_count": null,
   "metadata": {},
   "outputs": [],
   "source": [
    "y_samples = y.sample(100)"
   ]
  },
  {
   "cell_type": "markdown",
   "metadata": {},
   "source": [
    "The samples will now know about their new `Discrete` geometry and the plotting style will be changed:"
   ]
  },
  {
   "cell_type": "code",
   "execution_count": null,
   "metadata": {},
   "outputs": [],
   "source": [
    "y_samples.plot();"
   ]
  },
  {
   "cell_type": "markdown",
   "metadata": {},
   "source": [
    "The credibility interval plot style is also updated to show errorbars for the `Discrete` geometry:"
   ]
  },
  {
   "cell_type": "code",
   "execution_count": null,
   "metadata": {},
   "outputs": [],
   "source": [
    "y_samples.plot_ci(95, exact=mu)"
   ]
  },
  {
   "cell_type": "markdown",
   "metadata": {},
   "source": [
    "And similarly, in the chain plot, the legend reflects the particular labels:"
   ]
  },
  {
   "cell_type": "code",
   "execution_count": null,
   "metadata": {},
   "outputs": [],
   "source": [
    "y_samples.plot_chain([2,0])"
   ]
  },
  {
   "cell_type": "markdown",
   "metadata": {},
   "source": [
    "##### <font color=#8B4513> Geometry are used to parameterize the variables </font>\n",
    "\n",
    "In CUQIpy we have geometries that represents a particular parameterization of the variables (e.g. `StepExpansion`, `KLExpansion`, etc)\n",
    " For example, in the `StepExpansion` geometry, the parameters represent expansion coefficients for equidistance-step basis functions. You can read more about `StepExpansion` by typing `help(cuqi.geometry.StepExpansion)` in a the code cell below or by looking at the [documentation of `StepExpansion`](https://cuqi-dtu.github.io/CUQIpy/api/_autosummary/cuqi.geometry/cuqi.geometry.StepExpansion.html)\n",
    "\n",
    "Let us create a `StepExpansion` geometry, we first need to create a grid on which the step functions are defined, let us assume the grid is defined on the interval $[0,1]$:\n",
    "\n"
   ]
  },
  {
   "cell_type": "code",
   "execution_count": null,
   "metadata": {},
   "outputs": [],
   "source": [
    "grid = np.linspace(0, 1, 100)"
   ]
  },
  {
   "cell_type": "markdown",
   "metadata": {},
   "source": [
    "Then we create the `StepExpansion` geometry with 4 steps and assign it to the distribution `y`:"
   ]
  },
  {
   "cell_type": "code",
   "execution_count": null,
   "metadata": {},
   "outputs": [],
   "source": [
    "geom_step_expantion = StepExpansion(grid, n_steps=4)\n",
    "y.geometry = geom_step_expantion\n",
    "print(y.geometry)\n"
   ]
  },
  {
   "cell_type": "markdown",
   "metadata": {},
   "source": [
    "Let us samples the distribution `y` and plot the samples:"
   ]
  },
  {
   "cell_type": "code",
   "execution_count": null,
   "metadata": {},
   "outputs": [],
   "source": [
    "y_step_samples = y.sample(100)\n",
    "y_step_samples.plot()"
   ]
  },
  {
   "cell_type": "markdown",
   "metadata": {},
   "source": [
    "Note that the samples are now represented as expansion coefficients of the step functions.\n",
    "\n",
    "Examples of using `StepExpansion` and `KLExpansion` geometries in the context of a PDE parameterization for a heat 1D BIP can be found [here](https://github.com/CUQI-DTU/Paper-CUQIpy-2-PDE/blob/main/heat_1D/heat_1D_part1.ipynb), and [here](https://github.com/CUQI-DTU/Paper-CUQIpy-2-PDE/blob/main/heat_1D/heat_1D_part2.ipynb) {cite}`Alghamdi_2024`, respectively."
   ]
  },
  {
   "cell_type": "markdown",
   "metadata": {},
   "source": [
    "##### <font color=#8B4513> ★ Geometry are used to map the variables </font>\n",
    "\n",
    "In `CUQIpy`, we provide the `MappedGeometry` object which equips geometries with a mapping function that are applied to the variables, this mapping can also be viewed as parametrization. An example of a commonly used mapping in inverse problems is $e^x$ for unknown parameters $x$ to ensure positivity regardless of the value of $x$.\n",
    "\n",
    "Let us use the `MappedGeometry` to map the `StepExpansion` geometry we created earlier with the exponential function:"
   ]
  },
  {
   "cell_type": "code",
   "execution_count": null,
   "metadata": {},
   "outputs": [],
   "source": [
    "geom_step_expantion_mapped = MappedGeometry(geom_step_expantion, map=lambda x: np.exp(x))"
   ]
  },
  {
   "cell_type": "markdown",
   "metadata": {},
   "source": [
    "Let us again, assign the `MappedGeometry` to the distribution `y` and generate samples and plot them:"
   ]
  },
  {
   "cell_type": "code",
   "execution_count": null,
   "metadata": {},
   "outputs": [],
   "source": [
    "y.geometry = geom_step_expantion_mapped\n",
    "y_mapped_step_samples = y.sample(100)\n",
    "y_mapped_step_samples.plot()\n"
   ]
  },
  {
   "cell_type": "markdown",
   "metadata": {},
   "source": [
    "Note that the samples are still representing the expansion coefficients of the step functions, but the mapping function $e^x$ has been applied to the samples. All samples are now non-negative."
   ]
  },
  {
   "cell_type": "markdown",
   "metadata": {},
   "source": [
    "##### <font color=#8B4513> ★ Elaboration: Specifying a Geometry object for CUQIarray objects:</font>\n",
    "Geometries can also be specified for `CUQIarray`, the basic array structure in CUQIpy. Let us create a `CUQIarray` object with four parameters as follows: "
   ]
  },
  {
   "cell_type": "code",
   "execution_count": null,
   "metadata": {},
   "outputs": [],
   "source": [
    "q = CUQIarray([1,5,6,0])"
   ]
  },
  {
   "cell_type": "markdown",
   "metadata": {},
   "source": [
    "We look at the geometry property "
   ]
  },
  {
   "cell_type": "code",
   "execution_count": null,
   "metadata": {},
   "outputs": [],
   "source": [
    "q.geometry"
   ]
  },
  {
   "cell_type": "markdown",
   "metadata": {},
   "source": [
    "And then let us plot our variable `q`:"
   ]
  },
  {
   "cell_type": "code",
   "execution_count": null,
   "metadata": {},
   "outputs": [],
   "source": [
    "q.plot()"
   ]
  },
  {
   "cell_type": "markdown",
   "metadata": {},
   "source": [
    "We now choose a different interpretation for the variable `q` by changing its geometry to, for example, the `Image2D` geometry we created, and then we plot:"
   ]
  },
  {
   "cell_type": "code",
   "execution_count": null,
   "metadata": {},
   "outputs": [],
   "source": [
    "q.geometry = geom_image\n",
    "q.plot()"
   ]
  },
  {
   "cell_type": "markdown",
   "metadata": {},
   "source": [
    "Finally we set the `Discrete` geometry we created as the geometry for `q` and plot: "
   ]
  },
  {
   "cell_type": "code",
   "execution_count": null,
   "metadata": {},
   "outputs": [],
   "source": [
    "q.geometry = geom_discrete\n",
    "q.plot()"
   ]
  }
 ],
 "metadata": {
  "kernelspec": {
   "display_name": "Python 3",
   "language": "python",
   "name": "python3"
  },
  "language_info": {
   "codemirror_mode": {
    "name": "ipython",
    "version": 3
   },
   "file_extension": ".py",
   "mimetype": "text/x-python",
   "name": "python",
   "nbconvert_exporter": "python",
   "pygments_lexer": "ipython3",
   "version": "3.10.5"
  }
 },
 "nbformat": 4,
 "nbformat_minor": 2
}
