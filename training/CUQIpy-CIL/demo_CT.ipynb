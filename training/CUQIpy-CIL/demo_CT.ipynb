{
 "cells": [
  {
   "cell_type": "markdown",
   "id": "c8a6d1af-4a11-4ebe-a042-1cb7d1ee0136",
   "metadata": {},
   "source": [
    "# X-ray CT using the Core Imaging Library (CIL) and UQ through the CUQIpy-CIL plugin"
   ]
  },
  {
   "cell_type": "markdown",
   "id": "99cf022a-d1d1-4adf-bbe5-798f0853833f",
   "metadata": {},
   "source": [
    "The Core Imaging Library (https://www.ccpi.ac.uk/cil) is an open-source python library for processing and reconstruction of CT data (and other inverse problems).\n",
    "\n",
    "The CUQIpy-CIL plugin wraps CIL tools into CUQIpy, so that CUQIpy can be used to carry out UQ analysis on CT problems.\n",
    "\n",
    "This notebook first demonstrates how to use the test problems provided by the CUQIpy-CIL plugin and set up and run a CUQIpy UQ analysis.\n",
    "\n",
    "Next a real X-ray CT data set is loaded in, analyzed and reconstructed using CIL. \n",
    "\n",
    "Finally the real data case is set up using the CUQIpy-CIL plugin for UQ analysis.\n",
    "\n",
    "### Prerequisites\n",
    "Make sure you have the latest version of CIL and CUQIpy-CIL installed. See install instructions [here](https://github.com/CUQI-DTU/CUQIpy-CIL)\n",
    "\n",
    "The notebook assumes a general familiarity with CT."
   ]
  },
  {
   "cell_type": "markdown",
   "id": "c5047354-dc15-4416-a6d0-77bcc4c2524c",
   "metadata": {},
   "source": [
    "## 1. CT test problems in the CUQIpy-CIL plugin"
   ]
  },
  {
   "cell_type": "markdown",
   "id": "86998648-4e15-408d-8a72-94fdecf2ba68",
   "metadata": {},
   "source": [
    "We first load the tools we need, including the CUQIpy-CIL plugin `cuqipy_cil`:"
   ]
  },
  {
   "cell_type": "code",
   "execution_count": null,
   "id": "015163f6-784d-4ecb-93cf-f7d546508979",
   "metadata": {},
   "outputs": [],
   "source": [
    "import cuqi\n",
    "import cuqipy_cil\n",
    "import numpy as np\n",
    "import matplotlib.pyplot as plt\n",
    "\n",
    "# For the moment, we stick to CPU only mode using astra\n",
    "cuqipy_cil.config.PROJECTION_BACKEND = \"astra\"\n",
    "cuqipy_cil.config.PROJECTION_BACKEND_DEVICE = \"cpu\""
   ]
  },
  {
   "cell_type": "markdown",
   "id": "3aa18a92-3ee1-4e03-a7c5-d341e4b53345",
   "metadata": {},
   "source": [
    "Load a CT forward model and data from testproblem, which can be configured. A fan beam test problem is also available.\n",
    "\n",
    "We stick to a fairly small image size to reduce the computational time for this demo assuming most users will be running this on a laptop with no GPU."
   ]
  },
  {
   "cell_type": "code",
   "execution_count": null,
   "id": "895d9c84-540c-45e2-964f-f86ee64e975f",
   "metadata": {},
   "outputs": [],
   "source": [
    "A, y_data, info = cuqipy_cil.testproblem.ParallelBeam2DProblem.get_components(\n",
    "    im_size=(90, 90),\n",
    "    det_count=128,\n",
    "    angles=np.linspace(0, np.pi, 90),\n",
    "    phantom=\"shepp-logan\"\n",
    ")"
   ]
  },
  {
   "cell_type": "markdown",
   "id": "780b9969-cb8c-45c8-895b-d87f8402c702",
   "metadata": {},
   "source": [
    "We extract and display the exact solution image, to be reconstructed:"
   ]
  },
  {
   "cell_type": "code",
   "execution_count": null,
   "id": "042fd5fc-f4f0-455f-8d74-d2322b5fdb85",
   "metadata": {},
   "outputs": [],
   "source": [
    "x_exact = info.exactSolution\n",
    "x_exact.plot()"
   ]
  },
  {
   "cell_type": "markdown",
   "id": "73275f90-d77a-4dce-aa1e-9da85d483f11",
   "metadata": {},
   "source": [
    "The data is a sinogram, which we can plot:"
   ]
  },
  {
   "cell_type": "code",
   "execution_count": null,
   "id": "d825d358-b93e-4f0a-8d77-1f35fa5e5892",
   "metadata": {},
   "outputs": [],
   "source": [
    "y_data.plot()"
   ]
  },
  {
   "cell_type": "markdown",
   "id": "92cf60d2-235a-48d3-a4cb-e3dac710ae0b",
   "metadata": {},
   "source": [
    "Instead of loading the premade noisy sinogram from the test problem we could also have generated it ourselves by forward projecting it using the forward model (and adding noise):"
   ]
  },
  {
   "cell_type": "code",
   "execution_count": null,
   "id": "eed5ad86-a9c5-4969-906f-dbf9295e6760",
   "metadata": {},
   "outputs": [],
   "source": [
    "(A@x_exact).plot()"
   ]
  },
  {
   "cell_type": "markdown",
   "id": "20c92706-b9cf-483e-a64c-4b5e54efca3a",
   "metadata": {},
   "source": [
    "# 2. Setting up and solving a Bayesian inverse problem"
   ]
  },
  {
   "cell_type": "markdown",
   "id": "f745c345-79eb-4bae-93f4-8919e956e20c",
   "metadata": {},
   "source": [
    "As in previous notebooks we can set up a Bayesian model, assuming a Gaussian prior for the image and additive Gaussian noise: "
   ]
  },
  {
   "cell_type": "code",
   "execution_count": null,
   "id": "357c29a6-b5f1-410f-adb6-c169b1674c7a",
   "metadata": {},
   "outputs": [],
   "source": [
    "x = cuqi.distribution.GaussianCov(np.zeros(A.domain_dim), 1) # x ~ N(0, 1)\n",
    "y = cuqi.distribution.GaussianCov(A@x, 0.05**2)              # y ~ N(Ax, 0.05^2)"
   ]
  },
  {
   "cell_type": "markdown",
   "id": "e7df4f6a-cf70-481c-8bc2-5caf9f3d3f5d",
   "metadata": {},
   "source": [
    "From the two distributions we can either set up a JointDistribution, condition on the data and sample the posterior, or we can use the higher-level interface BayesianProblem which does all of that for us, including selecting a suitable sampler:"
   ]
  },
  {
   "cell_type": "code",
   "execution_count": null,
   "id": "aff8af5b-f6cb-41fb-92e4-891a42d43a3b",
   "metadata": {},
   "outputs": [],
   "source": [
    "BP = cuqi.problem.BayesianProblem(y, x)\n",
    "BP.set_data(y=y_data)"
   ]
  },
  {
   "cell_type": "markdown",
   "id": "de5e4272-ae28-4e00-8ed7-cb5f24a8a865",
   "metadata": {},
   "source": [
    "Sample from the posterior (this will take a few minutes depending on your hardware):"
   ]
  },
  {
   "cell_type": "code",
   "execution_count": null,
   "id": "388f1657-dcde-4845-853b-b627ef2f7155",
   "metadata": {},
   "outputs": [],
   "source": [
    "samples = BP.sample_posterior(200)"
   ]
  },
  {
   "cell_type": "markdown",
   "id": "9ce01ceb-8624-4fc4-aee9-d6f9ebe4f737",
   "metadata": {},
   "source": [
    "Analyze the samples:"
   ]
  },
  {
   "cell_type": "code",
   "execution_count": null,
   "id": "e6d24dcb-bc3c-450c-84f0-18774b95664a",
   "metadata": {},
   "outputs": [],
   "source": [
    "info.exactSolution.plot(); plt.title(\"Exact solution\"); plt.show()\n",
    "y_data.plot(); plt.title(\"Data\"); plt.show()\n",
    "samples.plot_mean(); plt.title(\"Posterior mean\"); plt.show()\n",
    "samples.plot_std(); plt.title(\"Posterior standard deviation\"); plt.show()"
   ]
  },
  {
   "cell_type": "markdown",
   "id": "43366675-2cfe-46ef-b622-8e2306711d27",
   "metadata": {},
   "source": [
    "Try instead of a Gaussian prior with an edge-preserving Cauchy difference prior:"
   ]
  },
  {
   "cell_type": "code",
   "execution_count": null,
   "id": "fd1b5b13-1f70-4a44-a31d-b7e6cf75c410",
   "metadata": {},
   "outputs": [],
   "source": [
    "x = cuqi.distribution.Cauchy_diff(location=np.zeros(A.domain_dim), scale=0.01, physical_dim=2)\n",
    "y = cuqi.distribution.GaussianCov(A@x, 0.05**2)              # y ~ N(Ax, 0.05^2)"
   ]
  },
  {
   "cell_type": "code",
   "execution_count": null,
   "id": "d70924c2-1c2b-44e1-a0d6-9abff724bd9f",
   "metadata": {},
   "outputs": [],
   "source": [
    "BP_C = cuqi.problem.BayesianProblem(y, x)\n",
    "BP_C.set_data(y=y_data)"
   ]
  },
  {
   "cell_type": "markdown",
   "id": "d05e3cd1",
   "metadata": {},
   "source": [
    "Sampling from this posterior may take a bit longer."
   ]
  },
  {
   "cell_type": "code",
   "execution_count": null,
   "id": "aaf4b8cb-791f-489a-a4c5-699eccab0cbe",
   "metadata": {},
   "outputs": [],
   "source": [
    "samples_C = BP_C.sample_posterior(200)"
   ]
  },
  {
   "cell_type": "code",
   "execution_count": null,
   "id": "0b20d9c4-0867-4340-9174-9c06db63758a",
   "metadata": {},
   "outputs": [],
   "source": [
    "samples_C.plot_mean(); plt.title(\"Posterior mean\"); plt.show()\n",
    "samples_C.plot_std(); plt.title(\"Posterior standard deviation\"); plt.show()"
   ]
  },
  {
   "cell_type": "markdown",
   "id": "e5fa5a0d-f61b-4a40-8a07-152e53b1d71d",
   "metadata": {},
   "source": [
    "# 3. Reconstructing a real X-ray CT dataset using CIL"
   ]
  },
  {
   "cell_type": "markdown",
   "id": "3e9e5149-f815-4a8a-8c79-ed38d4bc0dea",
   "metadata": {},
   "source": [
    "The last part of this notebook focuses on a real X-ray CT data set. The data set is of a Lotus root and is provided by the Finnish Inverse Problems Society. We will first show how to load in and explore this data and set it up for reconstruction using CIL (without CUQIpy). Afterwards it will be shown how to wrap this into CUQIpy and then the task is to carry out some UQ analysis for this data using CUQIpy.\n",
    "\n",
    "We first load the tools we are going to need:"
   ]
  },
  {
   "cell_type": "code",
   "execution_count": null,
   "id": "e8a45e03-2b09-4f8f-a38c-f2c0d632cd64",
   "metadata": {},
   "outputs": [],
   "source": [
    "import scipy\n",
    "import numpy as np\n",
    "from cil.framework import AcquisitionData, AcquisitionGeometry\n",
    "from cil.utilities.display import show2D, show_geometry\n",
    "from cil.recon import FDK\n",
    "from cil.plugins.astra.processors import FBP\n",
    "from cil.processors import Binner\n",
    "from cil.plugins.astra import ProjectionOperator\n",
    "from cil.optimisation.algorithms import CGLS"
   ]
  },
  {
   "cell_type": "markdown",
   "id": "f3981c7a-ae0f-4526-8e56-0293580aab04",
   "metadata": {},
   "source": [
    "Go to https://zenodo.org/record/1254204/ and download the file sinogram.mat to the same directory as this notebook. This is an X-ray data set of a Lotus root, see https://arxiv.org/pdf/1609.07299.pdf for details.\n",
    "\n",
    "The data can be loaded and cropped according to instructions in the original code accompanying the data:"
   ]
  },
  {
   "cell_type": "code",
   "execution_count": null,
   "id": "a590af88-34c0-48c6-b530-14ce62bd1c0a",
   "metadata": {},
   "outputs": [],
   "source": [
    "sinogram = scipy.io.loadmat('sinogram.mat')['sinogram'].T\n",
    "sinogram = sinogram[0:360, 0:2221]"
   ]
  },
  {
   "cell_type": "code",
   "execution_count": null,
   "id": "7d4c7a66-3c3a-4075-8a1c-d3dc73f428ec",
   "metadata": {},
   "outputs": [],
   "source": [
    "sinogram.shape"
   ]
  },
  {
   "cell_type": "markdown",
   "id": "e27e100d-78e6-4581-97e7-f615188511e7",
   "metadata": {},
   "source": [
    "The parameters needed to specify the scan geometry are provided in the orignal code `Lotus_FBP.m`"
   ]
  },
  {
   "cell_type": "code",
   "execution_count": null,
   "id": "330d4bd9-52d1-4e5a-bb61-93594e8df4cf",
   "metadata": {},
   "outputs": [],
   "source": [
    "num_angles = sinogram.shape[0]\n",
    "num_dets = sinogram.shape[1]\n",
    "source_center = 54\n",
    "source_detector = 63\n",
    "det_pixel_size = 12/2240"
   ]
  },
  {
   "cell_type": "markdown",
   "id": "14c20efa-7819-44df-8557-08ae6f3f0dc5",
   "metadata": {},
   "source": [
    "We specify the projection angles:"
   ]
  },
  {
   "cell_type": "code",
   "execution_count": null,
   "id": "ebaf0553-5a9f-4636-a0b0-c576755fc99d",
   "metadata": {},
   "outputs": [],
   "source": [
    "angles = np.linspace(0, 360, num_angles, endpoint=False)"
   ]
  },
  {
   "cell_type": "markdown",
   "id": "9497898a-4f25-46a9-9bac-51cdaea08583",
   "metadata": {},
   "source": [
    "We create using CIL commands the `AcquisitionGeometry` representing the scan geometry:"
   ]
  },
  {
   "cell_type": "code",
   "execution_count": null,
   "id": "d7fd4524-5f6b-478c-ac1b-d586cb15b648",
   "metadata": {},
   "outputs": [],
   "source": [
    "ag_full = (\n",
    "    AcquisitionGeometry.create_Cone2D(\n",
    "        source_position=[0, -source_center],\n",
    "        detector_position=[0, source_detector - source_center],\n",
    "    )\n",
    "    .set_panel(num_pixels=num_dets, pixel_size=det_pixel_size)\n",
    "    .set_angles(angles=-angles, angle_unit=\"degree\")\n",
    ")"
   ]
  },
  {
   "cell_type": "markdown",
   "id": "fbdeb419-3d25-4f3a-bbd4-0d9eba6bd8ee",
   "metadata": {},
   "source": [
    "And put it in the CIL data structure `AcquisitionData`:"
   ]
  },
  {
   "cell_type": "code",
   "execution_count": null,
   "id": "dd6b00df-e1d5-4b84-a8f9-da1144be0918",
   "metadata": {},
   "outputs": [],
   "source": [
    "data_full = AcquisitionData(sinogram, geometry=ag_full)"
   ]
  },
  {
   "cell_type": "markdown",
   "id": "cf24240b-e050-4166-9bcb-640eae2119f4",
   "metadata": {},
   "source": [
    "We can take a look at the data by the CIL plot show2D:"
   ]
  },
  {
   "cell_type": "code",
   "execution_count": null,
   "id": "c5281835-dc42-46ee-8c3a-5cedb8028787",
   "metadata": {},
   "outputs": [],
   "source": [
    "show2D(data_full)"
   ]
  },
  {
   "cell_type": "markdown",
   "id": "8bfef217-9c28-48e7-bdcd-54223b6fd8c7",
   "metadata": {},
   "source": [
    "We can take a look at the scan geometry using a CIL plot:"
   ]
  },
  {
   "cell_type": "code",
   "execution_count": null,
   "id": "ef583793-7db5-4d41-920b-12ad51343c03",
   "metadata": {},
   "outputs": [],
   "source": [
    "show_geometry(ag_full)"
   ]
  },
  {
   "cell_type": "markdown",
   "id": "183b2e15-3d75-41e3-bb95-713fc14ef198",
   "metadata": {},
   "source": [
    "Before proceeding we provide the opportunity to downsample the data to make experiments run faster. Choose an integer factor for the angles and the horizontal detector pixel dimensions:"
   ]
  },
  {
   "cell_type": "code",
   "execution_count": null,
   "id": "b5daed96-d947-4177-af3e-4e3f4fec56cf",
   "metadata": {},
   "outputs": [],
   "source": [
    "ds_angle = 1\n",
    "ds_horizontal = 10"
   ]
  },
  {
   "cell_type": "code",
   "execution_count": null,
   "id": "1ebd646c-6a74-49d7-911c-ddad63cf47f9",
   "metadata": {},
   "outputs": [],
   "source": [
    "data = Binner(roi={'angle':(0,360,ds_angle),'horizontal':(0,2221,ds_horizontal)})(data_full)\n",
    "print(data)"
   ]
  },
  {
   "cell_type": "markdown",
   "id": "8e90a35b-67bc-42f9-bdf7-8a8fddc1a48e",
   "metadata": {},
   "source": [
    "We extract the acquisition geometry of the downsampled data and can specify the corresponding geometry of the image to be reconstructed onto, here the default choice:"
   ]
  },
  {
   "cell_type": "code",
   "execution_count": null,
   "id": "2731d240-9484-4211-945b-75204caee9a4",
   "metadata": {},
   "outputs": [],
   "source": [
    "ag = data.geometry\n",
    "print(ag)"
   ]
  },
  {
   "cell_type": "code",
   "execution_count": null,
   "id": "21d98af8-ff34-4d64-abed-ea1fc2dca144",
   "metadata": {},
   "outputs": [],
   "source": [
    "ig = ag.get_ImageGeometry()\n",
    "print(ig)"
   ]
  },
  {
   "cell_type": "markdown",
   "id": "b02695cb-5c4f-4394-91c2-44de91e4b7a1",
   "metadata": {},
   "source": [
    "Now we can use CIL reconstruction tools. We specify the CIL forward model and use the CGLS algorithm for a basic early-stopping least squares reconstruction:"
   ]
  },
  {
   "cell_type": "code",
   "execution_count": null,
   "id": "137d2b57-db50-4857-8386-abb4a0b3d481",
   "metadata": {},
   "outputs": [],
   "source": [
    "AP = ProjectionOperator(ig, ag, device='cpu')"
   ]
  },
  {
   "cell_type": "code",
   "execution_count": null,
   "id": "8cd83d07-dba4-41dc-925f-039855f4b835",
   "metadata": {},
   "outputs": [],
   "source": [
    "cgls = CGLS(operator=AP, data=data, tolerance=-1, max_iteration=1000)"
   ]
  },
  {
   "cell_type": "code",
   "execution_count": null,
   "id": "925d0c24-ba56-442b-bfac-21a2d764db97",
   "metadata": {},
   "outputs": [],
   "source": [
    "cgls.run(30)"
   ]
  },
  {
   "cell_type": "markdown",
   "id": "5fe98fce-31ed-4492-a698-4b50d377a0ac",
   "metadata": {},
   "source": [
    "We can show the reconstruction, which is held in the reconstruction algorithm's `solution` attribute, using the CIL `show2D` plot:"
   ]
  },
  {
   "cell_type": "code",
   "execution_count": null,
   "id": "ff6a2ae7-fa8a-49ec-a9ca-66b117efa9db",
   "metadata": {},
   "outputs": [],
   "source": [
    "show2D(cgls.solution)"
   ]
  },
  {
   "cell_type": "markdown",
   "id": "b37423d0-1ed9-4e8b-9765-8c9d0d66d5e6",
   "metadata": {},
   "source": [
    "# 4. Wrapping the real data into CUQIpy"
   ]
  },
  {
   "cell_type": "markdown",
   "id": "8b5d5c70-4ecb-4159-9480-e6ba114aaa5e",
   "metadata": {},
   "source": [
    "The previous section demonstrated how to reconstruct the data using CIL. This section explores how to run UQ on it using CUQIpy. We need a few CUQIpy tools:"
   ]
  },
  {
   "cell_type": "code",
   "execution_count": null,
   "id": "40575b21-90a1-4c5e-9860-bbafe7920470",
   "metadata": {},
   "outputs": [],
   "source": [
    "from cuqipy_cil.model import CILModel\n",
    "from cuqi.array import CUQIarray"
   ]
  },
  {
   "cell_type": "markdown",
   "id": "839d8bbf-e5d8-4594-aa3a-d6903469d3f5",
   "metadata": {},
   "source": [
    "The CIL acquisition and image geometry fully specify the imaging setup and we can create a CUQIpy CIL forward model directly from these:"
   ]
  },
  {
   "cell_type": "code",
   "execution_count": null,
   "id": "09a9dee9-6d35-4504-91e3-4e5c592463fc",
   "metadata": {},
   "outputs": [],
   "source": [
    "model = CILModel(ag, ig)\n",
    "print(model)"
   ]
  },
  {
   "cell_type": "markdown",
   "id": "93a82049-2a25-4b12-b9d9-ea1ddcbe0d6e",
   "metadata": {},
   "source": [
    "Instead of using CIL data structures for the sinogram data we need to use the CUQIpy data structure CUQIarray, where we provide its geometry from the model's range geometry:"
   ]
  },
  {
   "cell_type": "code",
   "execution_count": null,
   "id": "6dcff2a4-5ed6-4226-a75e-37529034153e",
   "metadata": {},
   "outputs": [],
   "source": [
    "data_cuqi = CUQIarray(data.as_array().ravel(), is_par=True, geometry=model.range_geometry)\n",
    "data_cuqi"
   ]
  },
  {
   "cell_type": "markdown",
   "id": "ba5826c3-99b0-474d-9dd9-6792b2b1e4b8",
   "metadata": {},
   "source": [
    "We now have all we need to start using CUQIpy for UQ analyzing the data. To demonstrate this, we can see if the CUQIpy plotting is available for the data_cuqi:"
   ]
  },
  {
   "cell_type": "code",
   "execution_count": null,
   "id": "983ee89f-644e-4022-bfa8-bb671dd403b0",
   "metadata": {},
   "outputs": [],
   "source": [
    "data_cuqi.plot()"
   ]
  },
  {
   "cell_type": "markdown",
   "id": "36036a6c-7b91-4fa3-ac5f-0278c699e5d7",
   "metadata": {},
   "source": [
    "As we hoped, this works and gives an Image2D type plot of the sinogram."
   ]
  },
  {
   "cell_type": "markdown",
   "id": "575231aa-3793-40d2-9597-55a9b939fbe3",
   "metadata": {},
   "source": [
    "We can check that the CUQIpy forward model is working, for example by applying its adjoint operation (corresponding to backprojection) onto the CUQIarray holding the sinogram:"
   ]
  },
  {
   "cell_type": "code",
   "execution_count": null,
   "id": "94ca5fda-3ef3-4bbc-8953-0f5a788e050b",
   "metadata": {},
   "outputs": [],
   "source": [
    "data_backprojected = model.T@data_cuqi\n",
    "data_backprojected"
   ]
  },
  {
   "cell_type": "markdown",
   "id": "120794b6-4ea0-42b2-bae7-bb0284978ad7",
   "metadata": {},
   "source": [
    "And plot the results:"
   ]
  },
  {
   "cell_type": "code",
   "execution_count": null,
   "id": "048422fb-438d-43d2-a6b7-0dd5ea72a22b",
   "metadata": {},
   "outputs": [],
   "source": [
    "data_backprojected.plot()"
   ]
  },
  {
   "cell_type": "markdown",
   "id": "710e1bb2-303a-4574-953a-836c7052e6d5",
   "metadata": {},
   "source": [
    "As expected a plain backprojection of the sinogram gives a blurry image in the reconstruction domain."
   ]
  },
  {
   "cell_type": "markdown",
   "id": "a01601d6-d305-45e7-8ef2-1d1076d15f32",
   "metadata": {},
   "source": [
    "## 5. Open-ended exploration"
   ]
  },
  {
   "cell_type": "markdown",
   "id": "f0619de2-e7bb-426f-a4f8-9cea38362f17",
   "metadata": {},
   "source": [
    "With the tools in place, you can now explore UQ analysis of the data set, by use of the CUQIpy tools you have met so far."
   ]
  },
  {
   "cell_type": "markdown",
   "id": "9937a21f-c31c-43e5-8a17-9c73eb1f85d3",
   "metadata": {},
   "source": [
    "### Ideas for exploration:\n",
    "\n",
    "(Can be either for the test problem or the real data)\n",
    "\n",
    "1. Set up a few-projection case, for example 40 projections (over 180 degrees for parallel-beam or 360 degrees for fan-beam). Explore different priors.\n",
    "2. Set up a limited angle case, for example instead of full 180-degree data, use 135, 90 or even 45 degree data, and explore different the effect of different priors on the solution and its uncertainty.\n",
    "3. Try with a smooth phantom instead of a piecewise constant (test problem only)\n",
    "4. Infer noise level and/or prior precision through Gibbs."
   ]
  },
  {
   "cell_type": "code",
   "execution_count": null,
   "id": "04c46e06",
   "metadata": {},
   "outputs": [],
   "source": [
    "# Your code here\n",
    "\n",
    "\n",
    "\n"
   ]
  }
 ],
 "metadata": {
  "kernelspec": {
   "display_name": "Python 3",
   "language": "python",
   "name": "python3"
  },
  "language_info": {
   "codemirror_mode": {
    "name": "ipython",
    "version": 3
   },
   "file_extension": ".py",
   "mimetype": "text/x-python",
   "name": "python",
   "nbconvert_exporter": "python",
   "pygments_lexer": "ipython3",
   "version": "3.10.5"
  },
  "vscode": {
   "interpreter": {
    "hash": "f83c72a7c5d885a4a7f43561cb77434137f6f5cf21a7418d4732e18616218db3"
   }
  }
 },
 "nbformat": 4,
 "nbformat_minor": 5
}
