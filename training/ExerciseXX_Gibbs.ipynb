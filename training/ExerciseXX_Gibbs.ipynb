{
  "cells": [
    {
      "cell_type": "markdown",
      "metadata": {},
      "source": [
        "\n",
        "# Exercise XX: Gibbs sampling\n",
        "\n",
        "In this notebook we show how to use CUQIpy to sample hierarchical Bayesian models using Gibbs sampling.\n",
        "\n",
        "Gibbs sampling is a Markov chain Monte Carlo (MCMC) method for sampling a joint probability distribution of multiple random variables.\n",
        "Compared to sampling all variables simultaneously, Gibbs sampling samples the variables sequentially. The sampling of each variable is achieved by sampling from the conditional distribution of that variable given (fixed, previously sampled) values of the other variables.\n",
        "\n",
        "Gibbs sampling is often an efficient way of sampling from a joint distribution if the conditional distributions are easy to sample\n",
        "from. On the other hand, if the conditional distributions are highly correlated and/or are difficult to sample from, then Gibbs sampling can be very inefficient. For these reasons, Gibbs sampling is often a double-edged sword, that needs to be used in the right context.\n",
        "\n",
        "\n",
        "## Learning objectives\n",
        "\n",
        "Going through this notebook, you will see how to:\n",
        "\n",
        "- Define a hierarchical Bayesian model using CUQIpy.\n",
        "- Define a Gibbs sampling scheme in CUQIpy.\n",
        "- Run the Gibbs sampler and analyze the results.\n",
        "\n",
        "## Table of contents\n"
      ]
    },
    {
      "cell_type": "markdown",
      "metadata": {},
      "source": [
        "## Setup\n",
        "We start by importing the necessary modules\n",
        "\n"
      ]
    },
    {
      "cell_type": "code",
      "execution_count": 17,
      "metadata": {
        "collapsed": false
      },
      "outputs": [],
      "source": [
        "import sys; sys.path.append('../../cuqipy/')\n",
        "import numpy as np\n",
        "import matplotlib.pyplot as plt\n",
        "from cuqi.testproblem import Deconvolution1D\n",
        "from cuqi.distribution import GaussianCov, Gamma, JointDistribution, GMRF, Laplace_diff\n",
        "from cuqi.sampler import Gibbs, Linear_RTO, Conjugate, UnadjustedLaplaceApproximation, ConjugateApprox"
      ]
    },
    {
      "cell_type": "markdown",
      "metadata": {},
      "source": [
        "## Deterministic forward model and data\n",
        "Consider an inverse problem\n",
        "$$y=Ax,$$\n",
        "where $A: \\mathbb{R}^n \\to \\mathbb{R}^m$ is the forward model of the inverse problem, $y\\in\\mathbb{R}^m$ is the data and $x\\in \\mathbb{R}^n$ is the parameter of interest.\n",
        "\n",
        "In this case, we assume that the forward model is a convolution operator. We can load this example from the testproblem library of CUQIpy and visualize the true solution (sharp signal) and data (convolved signal)."
      ]
    },
    {
      "cell_type": "code",
      "execution_count": 42,
      "metadata": {
        "collapsed": false
      },
      "outputs": [
        {
          "name": "stderr",
          "output_type": "stream",
          "text": [
            "c:\\Users\\Nicolai\\anaconda3\\lib\\site-packages\\scipy\\sparse\\linalg\\dsolve\\linsolve.py:144: SparseEfficiencyWarning: spsolve requires A be CSC or CSR matrix format\n",
            "  warn('spsolve requires A be CSC or CSR matrix format',\n"
          ]
        },
        {
          "name": "stdout",
          "output_type": "stream",
          "text": [
            "ProblemInfo with the following set attributes:\n",
            "['exactData', 'infoString', 'exactSolution']\n",
            " infoString: Noise type: Additive Gaussian with std: 0.05\n"
          ]
        },
        {
          "data": {
            "image/png": "[encoded data removed]",
            "text/plain": [
              "<Figure size 432x288 with 2 Axes>"
            ]
          },
          "metadata": {
            "needs_background": "light"
          },
          "output_type": "display_data"
        }
      ],
      "source": [
        "# Model and data\n",
        "A, y_data, probinfo = Deconvolution1D.get_components(phantom='square')\n",
        "\n",
        "# Get dimension of signal\n",
        "n = A.domain_dim\n",
        "\n",
        "# Plot exact solution and observed data\n",
        "plt.subplot(121)\n",
        "probinfo.exactSolution.plot()\n",
        "plt.title('exact solution')\n",
        "\n",
        "plt.subplot(122)\n",
        "y_data.plot()\n",
        "plt.title(\"Observed data\")\n",
        "\n",
        "# Print problem information\n",
        "print(probinfo)"
      ]
    },
    {
      "cell_type": "markdown",
      "metadata": {},
      "source": [
        "## Hierarchical Bayesian model\n",
        "\n",
        "We are now going to define a hierarchical Bayesian model for the inverse problem.\n",
        "\n",
        "First, we are going to model the prior distribution of the parameter $x$ as a Gaussian Markov random field (GMRF), i.e.\n",
        "\n",
        "\\begin{align*}\n",
        "\\mathbf{x} \\mid d &\\sim \\mathrm{GMRF}(\\mathbf{0}, d)\n",
        "\\end{align*}\n",
        "\n",
        "This is a built-in distribution in CUQIpy, which models the difference between neighboring elements as a Gaussian, see [GMRF](https://cuqi-dtu.github.io/CUQIpy/api/_autosummary/cuqi.distribution/cuqi.distribution.GMRF.html#cuqi.distribution.GMRF) for more details.\n",
        "\n",
        "We do not know a good choice of precision parameter $d$ for this prior, so we make use of `lambda` (anonymous) functions to make $d$ a conditioning variable of the distribution. The distribution is then defined in CUQIpy as follows.\n"
      ]
    },
    {
      "cell_type": "code",
      "execution_count": 36,
      "metadata": {},
      "outputs": [
        {
          "name": "stdout",
          "output_type": "stream",
          "text": [
            "CUQI GMRF. Conditioning variables ['d'].\n"
          ]
        }
      ],
      "source": [
        "x = GMRF(np.zeros(n), lambda d: d)\n",
        "\n",
        "print(x)"
      ]
    },
    {
      "cell_type": "markdown",
      "metadata": {},
      "source": [
        "The observed data is corrupted by additive Gaussian noise, so we can assume a Gaussian distribution for $y$ and write\n",
        "\n",
        "$$\\mathbf{y} \\mid \\mathbf{x}, s \\sim \\mathcal{N}(\\mathbf{A} \\mathbf{x}, s^{-1}\\mathbf{I}_m),$$\n",
        "\n",
        "where for this example, we pretend also not to know the noise standard deviation $s$.\n",
        "\n",
        "Similar to the prior distribution, we can define this distribution as follows."
      ]
    },
    {
      "cell_type": "code",
      "execution_count": 37,
      "metadata": {},
      "outputs": [
        {
          "name": "stdout",
          "output_type": "stream",
          "text": [
            "CUQI GaussianCov. Conditioning variables ['x', 's'].\n"
          ]
        }
      ],
      "source": [
        "y = GaussianCov(A@x, lambda s: 1/s)\n",
        "\n",
        "print(y)"
      ]
    },
    {
      "cell_type": "markdown",
      "metadata": {},
      "source": [
        "To model the two *hyperparameters* $d$ and $s$, we can use a weakly informative `Gamma` distribution, i.e. a distribution with a wide range of possible values.\n",
        "\n",
        "\\begin{align*}\n",
        "        d &\\sim \\mathrm{Gamma}(1, 10^{-4}) \\\\\n",
        "        s &\\sim \\mathrm{Gamma}(1, 10^{-4})\n",
        "\\end{align*}\n"
      ]
    },
    {
      "cell_type": "code",
      "execution_count": 38,
      "metadata": {},
      "outputs": [
        {
          "name": "stdout",
          "output_type": "stream",
          "text": [
            "CUQI Gamma.\n",
            "CUQI Gamma.\n"
          ]
        }
      ],
      "source": [
        "d = Gamma(1, 1e-4)\n",
        "s = Gamma(1, 1e-4)\n",
        "\n",
        "print(d)\n",
        "print(s)"
      ]
    },
    {
      "cell_type": "markdown",
      "metadata": {},
      "source": [
        "In total, we can summarize the hierarchical Bayesian model as follows (avoiding explicitly writing the conditioning variables):\n",
        "\n",
        "\\begin{align*}\n",
        "        d &\\sim \\mathrm{Gamma}(1, 10^{-4}) \\\\\n",
        "        s &\\sim \\mathrm{Gamma}(1, 10^{-4}) \\\\\n",
        "        \\mathbf{x} &\\sim \\mathrm{GMRF}(\\mathbf{0}, d) \\\\\n",
        "        \\mathbf{y} &\\sim \\mathcal{N}(\\mathbf{A} \\mathbf{x}, s^{-1} \\mathbf{I}_m)\n",
        "\\end{align*}\n",
        "\n",
        "which in CUQIpy matches line-by-line:"
      ]
    },
    {
      "cell_type": "code",
      "execution_count": 39,
      "metadata": {},
      "outputs": [],
      "source": [
        "d = Gamma(1, 1e-4)\n",
        "s = Gamma(1, 1e-4)\n",
        "x = GMRF(np.zeros(n), lambda d: d)\n",
        "y = GaussianCov(A@x, lambda s: 1/s)"
      ]
    },
    {
      "cell_type": "markdown",
      "metadata": {},
      "source": [
        "## Posterior distribution\n",
        "\n",
        "Similarly as in the previous notebook, we now define the posterior distribution by first creating the joint distribution $p(\\mathbf{y}, \\mathbf{x}, d, s)$ and then conditioning on the data $\\mathbf{y}^\\mathrm{data}$ to obtain the posterior defined in density form as\n",
        "\n",
        "\\begin{align*}\n",
        "p(\\mathbf{x}, d, s \\mid \\mathbf{y}^\\mathrm{data}) = L(\\mathbf{x}, s \\mid \\mathbf{y}^\\mathrm{data}) p(\\mathbf{x} \\mid d) p(d) p(s).\n",
        "\\end{align*}\n",
        "\n",
        "This in done in CUQIpy as follows."
      ]
    },
    {
      "cell_type": "code",
      "execution_count": 41,
      "metadata": {
        "collapsed": false
      },
      "outputs": [
        {
          "name": "stdout",
          "output_type": "stream",
          "text": [
            "JointDistribution(\n",
            "    Equation: \n",
            "\tp(x,d,s|y) ∝ L(s,x|y)p(x|d)p(d)p(s)\n",
            "    Densities: \n",
            "\ty ~ CUQI GaussianCov Likelihood function. Parameters ['x', 's'].\n",
            "\tx ~ CUQI GMRF. Conditioning variables ['d'].\n",
            "\td ~ CUQI Gamma.\n",
            "\ts ~ CUQI Gamma.\n",
            ")\n"
          ]
        }
      ],
      "source": [
        "# Create joint distribution\n",
        "joint = JointDistribution(y, x, d, s)\n",
        "\n",
        "# Define posterior by conditioning on the data\n",
        "posterior = joint(y=y_data)\n",
        "\n",
        "# View the posterior\n",
        "print(posterior)"
      ]
    },
    {
      "cell_type": "markdown",
      "metadata": {},
      "source": [
        "Notice that the joint distribution prints a mathematical expression\n",
        "for the density functions that make up $p(d,l,\\mathbf{x},\\mathbf{y})$.\n",
        "In this case they are all distributions, but this need not be the case.\n",
        "\n"
      ]
    },
    {
      "cell_type": "markdown",
      "metadata": {},
      "source": [
        "## Defining the posterior distribution\n",
        "\n",
        "Now we define the posterior distribution, which is the joint distribution\n",
        "conditioned on the observed data. That is, $p(d, l, \\mathbf{x} \\mid \\mathbf{y}=\\mathbf{y}_\\mathrm{obs})$\n",
        "\n",
        "This is done in the following way:\n",
        "\n"
      ]
    },
    {
      "cell_type": "code",
      "execution_count": null,
      "metadata": {
        "collapsed": false
      },
      "outputs": [],
      "source": [
        "\n",
        "# View the structure of the posterior\n",
        "print(posterior)"
      ]
    },
    {
      "cell_type": "markdown",
      "metadata": {},
      "source": [
        "Notice that after conditioning on the data, the distribution associated with\n",
        "$\\mathbf{y}$ became a likelihood function and that the posterior is now\n",
        "a joint distribution of the variables $d$, $l$, $\\mathbf{x}$.\n",
        "\n"
      ]
    },
    {
      "cell_type": "markdown",
      "metadata": {},
      "source": [
        "## Gibbs Sampler\n",
        "\n",
        "\n",
        "The hierarchical model above has some important properties that we\n",
        "can exploit to make the sampling more efficient. First, note that\n",
        "the Gamma distribution are conjugate priors for the precision of\n",
        "the Gaussian distributions. This means that we can efficiently sample\n",
        "from $d$ and $l$ conditional on the other variables.\n",
        "\n",
        "Second, note that the prior distribution of $\\mathbf{x}$ is\n",
        "a Gaussian Markov random field (GMRF) and that the distribution for\n",
        "$\\mathbf{y}$ is also Gaussian with a Linear operator acting\n",
        "on $\\mathbf{x}$ as the mean variable. This means that we can\n",
        "efficiently sample from $\\mathbf{x}$ conditional on the other\n",
        "variables using the ``Linear_RTO`` sampler.\n",
        "\n",
        "Taking these two facts into account, we can define a Gibbs sampler\n",
        "that uses the ``Conjugate`` sampler for $d$ and $l$ and\n",
        "the ``Linear_RTO`` sampler for $\\mathbf{x}$.\n",
        "\n",
        "This is done in CUQIpy as follows:\n",
        "\n"
      ]
    },
    {
      "cell_type": "code",
      "execution_count": null,
      "metadata": {
        "collapsed": false
      },
      "outputs": [],
      "source": [
        "# Define sampling strategy\n",
        "sampling_strategy = {\n",
        "    'x': Linear_RTO,\n",
        "    'd': Conjugate,\n",
        "    'l': Conjugate\n",
        "}\n",
        "\n",
        "# Define Gibbs sampler\n",
        "sampler = Gibbs(posterior, sampling_strategy)\n",
        "\n",
        "# Run sampler\n",
        "samples = sampler.sample(Ns=1000, Nb=200)"
      ]
    },
    {
      "cell_type": "markdown",
      "metadata": {},
      "source": [
        "## Analyze results\n",
        "\n",
        "After sampling we can inspect the results. The samples are stored\n",
        "as a dictionary with the variable names as keys. Samples for each \n",
        "variable is stored as a CUQIpy Samples object which contains the\n",
        "many convenience methods for diagnostics and plotting of MCMC samples.\n",
        "\n"
      ]
    },
    {
      "cell_type": "code",
      "execution_count": null,
      "metadata": {
        "collapsed": false
      },
      "outputs": [],
      "source": [
        "# Plot credible intervals for the signal\n",
        "samples['x'].plot_ci(exact=probinfo.exactSolution)"
      ]
    },
    {
      "cell_type": "markdown",
      "metadata": {},
      "source": [
        "Trace plot for d\n",
        "\n"
      ]
    },
    {
      "cell_type": "code",
      "execution_count": null,
      "metadata": {
        "collapsed": false
      },
      "outputs": [],
      "source": [
        "samples['d'].plot_trace(figsize=(8,2))"
      ]
    },
    {
      "cell_type": "markdown",
      "metadata": {},
      "source": [
        "Trace plot for l\n",
        "\n"
      ]
    },
    {
      "cell_type": "code",
      "execution_count": null,
      "metadata": {
        "collapsed": false
      },
      "outputs": [],
      "source": [
        "samples['l'].plot_trace(figsize=(8,2))"
      ]
    },
    {
      "cell_type": "markdown",
      "metadata": {},
      "source": [
        "## Switching to a piecewise constant prior\n",
        "\n",
        "Notice that while the sampling went well in the previous example,\n",
        "the posterior distribution did not match the characteristics of\n",
        "the exact solution. We can improve this result by switching to a\n",
        "prior that better matches the exact solution $\\mathbf{x}$.\n",
        "\n",
        "One choice is the Laplace difference prior, which assumes a\n",
        "Laplace distribution for the differences between neighboring\n",
        "elements of $\\mathbf{x}$. That is,\n",
        "\n",
        "\\begin{align}\\mathbf{x} \\sim \\text{Laplace_diff}(\\mathbf{0}, d^{-1}),\\end{align}\n",
        "\n",
        "which means that $x_i-x_{i-1} \\sim \\mathrm{Laplace}(0, d^{-1})$.\n",
        "\n",
        "This prior is implemented in CUQIpy as the ``Laplace_diff`` distribution.\n",
        "To update our model we simply need to replace the ``GMRF`` distribution\n",
        "with the ``Laplace_diff`` distribution. Note that the Laplace distribution\n",
        "is defined via a scale parameter, so we invert the parameter $d$.\n",
        "\n",
        "This laplace distribution and new posterior can be defined as follows:\n",
        "\n"
      ]
    },
    {
      "cell_type": "code",
      "execution_count": null,
      "metadata": {
        "collapsed": false
      },
      "outputs": [],
      "source": [
        "# Define new distribution for x\n",
        "x = Laplace_diff(np.zeros(n), lambda d: 1/d)\n",
        "\n",
        "# Define new joint distribution with piecewise constant prior\n",
        "joint_Ld = JointDistribution(d, l, x, y)\n",
        "\n",
        "# Define new posterior by conditioning on the data\n",
        "posterior_Ld = joint_Ld(y=y_obs)\n",
        "\n",
        "print(posterior_Ld)"
      ]
    },
    {
      "cell_type": "markdown",
      "metadata": {},
      "source": [
        "## Gibbs Sampler (with Laplace prior)\n",
        "\n",
        "Using the same approach as ealier we can define a Gibbs sampler\n",
        "for this new hierarchical model. The only difference is that we\n",
        "now need to use a different sampler for $\\mathbf{x}$ because\n",
        "the ``Linear_RTO`` sampler only works for Gaussian distributions.\n",
        "\n",
        "In this case we use the UnadjustedLaplaceApproximation sampler\n",
        "for $\\mathbf{x}$. We also use an approximate Conjugate\n",
        "sampler for $d$ which approximately samples from the\n",
        "posterior distribution of $d$ conditional on the other\n",
        "variables in an efficient manner. For more details see e.g.\n",
        "`this paper <https://arxiv.org/abs/2104.06919>`.\n",
        "\n"
      ]
    },
    {
      "cell_type": "code",
      "execution_count": null,
      "metadata": {
        "collapsed": false
      },
      "outputs": [],
      "source": [
        "# Define sampling strategy\n",
        "sampling_strategy = {\n",
        "    'x': UnadjustedLaplaceApproximation,\n",
        "    'd': ConjugateApprox,\n",
        "    'l': Conjugate\n",
        "}\n",
        "\n",
        "# Define Gibbs sampler\n",
        "sampler_Ld = Gibbs(posterior_Ld, sampling_strategy)\n",
        "\n",
        "# Run sampler\n",
        "samples_Ld = sampler_Ld.sample(Ns=1000, Nb=200)"
      ]
    },
    {
      "cell_type": "markdown",
      "metadata": {},
      "source": [
        "## Analyze results\n",
        "\n",
        "Again we can inspect the results.\n",
        "Here we notice the posterior distribution matches the exact solution much better.\n",
        "\n"
      ]
    },
    {
      "cell_type": "code",
      "execution_count": null,
      "metadata": {
        "collapsed": false
      },
      "outputs": [],
      "source": [
        "# Plot credible intervals for the signal\n",
        "samples_Ld['x'].plot_ci(exact=probinfo.exactSolution)"
      ]
    },
    {
      "cell_type": "code",
      "execution_count": null,
      "metadata": {
        "collapsed": false
      },
      "outputs": [],
      "source": [
        "samples_Ld['d'].plot_trace(figsize=(8,2))"
      ]
    },
    {
      "cell_type": "code",
      "execution_count": null,
      "metadata": {
        "collapsed": false
      },
      "outputs": [],
      "source": [
        "samples_Ld['l'].plot_trace(figsize=(8,2))"
      ]
    }
  ],
  "metadata": {
    "kernelspec": {
      "display_name": "Python 3.8.8 ('base')",
      "language": "python",
      "name": "python3"
    },
    "language_info": {
      "codemirror_mode": {
        "name": "ipython",
        "version": 3
      },
      "file_extension": ".py",
      "mimetype": "text/x-python",
      "name": "python",
      "nbconvert_exporter": "python",
      "pygments_lexer": "ipython3",
      "version": "3.8.8"
    },
    "vscode": {
      "interpreter": {
        "hash": "4ff4ac6af9578637e0e623c40bf41129eb04e2c9abec3a9480d43324f3a3fec8"
      }
    }
  },
  "nbformat": 4,
  "nbformat_minor": 0
}
