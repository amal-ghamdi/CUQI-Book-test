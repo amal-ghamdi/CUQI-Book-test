{
 "cells": [
  {
   "cell_type": "markdown",
   "metadata": {},
   "source": [
    "# PDE-based Bayesian Problems using CUQIpy and CUQIpy-FEniCS plugin\n",
    "\n",
    "Here we build a Bayesian inverse problem to infer the conductivity in a physical system modelled by the Poisson equation (applications include EIT problems).\n",
    "\n",
    "The PDE model is built using FEniCS, then we use CUQIpy-FEniCS to wrap the PDE model to interface it with CUQIpy. We use CUQIpy samplers to solve the PDE-based Bayesian problem.\n",
    "\n",
    "## Learning objectives of this notebook:\n",
    "- Build a FEniCS based Poisson problem \n",
    "- Build and solve the PDE-based Bayesian problem in CUQIpy\n",
    "\t- Use Matern covariance operator for the prior\n",
    "\t- Use pCN sampler\n",
    "- Use gradient-based sampler\n",
    "\t- The chain rule\n",
    "\t- Use NUTS sampler \n",
    "\n",
    "## Table of contents\n",
    "1. [Building a FEniCS based Poisson problem](#PDEproblem)\n",
    "2. [Building and solving the PDE-based Bayesian problem in CUQIpy](#Bayesian_problem)\n",
    "3. [Using gradient-based sampler](#gradient_sampling)\n"
   ]
  },
  {
   "cell_type": "markdown",
   "metadata": {},
   "source": [
    "## Import required libraries and set up configuration"
   ]
  },
  {
   "cell_type": "code",
   "execution_count": null,
   "metadata": {},
   "outputs": [],
   "source": [
    "from scipy import optimize\n",
    "import ufl\n",
    "import matplotlib.pyplot as plt\n",
    "import sys\n",
    "import cuqi\n",
    "import cuqipy_fenics\n",
    "import dolfin as dl\n",
    "import numpy as np"
   ]
  },
  {
   "cell_type": "markdown",
   "metadata": {},
   "source": [
    "## 1. Building a FEniCS based Poisson problem <a class=\"anchor\" id=\"PDEproblem\"></a>\n",
    "\n",
    "In this section, we use FEniCS python library to build a PDE model. \n",
    "\n",
    "The PDE model we consider here is a 2D steady-state problem (Poisson):\n",
    "\n",
    "\\begin{align*}\n",
    " \\nabla \\cdot \\left(\\kappa(\\mathbf{x}) \\nabla u(\\mathbf{x})\\right) &= f(x) \\;\\;\\;\\;\\mathrm{ in }\\; (0,1)\\times(0,1),\\\\\n",
    "u(0,y)&=0 \\;\\;\\;\\;\\mathrm{on}\\; x=0\\\\\n",
    "u(1,y)&=0 \\;\\;\\;\\;\\mathrm{on}\\; x=1 \\\\\n",
    "\\kappa(x)\\nabla u(x,0)\\cdot n&=0 \\;\\;\\;\\;\\mathrm{on}\\; y=0 \\\\\n",
    "\\kappa(x)\\nabla u(x,1)\\cdot n&=0 \\;\\;\\;\\;\\mathrm{on}\\; y=1 \n",
    "\\end{align*}\n",
    "\n",
    "\n",
    "\n",
    "- where $\\kappa(x)$ is the conductivity, $u(x)$ is the PDE solution (potential), $f(x)$ is the source term.\n",
    "\n",
    "- We use the parameterization $\\kappa(x) = e^{m(x)}$, to ensure positivity of the inferred conductivity (more on this later).\n",
    "\n",
    "- We denote the discretized system that we need to solve as\n",
    "$\\mathbf{A}(\\mathbf{m})\\mathbf{U} = \\mathbf{F}$\n",
    "  - $\\mathbf{A}$ is the discretized diffusion differential operator\n",
    "  - $\\mathbf{m}$ is the discretized Bayesian parameter \n",
    "  - $\\mathbf{U}$ is the discretized solution (the potential)\n",
    "  - $\\mathbf{F}$ is the discretized RHS (the source term) "
   ]
  },
  {
   "cell_type": "markdown",
   "metadata": {},
   "source": [
    "### The discretization \n",
    "\n",
    "We use finite element discretization of the model above where the solution and the parameters are approximated in a second and first order Lagrange polynomial space, respectively. \n",
    "\n",
    "Using finite element formulation requires building the weak form of the PDE. To formulate the weak form, we multiply the PDE by a test function and integrate by parts and substitute the Neumann boundary conditions above (the last two equations above).\n",
    "\n",
    "For formulating the weak form, see for example [this reference](https://en.wikiversity.org/wiki/Finite_elements/Weak_form_of_Poisson_equation)."
   ]
  },
  {
   "cell_type": "markdown",
   "metadata": {},
   "source": [
    "### 1.1. Set up mesh\n",
    "\n",
    "We create a 2D FEniCS mesh (unit square mesh) on which the finite element solution is discretized."
   ]
  },
  {
   "cell_type": "code",
   "execution_count": null,
   "metadata": {},
   "outputs": [],
   "source": [
    "nx = 12 # number of vertices on the x dimension\n",
    "ny = 12 # number of vertices on the y dimension\n",
    "mesh = dl.UnitSquareMesh(nx, ny) # create FEniCS mesh\n",
    "dl.plot(mesh)"
   ]
  },
  {
   "cell_type": "markdown",
   "metadata": {},
   "source": [
    "### 1.2. Set up function spaces\n",
    "\n",
    "We define the function spaces on which the PDE solution and the quantity we want to quantify (log permeability m) are discretized. The function spaces are, respectively, second order Lagrange polynomial space and first order Lagrange polynomial space."
   ]
  },
  {
   "cell_type": "code",
   "execution_count": null,
   "metadata": {},
   "outputs": [],
   "source": [
    "solution_function_space = dl.FunctionSpace(mesh, 'Lagrange', 2) # function space for solution u\n",
    "parameter_function_space = dl.FunctionSpace(mesh, 'Lagrange', 1) # function space for parameter m"
   ]
  },
  {
   "cell_type": "markdown",
   "metadata": {},
   "source": [
    "### 1.3. Set up Dirichlet boundary conditions \n",
    "\n",
    "We create the Dirichlet boundary conditions: \n",
    "\\begin{align*}\n",
    "u(0,y)&=0 \\;\\;\\;\\;\\mathrm{on}\\; x=0\\\\\n",
    "u(1,y)&=0 \\;\\;\\;\\;\\mathrm{on}\\; x=1 \\\\\n",
    "\\end{align*}"
   ]
  },
  {
   "cell_type": "code",
   "execution_count": null,
   "metadata": {},
   "outputs": [],
   "source": [
    "# Function (where do we have Dirichlet BC)\n",
    "def u_boundary(x, on_boundary):\n",
    "    return on_boundary and ( x[0] < dl.DOLFIN_EPS or x[0] > 1.0 - dl.DOLFIN_EPS)\n",
    "\n",
    "# Expression (what is the value on these Dirichlet BC)\n",
    "dirichlet_bc_expr = dl.Expression(\"0\", degree=1)\n",
    "\n",
    "# FEniCS Dirichlet BC Object\n",
    "dirichlet_bc = dl.DirichletBC(solution_function_space,\n",
    "                              dirichlet_bc_expr,\n",
    "                              u_boundary) "
   ]
  },
  {
   "cell_type": "markdown",
   "metadata": {},
   "source": [
    "### 1.4. Set up source term\n",
    "\n",
    "We set the source term $f(x)$ to a constant value 1."
   ]
  },
  {
   "cell_type": "code",
   "execution_count": null,
   "metadata": {},
   "outputs": [],
   "source": [
    "f = dl.Constant(1.0)"
   ]
  },
  {
   "cell_type": "markdown",
   "metadata": {},
   "source": [
    "### 1.5. Set up PDE variational form\n",
    "\n",
    "After parametrizing conductivity using $\\kappa(x) = e^{m(x)}$, the variational form of the Poisson PDE above is:\n",
    "\n",
    "\\begin{align*}\n",
    "\\int_{(0,1)\\times(0,1)} \\left( e^{m(x)} \\nabla u(x) \\cdot \\nabla p(x)  - f(x)p(x) \\right){dx}\n",
    "\\end{align*}\n",
    "\n",
    "where $p(x)$ is a test function. This can be expressed in FEniCS as `ufl.exp(m)*ufl.inner(ufl.grad(u), ufl.grad(p))*ufl.dx - f*p*ufl.dx`. We create a function that takes the parameters, solution function, test function and returns the weak form.\n",
    "\n"
   ]
  },
  {
   "cell_type": "code",
   "execution_count": null,
   "metadata": {},
   "outputs": [],
   "source": [
    "def form(m,u,p):\n",
    "    return ufl.exp(m)*ufl.inner(ufl.grad(u), ufl.grad(p))*ufl.dx - f*p*ufl.dx"
   ]
  },
  {
   "cell_type": "markdown",
   "metadata": {},
   "source": [
    "### 1.6 Create CUQIpy PDE object\n",
    "\n",
    "We bundle the FEniCS PDE model that we built in a `cuqipy_fenics.pde.SteadyStateLinearFEniCSPDE` object:"
   ]
  },
  {
   "cell_type": "code",
   "execution_count": null,
   "metadata": {},
   "outputs": [],
   "source": [
    "PDE = cuqipy_fenics.pde.SteadyStateLinearFEniCSPDE( \n",
    "        form,\n",
    "        mesh, \n",
    "        parameter_function_space=parameter_function_space,\n",
    "        solution_function_space=solution_function_space,\n",
    "        dirichlet_bc=dirichlet_bc)"
   ]
  },
  {
   "cell_type": "markdown",
   "metadata": {},
   "source": [
    "Lets try solving this PDE for $m(x)=1$, first we create the parameter:"
   ]
  },
  {
   "cell_type": "code",
   "execution_count": null,
   "metadata": {},
   "outputs": [],
   "source": [
    "# Create homogeneous parameter m_1(x) = 1\n",
    "\n",
    "# Create a FEniCS function for the parameter\n",
    "m_1 = dl.Function(parameter_function_space)\n",
    "\n",
    "# Assign the value 1 to the FEniCS function by interpolating a FEniCS Constant object.\n",
    "m_1.interpolate(dl.Constant(1.0))"
   ]
  },
  {
   "cell_type": "markdown",
   "metadata": {},
   "source": [
    "Let us check `m_1` value at a given point (0.5,0.8)"
   ]
  },
  {
   "cell_type": "code",
   "execution_count": null,
   "metadata": {},
   "outputs": [],
   "source": [
    "m_1(.5, .8)"
   ]
  },
  {
   "cell_type": "markdown",
   "metadata": {},
   "source": [
    "Now lets use the object we created `PDE` to assemble (build the discretized linear system) and solve the PDE"
   ]
  },
  {
   "cell_type": "code",
   "execution_count": null,
   "metadata": {},
   "outputs": [],
   "source": [
    "# Assemble the PDE at m_1\n",
    "PDE.assemble(m_1)\n",
    "\n",
    "# Solve the PDE at m_1\n",
    "u, _ = PDE.solve()"
   ]
  },
  {
   "cell_type": "markdown",
   "metadata": {},
   "source": [
    "Plot the solution \n"
   ]
  },
  {
   "cell_type": "code",
   "execution_count": null,
   "metadata": {},
   "outputs": [],
   "source": [
    "im = dl.plot(u)\n",
    "plt.colorbar(im)"
   ]
  },
  {
   "cell_type": "markdown",
   "metadata": {},
   "source": [
    "## 2. Building and solving the Bayesian inverse problem in CUQIpy <a class=\"anchor\" id=\"Bayesian_problem\"></a>\n",
    "  \n",
    "The goal is to infer the log conductivity profile $m(x)$ given observed data $d$. These observation can be of the potential directly, i.e. $d=u(x)$, or a function of the potential. \n",
    "\n",
    "The data $d$ is then given by:\n",
    "\n",
    "$$ d = \\mathcal{G}(m) + \\eta$$\n",
    "\n",
    "\n",
    "where \n",
    "- $\\eta$ is the measurement noise\n",
    "- $\\mathcal{G}$ is the forward model operator which maps $m$ to the observations.\n"
   ]
  },
  {
   "cell_type": "markdown",
   "metadata": {},
   "source": [
    "### 2.1. Create domain geometry \n",
    "We model $m$ as a Matern-class random field which lead to the parametrization (Karhunen-Lo\\'eve (KL) expansion)\n",
    "$$\n",
    "    m(x) = \\sum_{i\\in \\mathbb N} \\sqrt{\\lambda_i}\\theta_i e_i(x)\n",
    "$$\n",
    "- $ \\lambda_i $ and $ e_i $ are the eigenvalues and eigenvectors of the Matern covariance  operator\n",
    "- $\\theta_i\\sim \\mathcal N(0,1)$ are i.i.d. random variables.\n",
    "- Now, $\\theta_i$ are the Bayesian parameters"
   ]
  },
  {
   "cell_type": "markdown",
   "metadata": {},
   "source": [
    "To define the Matern field (which represents the domain of our forward model) we use `cuqipy_fenics.geometry.MaternExpansion` and define the field as follows:"
   ]
  },
  {
   "cell_type": "code",
   "execution_count": null,
   "metadata": {},
   "outputs": [],
   "source": [
    "# Define CUQI geometry on which m is defined\n",
    "fenics_continuous_geo = cuqipy_fenics.geometry.FEniCSContinuous(parameter_function_space)\n",
    "\n",
    "# Define the MaternExpansion geometry that maps the i.i.d random variables to Matern field realizations\n",
    "domain_geometry = cuqipy_fenics.geometry.MaternExpansion(fenics_continuous_geo, length_scale = .1, num_terms=32)"
   ]
  },
  {
   "cell_type": "markdown",
   "metadata": {},
   "source": [
    "We can look at realizations of the Matern class Gaussian random field "
   ]
  },
  {
   "cell_type": "code",
   "execution_count": null,
   "metadata": {},
   "outputs": [],
   "source": [
    "field_realization = domain_geometry.par2fun(np.random.randn(domain_geometry.par_dim))\n",
    "dl.plot(field_realization)"
   ]
  },
  {
   "cell_type": "markdown",
   "metadata": {},
   "source": [
    "### 2.2. Create range geometry\n",
    "\n",
    "We create the range geometry which represents the forward model output (the solution $u$ in the entire domain in this case) "
   ]
  },
  {
   "cell_type": "code",
   "execution_count": null,
   "metadata": {},
   "outputs": [],
   "source": [
    "range_geometry = cuqipy_fenics.geometry.FEniCSContinuous(solution_function_space)\n"
   ]
  },
  {
   "cell_type": "markdown",
   "metadata": {},
   "source": [
    "### 2.3. Create cuqi forward model\n",
    "Now we use `cuqi.model.PDEModel` which is an object that belongs to the CUQIpy library and is agnostic to the FEniCS code (FEniCS code is abstracted away in the `PDE` object and the geometries)."
   ]
  },
  {
   "cell_type": "code",
   "execution_count": null,
   "metadata": {},
   "outputs": [],
   "source": [
    "cuqi_model = cuqi.model.PDEModel(PDE, domain_geometry=domain_geometry, range_geometry=range_geometry)"
   ]
  },
  {
   "cell_type": "markdown",
   "metadata": {},
   "source": [
    "### 2.4. Create prior\n",
    "\n",
    "We create the prior distribution, which is a distribution of the expansion coefficients $\\theta_i$"
   ]
  },
  {
   "cell_type": "code",
   "execution_count": null,
   "metadata": {},
   "outputs": [],
   "source": [
    "x = cuqi.distribution.GaussianCov(np.zeros(cuqi_model.domain_dim), 1, geometry=domain_geometry)"
   ]
  },
  {
   "cell_type": "markdown",
   "metadata": {},
   "source": [
    "We can plot prior samples"
   ]
  },
  {
   "cell_type": "code",
   "execution_count": null,
   "metadata": {},
   "outputs": [],
   "source": [
    "prior_samples = x.sample(5)\n",
    "prior_samples.plot()"
   ]
  },
  {
   "cell_type": "markdown",
   "metadata": {},
   "source": [
    "### 2.5. Create exact solution and exact data\n",
    "\n",
    "We create an exact solution (for simplification in this notebook, the exact solution is created from a prior sample, and furthermore, we do not pollute the data with noise):"
   ]
  },
  {
   "cell_type": "code",
   "execution_count": null,
   "metadata": {},
   "outputs": [],
   "source": [
    "np.random.seed(1)\n",
    "exact_solution =cuqi.array.CUQIarray(np.random.randn(domain_geometry.par_dim), is_par=True, geometry=domain_geometry)\n",
    "\n",
    "# plot exact solution\n",
    "im = exact_solution.plot()\n",
    "plt.colorbar(im[0])"
   ]
  },
  {
   "cell_type": "markdown",
   "metadata": {},
   "source": [
    "Create synthesized data that corresponds to the exact_solution"
   ]
  },
  {
   "cell_type": "code",
   "execution_count": null,
   "metadata": {},
   "outputs": [],
   "source": [
    "exact_data = cuqi_model(exact_solution)\n",
    "\n",
    "# plot exact data\n",
    "im = range_geometry.plot(exact_data)\n",
    "plt.colorbar(im[0])"
   ]
  },
  {
   "cell_type": "markdown",
   "metadata": {},
   "source": [
    "### 2.6. Create likelihood and data\n",
    "We create the data distribution"
   ]
  },
  {
   "cell_type": "code",
   "execution_count": null,
   "metadata": {},
   "outputs": [],
   "source": [
    "y = cuqi.distribution.GaussianCov(mean=cuqi_model(x), cov=.01**2, geometry=range_geometry)\n",
    "y"
   ]
  },
  {
   "cell_type": "markdown",
   "metadata": {},
   "source": [
    "And we create the data (which we assume here is the `exact_data` to simplify the problem)"
   ]
  },
  {
   "cell_type": "code",
   "execution_count": null,
   "metadata": {},
   "outputs": [],
   "source": [
    "data = exact_data"
   ]
  },
  {
   "cell_type": "markdown",
   "metadata": {},
   "source": [
    "We plot the data"
   ]
  },
  {
   "cell_type": "code",
   "execution_count": null,
   "metadata": {},
   "outputs": [],
   "source": [
    "# plot data\n",
    "im = range_geometry.plot(data)\n",
    "plt.colorbar(im[0])"
   ]
  },
  {
   "cell_type": "markdown",
   "metadata": {},
   "source": [
    "We create the likelihood function:"
   ]
  },
  {
   "cell_type": "code",
   "execution_count": null,
   "metadata": {},
   "outputs": [],
   "source": [
    "L = y(y=data)"
   ]
  },
  {
   "cell_type": "markdown",
   "metadata": {},
   "source": [
    "### 2.7. Create the posterior\n",
    "\n",
    "We create the posterior distribution"
   ]
  },
  {
   "cell_type": "code",
   "execution_count": null,
   "metadata": {},
   "outputs": [],
   "source": [
    "cuqi_posterior = cuqi.distribution.Posterior(L, x)"
   ]
  },
  {
   "cell_type": "markdown",
   "metadata": {},
   "source": [
    "### 2.8. Sample the posterior\n",
    "Create a pCN sampler"
   ]
  },
  {
   "cell_type": "code",
   "execution_count": null,
   "metadata": {},
   "outputs": [],
   "source": [
    "Ns = 100\n",
    "sampler = cuqi.sampler.pCN(cuqi_posterior)"
   ]
  },
  {
   "cell_type": "markdown",
   "metadata": {},
   "source": [
    "Sample the posterior"
   ]
  },
  {
   "cell_type": "code",
   "execution_count": null,
   "metadata": {},
   "outputs": [],
   "source": [
    "samples_pCN = sampler.sample_adapt(Ns, Nb=10)"
   ]
  },
  {
   "cell_type": "markdown",
   "metadata": {},
   "source": [
    "We plot the samples mean (and the exact solution for reference)"
   ]
  },
  {
   "cell_type": "code",
   "execution_count": null,
   "metadata": {},
   "outputs": [],
   "source": [
    "# plot samples mean\n",
    "im = samples_pCN.plot_mean(vmin=-1, vmax=2, mode='color')\n",
    "cb = plt.colorbar(im[0])\n",
    "\n",
    "# plot the exact solution\n",
    "plt.figure()\n",
    "im = exact_solution.plot(vmin=-1, vmax=2, mode='color')\n",
    "cb = plt.colorbar(im[0])\n",
    "plt.title('Exact solution')"
   ]
  },
  {
   "cell_type": "markdown",
   "metadata": {},
   "source": [
    "We look at the trace plot"
   ]
  },
  {
   "cell_type": "code",
   "execution_count": null,
   "metadata": {},
   "outputs": [],
   "source": [
    "samples_pCN.plot_trace()"
   ]
  },
  {
   "cell_type": "markdown",
   "metadata": {},
   "source": [
    "We plot the credibility interval"
   ]
  },
  {
   "cell_type": "code",
   "execution_count": null,
   "metadata": {},
   "outputs": [],
   "source": [
    "samples_pCN.plot_ci(exact=exact_solution, plot_par=True)\n",
    "plt.xticks(np.arange(x.dim)[::5],['v'+str(i) for i in range(x.dim)][::5]);"
   ]
  },
  {
   "cell_type": "markdown",
   "metadata": {},
   "source": [
    "The sampling did not go so well. We need to use a better sampling technique."
   ]
  },
  {
   "cell_type": "markdown",
   "metadata": {},
   "source": [
    "## 3. Using gradient-based sampler <a class=\"anchor\" id=\"gradient_sampling\"></a>"
   ]
  },
  {
   "cell_type": "markdown",
   "metadata": {},
   "source": [
    "### 3.1. The chain rule\n",
    "\n",
    "$$\\nabla_\\theta \\mathrm{log}\\rho_\\mathrm{post}(\\theta) \\propto \\nabla_\\theta \\mathrm{log}\\rho_\\mathrm{likelihood}(\\mathcal{G}(m(\\theta))) + \\nabla_\\theta \\mathrm{log}\\rho_\\mathrm{prior}(\\theta) $$\n",
    "\n",
    "We have the maps:\n",
    "- Domain geometry: $z := m(\\theta)$\n",
    "- Model: $y := \\mathcal{G}(z) $\n",
    "\n",
    "\n",
    "By the chain rule we have (for the likelihood part):\n",
    "\n",
    "$$ \\nabla_\\theta \\mathrm{log}\\rho_\\mathrm{likelihood}(\\mathcal{G}(m(\\theta))) = J_{m,\\theta}^T(\\theta) J_{\\mathcal{G}, m}^T(m(\\theta)) \\nabla_y  \\mathrm{log}\\rho(\\mathcal{G}(m(\\theta))) $$ \n",
    "\n",
    "- We use adjoint-based method to compute $J_{\\mathcal{G}, m}^T(m(\\theta)) V$\n",
    "\t- Costs one forward solve and one adjoint solve (cheaper than finite difference approximation)\n",
    "\n",
    "\n",
    "**This is done automatically by CUQIpy-FEniCS**\n",
    "\n",
    "  "
   ]
  },
  {
   "cell_type": "markdown",
   "metadata": {},
   "source": [
    "### 3.1 Set the adjoint problem boundary conditions\n",
    "\n",
    "To compute the gradient using adjoint based method, we need to define the adjoint problem (which the `PDE` object infers) and derive the adjoint problem boundary conditions.\n",
    "\n",
    "See: Gunzburger, M. D. (2002). Perspectives in flow control and optimization. Society for Industrial and Applied Mathematics, for adjoint based derivative derivation.\n",
    "\n",
    "We create the adjoint problem boundary conditions and set it in the `PDE` object: "
   ]
  },
  {
   "cell_type": "code",
   "execution_count": null,
   "metadata": {},
   "outputs": [],
   "source": [
    "adjoint_dirichlet_bc_expr = dl.Constant(0.0)\n",
    "adjoint_dirichlet_bc = dl.DirichletBC(solution_function_space,\n",
    "                                      adjoint_dirichlet_bc_expr,\n",
    "                                      u_boundary) #adjoint problem bcs\n",
    "PDE.adjoint_dirichlet_bc = adjoint_dirichlet_bc"
   ]
  },
  {
   "cell_type": "markdown",
   "metadata": {},
   "source": [
    "### 3.2 Check the gradient correctness at a point $x_i$\n",
    "We check the log posterior gradient correctness at a point $x_i$ by comparing the gradient CUQIpy-FEniCS computes using adjoint based method and the gradient computed using `scipy` `optimize.approx_fprime` method.\n",
    "\n",
    "We first create a point $x_i$"
   ]
  },
  {
   "cell_type": "code",
   "execution_count": null,
   "metadata": {},
   "outputs": [],
   "source": [
    "# Create x_i\n",
    "x_i = cuqi.array.CUQIarray(np.random.randn(domain_geometry.par_dim), is_par=True, geometry=domain_geometry)"
   ]
  },
  {
   "cell_type": "markdown",
   "metadata": {},
   "source": [
    "Compute the posterior gradient using CUQIpy-FEniCS\n"
   ]
  },
  {
   "cell_type": "code",
   "execution_count": null,
   "metadata": {},
   "outputs": [],
   "source": [
    "print(\"Posterior gradient (cuqi.model)\")\n",
    "cuqi_grad = cuqi_posterior.gradient(x_i)\n"
   ]
  },
  {
   "cell_type": "markdown",
   "metadata": {},
   "source": [
    "Compute the approximate gradient using `optimize.approx_fprime`\n"
   ]
  },
  {
   "cell_type": "code",
   "execution_count": null,
   "metadata": {},
   "outputs": [],
   "source": [
    "print(\"Scipy approx\")\n",
    "step = 1e-11   # finite diff step\n",
    "scipy_grad = optimize.approx_fprime(x_i, cuqi_posterior.logpdf, step)"
   ]
  },
  {
   "cell_type": "markdown",
   "metadata": {},
   "source": [
    "Plot both gradients"
   ]
  },
  {
   "cell_type": "code",
   "execution_count": null,
   "metadata": {},
   "outputs": [],
   "source": [
    "plt.plot(cuqi_grad, label='CUQI')\n",
    "plt.plot(scipy_grad , '--', label='Approximate')\n",
    "plt.legend()\n",
    "plt.title(\"Comparing gradient with numerical approximation\");"
   ]
  },
  {
   "cell_type": "markdown",
   "metadata": {},
   "source": [
    "### 3.3. Use gradient based sampler (NUTS)\n",
    "\n",
    "Create a gradient-based sampler (we use NUTS here)"
   ]
  },
  {
   "cell_type": "code",
   "execution_count": null,
   "metadata": {},
   "outputs": [],
   "source": [
    "Ns = 100\n",
    "sampler = cuqi.sampler.NUTS(cuqi_posterior)"
   ]
  },
  {
   "cell_type": "markdown",
   "metadata": {},
   "source": [
    "Sample using NUTS (this may take a little while)"
   ]
  },
  {
   "cell_type": "code",
   "execution_count": null,
   "metadata": {},
   "outputs": [],
   "source": [
    "samples_NUTS = sampler.sample_adapt(Ns, Nb=10)"
   ]
  },
  {
   "cell_type": "markdown",
   "metadata": {},
   "source": [
    "Plot the mean and the exact solution"
   ]
  },
  {
   "cell_type": "code",
   "execution_count": null,
   "metadata": {},
   "outputs": [],
   "source": [
    "# plot samples mean\n",
    "im = samples_NUTS.plot_mean(vmin=-1, vmax=2, mode='color')\n",
    "cb = plt.colorbar(im[0])\n",
    "\n",
    "# plot the exact solution\n",
    "plt.figure()\n",
    "im = exact_solution.plot(vmin=-1, vmax=2, mode='color')\n",
    "cb = plt.colorbar(im[0])\n",
    "plt.title('Exact solution')"
   ]
  },
  {
   "cell_type": "markdown",
   "metadata": {},
   "source": [
    "Plot trace"
   ]
  },
  {
   "cell_type": "code",
   "execution_count": null,
   "metadata": {},
   "outputs": [],
   "source": [
    "samples_NUTS.plot_trace()"
   ]
  },
  {
   "cell_type": "markdown",
   "metadata": {},
   "source": [
    "We also plot the credibility interval"
   ]
  },
  {
   "cell_type": "code",
   "execution_count": null,
   "metadata": {},
   "outputs": [],
   "source": [
    "samples_NUTS.plot_ci(exact=exact_solution, plot_par=True)\n",
    "plt.xticks(np.arange(x.dim)[::5],['v'+str(i) for i in range(x.dim)][::5]);"
   ]
  },
  {
   "cell_type": "markdown",
   "metadata": {},
   "source": [
    "Now the sampling has gone better. This is because we utilized gradient information of the problem."
   ]
  },
  {
   "cell_type": "markdown",
   "metadata": {},
   "source": [
    "#### ★ Try yourself (optional):  \n",
    "\n",
    "- What do you notice by comparing the trace plots of the pCN samples and the NUTS samples, and comparing the samples mean and the exact solution in both cases.\n",
    "- Compute the effective samples size (ESS) for each case.\n",
    "- In this example, we build FEniCS code PDE ourselves. CUQIpy-FEniCS also provides test problems. Copy-paste the code script you find on [CUQIpy-FEniCS main page](https://github.com/CUQI-DTU/CUQIpy-FEniCS) and run the code here. \n"
   ]
  },
  {
   "cell_type": "code",
   "execution_count": null,
   "metadata": {},
   "outputs": [],
   "source": [
    "# Your code here\n",
    "\n"
   ]
  }
 ],
 "metadata": {
  "kernelspec": {
   "display_name": "Python 3",
   "language": "python",
   "name": "python3"
  },
  "language_info": {
   "codemirror_mode": {
    "name": "ipython",
    "version": 3
   },
   "file_extension": ".py",
   "mimetype": "text/x-python",
   "name": "python",
   "nbconvert_exporter": "python",
   "pygments_lexer": "ipython3",
   "version": "3.10.5"
  },
  "orig_nbformat": 3,
  "vscode": {
   "interpreter": {
    "hash": "f83c72a7c5d885a4a7f43561cb77434137f6f5cf21a7418d4732e18616218db3"
   }
  }
 },
 "nbformat": 4,
 "nbformat_minor": 2
}
