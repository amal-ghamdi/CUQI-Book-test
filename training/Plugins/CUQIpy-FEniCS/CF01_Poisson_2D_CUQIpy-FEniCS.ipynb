{
 "cells": [
  {
   "attachments": {},
   "cell_type": "markdown",
   "metadata": {},
   "source": [
    "# CF01: PDE-based Bayesian Problems using CUQIpy and CUQIpy-FEniCS plugin\n",
    "\n",
    "Here we build a Bayesian inverse problem to infer the conductivity in a 2D unit-square domain modelled by the Poisson equation (applications include EIT problems).\n",
    "\n",
    "The PDE model is built using FEniCS, then we use CUQIpy-FEniCS to wrap the PDE model to interface it with CUQIpy. We use CUQIpy samplers to solve the PDE-based Bayesian problem.\n",
    "\n",
    "## Learning objectives of this notebook:\n",
    "- Build a FEniCS-based Poisson problem\n",
    "- Build and solve the corresponding PDE-based Bayesian problem in CUQIpy\n",
    "\t- Use Matern covariance to specify the prior\n",
    "\t- Use pCN sampler\n",
    "- Use gradient-based sampler\n",
    "\t- Identify the chain rule needed to compute the gradient of the log-likelihood\n",
    "\t- Use NUTS sampler\n",
    "\n",
    "## Table of contents\n",
    "1. [Building a FEniCS based Poisson problem](#PDEproblem)\n",
    "2. [Building and solving the PDE-based Bayesian problem in CUQIpy](#Bayesian_problem)\n",
    "3. [Using gradient-based sampler](#gradient_sampling)\n"
   ]
  },
  {
   "attachments": {},
   "cell_type": "markdown",
   "metadata": {},
   "source": [
    "## Import required libraries and classes"
   ]
  },
  {
   "cell_type": "code",
   "execution_count": null,
   "metadata": {},
   "outputs": [],
   "source": [
    "from scipy import optimize\n",
    "import ufl\n",
    "import matplotlib.pyplot as plt\n",
    "import dolfin as dl\n",
    "import numpy as np\n",
    "from cuqi.model import PDEModel\n",
    "from cuqi.distribution import Gaussian, Posterior\n",
    "from cuqi.array import CUQIarray\n",
    "from cuqipy_fenics.pde import SteadyStateLinearFEniCSPDE\n",
    "from cuqipy_fenics.geometry import FEniCSContinuous, MaternKLExpansion\n",
    "from cuqi.sampler import NUTS, pCN\n"
   ]
  },
  {
   "attachments": {},
   "cell_type": "markdown",
   "metadata": {},
   "source": [
    "## 1. Building a FEniCS based Poisson problem <a class=\"anchor\" id=\"PDEproblem\"></a>\n",
    "\n",
    "In this section, we use FEniCS python library to build a PDE model. \n",
    "\n",
    "The PDE model we consider here is a 2D steady-state problem (Poisson):\n",
    "\n",
    "\\begin{align*}\n",
    " -\\nabla \\cdot \\left(\\kappa(\\xi) \\nabla u(\\xi)\\right) &= f(\\xi) \\;\\;\\;\\;\\xi=[\\xi^1, \\xi^2]^\\mathrm{T} \\in (0,1)\\times(0,1),\\\\\n",
    "u(\\xi)&=0 \\;\\;\\;\\;\\mathrm{on}\\; \\xi^1=0\\\\\n",
    "u(\\xi)&=0 \\;\\;\\;\\;\\mathrm{on}\\; \\xi^1=1 \\\\\n",
    "\\kappa(\\xi)\\nabla u(\\xi)\\cdot n&=0 \\;\\;\\;\\;\\mathrm{on}\\; \\xi^2=0 \\\\\n",
    "\\kappa(\\xi)\\nabla u(\\xi)\\cdot n&=0 \\;\\;\\;\\;\\mathrm{on}\\; \\xi^2=1 \n",
    "\\end{align*}\n",
    "\n",
    "\n",
    "\n",
    "- where $\\kappa(\\xi)$ is the conductivity, $u(\\xi)$ is the PDE solution (potential), $f(\\xi)$ is the source term.\n",
    "\n",
    "- We use the parameterization $\\kappa(\\xi) = e^{m(\\xi)}$, to ensure positivity of the inferred conductivity (more on this later).\n",
    "\n",
    "- We denote the discretized system that we need to solve as\n",
    "$\\mathbf{A}(\\mathbf{m})\\mathbf{U} = \\mathbf{F}$\n",
    "  - $\\mathbf{A}$ is the discretized diffusion differential operator\n",
    "  - $\\mathbf{m}$ is the discretized unknown parameter (log conductivity) \n",
    "  - $\\mathbf{U}$ is the discretized solution (the potential)\n",
    "  - $\\mathbf{F}$ is the discretized RHS (the source term) "
   ]
  },
  {
   "attachments": {},
   "cell_type": "markdown",
   "metadata": {},
   "source": [
    "### The discretization \n",
    "\n",
    "We use finite element discretization of the model above where the solution and the parameters are approximated in a second and first order Lagrange polynomial space, respectively. \n",
    "\n",
    "Using finite element formulation requires building the weak form of the PDE. To formulate the weak form, we multiply the PDE by a test function and integrate by parts and substitute the Neumann boundary conditions above (the last two equations above).\n",
    "\n",
    "For formulating the weak form, see for example [this reference](https://en.wikiversity.org/wiki/Finite_elements/Weak_form_of_Poisson_equation)."
   ]
  },
  {
   "attachments": {},
   "cell_type": "markdown",
   "metadata": {},
   "source": [
    "### 1.1. Set up mesh\n",
    "\n",
    "We create a 2D FEniCS mesh (unit square mesh) on which the finite element solution is discretized."
   ]
  },
  {
   "cell_type": "code",
   "execution_count": null,
   "metadata": {},
   "outputs": [],
   "source": [
    "n_ksi_1 = 12 # number of vertices on the ksi_1 dimension\n",
    "n_ksi_2 = 12 # number of vertices on the ksi_2 dimension\n",
    "mesh = dl.UnitSquareMesh(n_ksi_1, n_ksi_2) # create FEniCS mesh\n",
    "dl.plot(mesh)"
   ]
  },
  {
   "attachments": {},
   "cell_type": "markdown",
   "metadata": {},
   "source": [
    "### 1.2. Set up function spaces\n",
    "\n",
    "We define the function spaces on which the PDE solution $u$ and the quantity we want to quantify (log conductivity $m$) are discretized. The function spaces are, respectively, second order Lagrange polynomial space and first order Lagrange polynomial space."
   ]
  },
  {
   "cell_type": "code",
   "execution_count": null,
   "metadata": {},
   "outputs": [],
   "source": [
    "solution_function_space = dl.FunctionSpace(mesh, 'Lagrange', 2) # function space for solution u\n",
    "parameter_function_space = dl.FunctionSpace(mesh, 'Lagrange', 1) # function space for parameter m"
   ]
  },
  {
   "attachments": {},
   "cell_type": "markdown",
   "metadata": {},
   "source": [
    "### 1.3. Set up Dirichlet boundary conditions \n",
    "\n",
    "We create the Dirichlet boundary conditions: \n",
    "\\begin{align*}\n",
    "u(\\xi)&=0 \\;\\;\\;\\;\\mathrm{on}\\; \\xi^1=0\\\\\n",
    "u(\\xi)&=0 \\;\\;\\;\\;\\mathrm{on}\\; \\xi^1=1 \\\\\n",
    "\\end{align*}"
   ]
  },
  {
   "cell_type": "code",
   "execution_count": null,
   "metadata": {},
   "outputs": [],
   "source": [
    "# Function (where do we have Dirichlet BC)\n",
    "def u_boundary(ksi, on_boundary):\n",
    "    return on_boundary and ( ksi[0] < dl.DOLFIN_EPS or ksi[0] > 1.0 - dl.DOLFIN_EPS)\n",
    "\n",
    "# Expression (what is the value on these Dirichlet BC)\n",
    "dirichlet_bc_expr = dl.Expression(\"0\", degree=1)\n",
    "\n",
    "# FEniCS Dirichlet BC Object\n",
    "dirichlet_bc = dl.DirichletBC(solution_function_space,\n",
    "                              dirichlet_bc_expr,\n",
    "                              u_boundary) "
   ]
  },
  {
   "attachments": {},
   "cell_type": "markdown",
   "metadata": {},
   "source": [
    "### 1.4. Set up source term\n",
    "\n",
    "We set the source term $f(\\xi)$ to a constant value 1."
   ]
  },
  {
   "cell_type": "code",
   "execution_count": null,
   "metadata": {},
   "outputs": [],
   "source": [
    "f = dl.Constant(1.0)"
   ]
  },
  {
   "attachments": {},
   "cell_type": "markdown",
   "metadata": {},
   "source": [
    "### 1.5. Set up PDE variational form\n",
    "\n",
    "After parametrizing conductivity using $\\kappa(\\xi) = e^{m(\\xi)}$, the variational form of the Poisson PDE above is:\n",
    "\n",
    "\\begin{align*}\n",
    "\\int_{(0,1)\\times(0,1)} \\left( e^{m(\\xi)} \\nabla u(\\xi) \\cdot \\nabla p(\\xi)  - f(\\xi)p(\\xi) \\right){d\\xi}\n",
    "\\end{align*}\n",
    "\n",
    "where $p(\\xi)$ is a test function. We create a function that takes the unknown parameters `m`, and a representation of the solution function `u` and a test function `p` and returns the weak form.\n",
    "\n"
   ]
  },
  {
   "cell_type": "code",
   "execution_count": null,
   "metadata": {},
   "outputs": [],
   "source": [
    "# FEniCS measure for integration\n",
    "dksi = dl.Measure('dx', domain=mesh)\n",
    "\n",
    "# The weak form of the PDE\n",
    "def form(m,u,p):\n",
    "    return ufl.exp(m)*ufl.inner(ufl.grad(u), ufl.grad(p))*dksi - f*p*dksi"
   ]
  },
  {
   "attachments": {},
   "cell_type": "markdown",
   "metadata": {},
   "source": [
    "### 1.6 Create CUQIpy PDE object\n",
    "\n",
    "We bundle the FEniCS PDE model that we built in a `SteadyStateLinearFEniCSPDE` object:"
   ]
  },
  {
   "cell_type": "code",
   "execution_count": null,
   "metadata": {},
   "outputs": [],
   "source": [
    "PDE = SteadyStateLinearFEniCSPDE( \n",
    "        form,\n",
    "        mesh, \n",
    "        parameter_function_space=parameter_function_space,\n",
    "        solution_function_space=solution_function_space,\n",
    "        dirichlet_bcs=dirichlet_bc)"
   ]
  },
  {
   "attachments": {},
   "cell_type": "markdown",
   "metadata": {},
   "source": [
    "Let us try solving this PDE for $m(\\xi)=1$, first we create the parameter:"
   ]
  },
  {
   "cell_type": "code",
   "execution_count": null,
   "metadata": {},
   "outputs": [],
   "source": [
    "# Create homogeneous parameter m_1(ksi) = 1\n",
    "\n",
    "# Create a FEniCS function for the parameter\n",
    "m_1 = dl.Function(parameter_function_space)\n",
    "\n",
    "# Assign the value 1 to the FEniCS function by interpolating a FEniCS Constant object.\n",
    "m_1.interpolate(dl.Constant(1.0))"
   ]
  },
  {
   "attachments": {},
   "cell_type": "markdown",
   "metadata": {},
   "source": [
    "Let us check `m_1` value at a given point (0.5, 0.8)"
   ]
  },
  {
   "cell_type": "code",
   "execution_count": null,
   "metadata": {},
   "outputs": [],
   "source": [
    "m_1(.5, .8)"
   ]
  },
  {
   "attachments": {},
   "cell_type": "markdown",
   "metadata": {},
   "source": [
    "Now let us use the object we created `PDE` to assemble (build the discretized linear system) and solve the PDE"
   ]
  },
  {
   "cell_type": "code",
   "execution_count": null,
   "metadata": {},
   "outputs": [],
   "source": [
    "# Assemble the PDE at m_1\n",
    "PDE.assemble(m_1)\n",
    "\n",
    "# Solve the PDE at m_1\n",
    "u, _ = PDE.solve()"
   ]
  },
  {
   "attachments": {},
   "cell_type": "markdown",
   "metadata": {},
   "source": [
    "Plot the solution \n"
   ]
  },
  {
   "cell_type": "code",
   "execution_count": null,
   "metadata": {},
   "outputs": [],
   "source": [
    "im = dl.plot(u)\n",
    "plt.colorbar(im)"
   ]
  },
  {
   "attachments": {},
   "cell_type": "markdown",
   "metadata": {},
   "source": [
    "## 2. Building and solving the Bayesian inverse problem in CUQIpy <a class=\"anchor\" id=\"Bayesian_problem\"></a>\n",
    "  \n",
    "The goal is to infer the log conductivity profile $m(\\xi)$ given observed data $y^\\mathrm{obs}$. These observation can be of the potential directly, i.e. $y^\\mathrm{obs}=u(\\xi)$, or a function of the potential. \n",
    "\n",
    "The data $y^\\mathrm{obs}$ is then given by:\n",
    "\n",
    "$$ y^\\mathrm{obs} = \\mathcal{G}(m) + \\eta$$\n",
    "\n",
    "\n",
    "where \n",
    "- $\\eta$ is the measurement noise\n",
    "- $\\mathcal{G}$ is the forward model operator which maps $m$ to the observations.\n"
   ]
  },
  {
   "attachments": {},
   "cell_type": "markdown",
   "metadata": {},
   "source": [
    "### 2.1. Create domain geometry \n",
    "We model $m$ as a Matern-class random field which lead to the parametrization (Karhunen-Loève (KL) expansion):\n",
    "$$\n",
    "    m(\\xi) = \\sum_{i=0}^{\\infty} \\sqrt{\\lambda_i}x_i e_i(\\xi) \\approx \\sum_{i=0}^{n_\\mathrm{KL}} \\sqrt{\\lambda_i}x_i e_i(\\xi)\n",
    "$$\n",
    "- $ \\lambda_i $ and $ e_i $ are the eigenvalues and eigenvectors of the Matern covariance  operator.\n",
    "- $n_\\mathrm{KL}$ is the number of KL terms used to approximate the random field $m(\\xi)$ (we choose $n_\\mathrm{KL}=32$ here).\n",
    "- $x_i\\sim \\mathrm{Gaussain}(0,1)$ are i.i.d. standard normal random variables.\n",
    "- Now, $x_i$ are the unknown parameters that parameterize the conductivity field $m(\\xi)$."
   ]
  },
  {
   "attachments": {},
   "cell_type": "markdown",
   "metadata": {},
   "source": [
    "To define the Matern field (which represents the domain of our forward model), we use `MaternKLExpansion` and define the field as follows:"
   ]
  },
  {
   "cell_type": "code",
   "execution_count": null,
   "metadata": {},
   "outputs": [],
   "source": [
    "# Define CUQI geometry on which m is defined\n",
    "fenics_continuous_geo = FEniCSContinuous(parameter_function_space,\n",
    "                                         labels=['$\\\\xi_1$', '$\\\\xi_2$'])\n",
    "\n",
    "# Define the MaternExpansion geometry that maps the i.i.d random variables to\n",
    "# Matern field realizations\n",
    "domain_geometry = MaternKLExpansion(fenics_continuous_geo,\n",
    "                                    length_scale=.1,\n",
    "                                    num_terms=32)"
   ]
  },
  {
   "attachments": {},
   "cell_type": "markdown",
   "metadata": {},
   "source": [
    "### 2.2. Create range geometry\n",
    "\n",
    "We create the range geometry which represents the forward model output (the solution $u$ in the entire domain in this case) "
   ]
  },
  {
   "cell_type": "code",
   "execution_count": null,
   "metadata": {},
   "outputs": [],
   "source": [
    "range_geometry = FEniCSContinuous(solution_function_space,\n",
    "                                  labels=['$\\\\xi_1$', '$\\\\xi_2$'])\n"
   ]
  },
  {
   "attachments": {},
   "cell_type": "markdown",
   "metadata": {},
   "source": [
    "### 2.3. Create cuqi forward model\n",
    "Now we use `PDEModel` which is an object that belongs to the CUQIpy library and is agnostic to the FEniCS code (FEniCS code is abstracted away in the `PDE` object and the geometries)."
   ]
  },
  {
   "cell_type": "code",
   "execution_count": null,
   "metadata": {},
   "outputs": [],
   "source": [
    "cuqi_model = PDEModel(PDE, domain_geometry=domain_geometry, range_geometry=range_geometry)"
   ]
  },
  {
   "attachments": {},
   "cell_type": "markdown",
   "metadata": {},
   "source": [
    "### 2.4. Create prior\n",
    "\n",
    "We create the prior distribution, which is a distribution of the expansion coefficients $x_i$"
   ]
  },
  {
   "cell_type": "code",
   "execution_count": null,
   "metadata": {},
   "outputs": [],
   "source": [
    "x = Gaussian(np.zeros(cuqi_model.domain_dim), cov=1, geometry=domain_geometry)"
   ]
  },
  {
   "attachments": {},
   "cell_type": "markdown",
   "metadata": {},
   "source": [
    "We can plot prior samples (realizations of Matern class Gaussian random field)"
   ]
  },
  {
   "cell_type": "code",
   "execution_count": null,
   "metadata": {},
   "outputs": [],
   "source": [
    "prior_samples = x.sample(5)\n",
    "prior_samples.plot()"
   ]
  },
  {
   "attachments": {},
   "cell_type": "markdown",
   "metadata": {},
   "source": [
    "### 2.5. Create exact solution and exact data\n",
    "\n",
    "We create an exact solution (for simplification in this notebook, the exact solution is created from a prior sample):"
   ]
  },
  {
   "cell_type": "code",
   "execution_count": null,
   "metadata": {},
   "outputs": [],
   "source": [
    "np.random.seed(1)\n",
    "exact_solution = x.sample()\n",
    "\n",
    "# plot exact solution\n",
    "im = exact_solution.plot()\n",
    "plt.colorbar(im[0])"
   ]
  },
  {
   "attachments": {},
   "cell_type": "markdown",
   "metadata": {},
   "source": [
    "Create synthesized data that corresponds to the exact_solution"
   ]
  },
  {
   "cell_type": "code",
   "execution_count": null,
   "metadata": {},
   "outputs": [],
   "source": [
    "exact_data = cuqi_model(exact_solution)\n",
    "\n",
    "# plot exact data\n",
    "im = range_geometry.plot(exact_data)\n",
    "plt.colorbar(im[0])"
   ]
  },
  {
   "attachments": {},
   "cell_type": "markdown",
   "metadata": {},
   "source": [
    "### 2.6. Create likelihood and data\n",
    "We create the data distribution"
   ]
  },
  {
   "cell_type": "code",
   "execution_count": null,
   "metadata": {},
   "outputs": [],
   "source": [
    "y = Gaussian(mean=cuqi_model(x), cov=.001**2, geometry=range_geometry)\n",
    "y"
   ]
  },
  {
   "attachments": {},
   "cell_type": "markdown",
   "metadata": {},
   "source": [
    "And we create the data"
   ]
  },
  {
   "cell_type": "code",
   "execution_count": null,
   "metadata": {},
   "outputs": [],
   "source": [
    "y_obs = y(x=exact_solution).sample()"
   ]
  },
  {
   "attachments": {},
   "cell_type": "markdown",
   "metadata": {},
   "source": [
    "We plot the data"
   ]
  },
  {
   "cell_type": "code",
   "execution_count": null,
   "metadata": {},
   "outputs": [],
   "source": [
    "# plot data\n",
    "im = range_geometry.plot(y_obs)\n",
    "plt.colorbar(im[0])"
   ]
  },
  {
   "attachments": {},
   "cell_type": "markdown",
   "metadata": {},
   "source": [
    "We create the likelihood function:"
   ]
  },
  {
   "cell_type": "code",
   "execution_count": null,
   "metadata": {},
   "outputs": [],
   "source": [
    "L = y(y=y_obs)"
   ]
  },
  {
   "attachments": {},
   "cell_type": "markdown",
   "metadata": {},
   "source": [
    "### 2.7. Create the posterior\n",
    "\n",
    "We create the posterior distribution"
   ]
  },
  {
   "cell_type": "code",
   "execution_count": null,
   "metadata": {},
   "outputs": [],
   "source": [
    "cuqi_posterior = Posterior(L, x)"
   ]
  },
  {
   "attachments": {},
   "cell_type": "markdown",
   "metadata": {},
   "source": [
    "### 2.8. Sample the posterior\n",
    "Create a [preconditioned Crank-Nicolson (pCN)](https://cuqi-dtu.github.io/CUQIpy/api/_autosummary/cuqi.sampler/cuqi.sampler.pCN.html#cuqi.sampler.pCN) sampler"
   ]
  },
  {
   "cell_type": "code",
   "execution_count": null,
   "metadata": {},
   "outputs": [],
   "source": [
    "Ns = 100\n",
    "sampler = pCN(cuqi_posterior)"
   ]
  },
  {
   "attachments": {},
   "cell_type": "markdown",
   "metadata": {},
   "source": [
    "Sample the posterior"
   ]
  },
  {
   "cell_type": "code",
   "execution_count": null,
   "metadata": {},
   "outputs": [],
   "source": [
    "samples_pCN = sampler.sample_adapt(Ns, Nb=10)"
   ]
  },
  {
   "attachments": {},
   "cell_type": "markdown",
   "metadata": {},
   "source": [
    "We plot the samples mean (and the exact solution for reference)"
   ]
  },
  {
   "cell_type": "code",
   "execution_count": null,
   "metadata": {},
   "outputs": [],
   "source": [
    "# plot samples mean\n",
    "im = samples_pCN.plot_mean(vmin=-0.2, vmax=0.5, mode='color')\n",
    "cb = plt.colorbar(im[0])\n",
    "\n",
    "# plot the exact solution\n",
    "plt.figure()\n",
    "im = exact_solution.plot(vmin=-0.2, vmax=0.5, mode='color')\n",
    "cb = plt.colorbar(im[0])\n",
    "plt.title('Exact solution')"
   ]
  },
  {
   "attachments": {},
   "cell_type": "markdown",
   "metadata": {},
   "source": [
    "We look at the trace plot"
   ]
  },
  {
   "cell_type": "code",
   "execution_count": null,
   "metadata": {},
   "outputs": [],
   "source": [
    "samples_pCN.plot_trace()"
   ]
  },
  {
   "attachments": {},
   "cell_type": "markdown",
   "metadata": {},
   "source": [
    "We plot the credibility interval"
   ]
  },
  {
   "cell_type": "code",
   "execution_count": null,
   "metadata": {},
   "outputs": [],
   "source": [
    "samples_pCN.plot_ci(exact=exact_solution, plot_par=True)\n",
    "plt.xticks(np.arange(x.dim)[::5],['v'+str(i) for i in range(x.dim)][::5]);"
   ]
  },
  {
   "attachments": {},
   "cell_type": "markdown",
   "metadata": {},
   "source": [
    "The sampling did not go so well. We need to use a better sampling technique."
   ]
  },
  {
   "attachments": {},
   "cell_type": "markdown",
   "metadata": {},
   "source": [
    "## 3. Using gradient-based sampler <a class=\"anchor\" id=\"gradient_sampling\"></a>"
   ]
  },
  {
   "attachments": {},
   "cell_type": "markdown",
   "metadata": {},
   "source": [
    "### 3.1. The chain rule\n",
    "\n",
    "We compute the gradient of the log-posterior with respect to the unknown parameter $x$ using the chain rule:\n",
    "$$\\nabla_x \\mathrm{log}p_\\mathrm{post}(x) \\propto \\nabla_x \\mathrm{log}p_\\mathrm{likelihood}(\\mathcal{G}(m(x))) + \\nabla_x \\mathrm{log}p_\\mathrm{prior}(x), $$\n",
    "where $p_\\mathrm{likelihood}$ is the likelihood density function, $p_\\mathrm{prior}$ is the prior probability density function, $p_\\mathrm{post}$ is the posterior probability density function and $m$ is the Matern field.\n",
    "\n",
    "\n",
    "We have the maps:\n",
    "- $z := m(x)$, implemented by the domain geometry `MaternKLExpansion`.\n",
    "- $y := \\mathcal{G}(z) $, implemented by the forward model `PDEModel`.\n",
    "\n",
    "\n",
    "By the chain rule we have (for the likelihood part):\n",
    "\n",
    "$$ \\nabla_x \\mathrm{log}p_\\mathrm{likelihood}(y) = J_{z,x}^T(x) J_{y, z}^T(z) \\nabla_y  \\mathrm{log}p_\\mathrm{likelihood}(y), $$\n",
    "where $J_{z,x}$ is the Jacobian of the map $z=m(x)$ with respect to $x$, $J_{y, z}$ is the Jacobian of the map $y=\\mathcal{G}(z)$ with respect to $z$ and $\\nabla_y  \\mathrm{log}p_\\mathrm{likelihood}(y)$ is the gradient of the log-likelihood with respect to $y$.\n",
    "\n",
    "- We use adjoint-based method to compute the matrix vector product $J_{y, z}^T(z)v$ for some given vector $v$.\n",
    "\t- Costs one forward solve and one adjoint solve (cheaper than finite difference approximation)\n",
    "\n",
    "\n",
    "**This is done automatically by CUQIpy-FEniCS**\n",
    "\n",
    "  "
   ]
  },
  {
   "attachments": {},
   "cell_type": "markdown",
   "metadata": {},
   "source": [
    "### 3.1 Set the adjoint problem boundary conditions\n",
    "\n",
    "To compute the gradient using adjoint based method, we need to define the adjoint problem (which the `PDE` object infers) and derive the adjoint problem boundary conditions.\n",
    "\n",
    "See: Gunzburger, M. D. (2002). Perspectives in flow control and optimization. Society for Industrial and Applied Mathematics, for adjoint based derivative derivation.\n",
    "\n",
    "We create the adjoint problem boundary conditions.  "
   ]
  },
  {
   "cell_type": "code",
   "execution_count": null,
   "metadata": {},
   "outputs": [],
   "source": [
    "adjoint_dirichlet_bc_expr = dl.Constant(0.0)\n",
    "adjoint_dirichlet_bc = dl.DirichletBC(solution_function_space,\n",
    "                                      adjoint_dirichlet_bc_expr,\n",
    "                                      u_boundary) #adjoint problem bcs"
   ]
  },
  {
   "attachments": {},
   "cell_type": "markdown",
   "metadata": {},
   "source": [
    "We recreate the `PDE` object to use the adjoint boundary conditions. We then again create the `PDEModel`, the data distribution, and the posterior distribution to use the new `PDE` object."
   ]
  },
  {
   "cell_type": "code",
   "execution_count": null,
   "metadata": {},
   "outputs": [],
   "source": [
    "PDE = SteadyStateLinearFEniCSPDE( \n",
    "        form,\n",
    "        mesh, \n",
    "        parameter_function_space=parameter_function_space,\n",
    "        solution_function_space=solution_function_space,\n",
    "        dirichlet_bcs=dirichlet_bc,\n",
    "        adjoint_dirichlet_bcs=adjoint_dirichlet_bc)\n",
    "\n",
    "cuqi_model = PDEModel(PDE,\n",
    "                      domain_geometry=domain_geometry,\n",
    "                      range_geometry=range_geometry)\n",
    "\n",
    "y = Gaussian(mean=cuqi_model(x), cov=.001**2, geometry=range_geometry)\n",
    "L = y(y=y_obs)\n",
    "cuqi_posterior = Posterior(L, x)"
   ]
  },
  {
   "attachments": {},
   "cell_type": "markdown",
   "metadata": {},
   "source": [
    "### 3.2 Check the gradient correctness at an input $x_\\mathrm{test}$\n",
    "We check the log posterior gradient correctness at an input $x_\\mathrm{test}$ by comparing the gradient computed by CUQIpy-FEniCS using adjoint based method and the gradient computed using `scipy` `optimize.approx_fprime` method.\n",
    "\n",
    "We first create the input vector $x_\\mathrm{test}$"
   ]
  },
  {
   "cell_type": "code",
   "execution_count": null,
   "metadata": {},
   "outputs": [],
   "source": [
    "# Create x_i\n",
    "x_test = CUQIarray(np.random.randn(domain_geometry.par_dim), is_par=True, geometry=domain_geometry)"
   ]
  },
  {
   "attachments": {},
   "cell_type": "markdown",
   "metadata": {},
   "source": [
    "Compute the posterior gradient using CUQIpy-FEniCS\n"
   ]
  },
  {
   "cell_type": "code",
   "execution_count": null,
   "metadata": {},
   "outputs": [],
   "source": [
    "print(\"Posterior gradient (cuqi.model)\")\n",
    "cuqi_grad = cuqi_posterior.gradient(x_test)\n"
   ]
  },
  {
   "attachments": {},
   "cell_type": "markdown",
   "metadata": {},
   "source": [
    "Compute the approximate gradient using `optimize.approx_fprime`\n"
   ]
  },
  {
   "cell_type": "code",
   "execution_count": null,
   "metadata": {},
   "outputs": [],
   "source": [
    "print(\"Scipy approx\")\n",
    "step = 1e-11   # finite diff step\n",
    "scipy_grad = optimize.approx_fprime(x_test, cuqi_posterior.logpdf, step)"
   ]
  },
  {
   "attachments": {},
   "cell_type": "markdown",
   "metadata": {},
   "source": [
    "Plot both gradients"
   ]
  },
  {
   "cell_type": "code",
   "execution_count": null,
   "metadata": {},
   "outputs": [],
   "source": [
    "plt.plot(cuqi_grad, label='CUQI')\n",
    "plt.plot(scipy_grad , '--', label='Approximate')\n",
    "plt.legend()\n",
    "plt.title(\"Comparing gradient with numerical approximation\");"
   ]
  },
  {
   "attachments": {},
   "cell_type": "markdown",
   "metadata": {},
   "source": [
    "### 3.3. Use gradient based sampler (NUTS)\n",
    "\n",
    "Specify a gradient-based sampler (we use NUTS here)"
   ]
  },
  {
   "cell_type": "code",
   "execution_count": null,
   "metadata": {},
   "outputs": [],
   "source": [
    "Ns = 200\n",
    "sampler = NUTS(cuqi_posterior)"
   ]
  },
  {
   "attachments": {},
   "cell_type": "markdown",
   "metadata": {},
   "source": [
    "Sample using NUTS (this may take a little while)"
   ]
  },
  {
   "cell_type": "code",
   "execution_count": null,
   "metadata": {},
   "outputs": [],
   "source": [
    "samples_NUTS = sampler.sample_adapt(Ns, Nb=5)"
   ]
  },
  {
   "attachments": {},
   "cell_type": "markdown",
   "metadata": {},
   "source": [
    "Plot the mean and the exact solution"
   ]
  },
  {
   "cell_type": "code",
   "execution_count": null,
   "metadata": {},
   "outputs": [],
   "source": [
    "# plot samples mean\n",
    "im = samples_NUTS.plot_mean(vmin=-0.2, vmax=0.5, mode='color')\n",
    "cb = plt.colorbar(im[0])\n",
    "\n",
    "# plot the exact solution\n",
    "plt.figure()\n",
    "im = exact_solution.plot(vmin=-0.2, vmax=0.5, mode='color')\n",
    "cb = plt.colorbar(im[0])\n",
    "plt.title('Exact solution')"
   ]
  },
  {
   "attachments": {},
   "cell_type": "markdown",
   "metadata": {},
   "source": [
    "Plot trace"
   ]
  },
  {
   "cell_type": "code",
   "execution_count": null,
   "metadata": {},
   "outputs": [],
   "source": [
    "samples_NUTS.plot_trace()"
   ]
  },
  {
   "attachments": {},
   "cell_type": "markdown",
   "metadata": {},
   "source": [
    "We also plot the credibility interval"
   ]
  },
  {
   "cell_type": "code",
   "execution_count": null,
   "metadata": {},
   "outputs": [],
   "source": [
    "samples_NUTS.plot_ci(exact=exact_solution, plot_par=True)\n",
    "plt.xticks(np.arange(x.dim)[::5],['v'+str(i) for i in range(x.dim)][::5]);"
   ]
  },
  {
   "attachments": {},
   "cell_type": "markdown",
   "metadata": {},
   "source": [
    "Now the sampling has gone better. This is because we utilized gradient information of the problem."
   ]
  },
  {
   "attachments": {},
   "cell_type": "markdown",
   "metadata": {},
   "source": [
    "#### ★ Try yourself (optional):  \n",
    "\n",
    "- What do you notice by comparing the trace plots of the pCN samples and the NUTS samples, and comparing the samples mean and the exact solution in both cases.\n",
    "- Compute the effective samples size (ESS) for each case.\n",
    "- In this example, we build FEniCS code PDE ourselves. CUQIpy-FEniCS also provides test problems. Copy-paste the code script you find on [CUQIpy-FEniCS main page](https://github.com/CUQI-DTU/CUQIpy-FEniCS) and run the code here. \n"
   ]
  },
  {
   "cell_type": "code",
   "execution_count": null,
   "metadata": {},
   "outputs": [],
   "source": [
    "# Your code here\n",
    "\n"
   ]
  }
 ],
 "metadata": {
  "kernelspec": {
   "display_name": "Python 3",
   "language": "python",
   "name": "python3"
  },
  "language_info": {
   "codemirror_mode": {
    "name": "ipython",
    "version": 3
   },
   "file_extension": ".py",
   "mimetype": "text/x-python",
   "name": "python",
   "nbconvert_exporter": "python",
   "pygments_lexer": "ipython3",
   "version": "3.10.5"
  },
  "orig_nbformat": 3,
  "vscode": {
   "interpreter": {
    "hash": "f83c72a7c5d885a4a7f43561cb77434137f6f5cf21a7418d4732e18616218db3"
   }
  }
 },
 "nbformat": 4,
 "nbformat_minor": 2
}
