{
 "cells": [
  {
   "cell_type": "markdown",
   "metadata": {},
   "source": [
    "# Gradient-based sampling for PDE Bayesian Problems\n",
    "\n",
    "Here we build a Bayesian problem to infer the conductivity in a Poisson problem (applications includes EIT problems).\n",
    "\n",
    "## Learning objectives of this notebook:\n",
    "1. Build a FEniCS based Poisson problem \n",
    "2. Build and solve the Bayesian problem in CUQIpy\n",
    "\t- Use Matern covariance operator for the prior\n",
    "\t- Use pCN sampler\n",
    "3. Use gradient-based sampler\n",
    "\t- The chain rule\n",
    "\t- Use NUTS sampler \n",
    "4. Explore the effect of changing observation operator\n",
    "\t- Observe on the boundaries"
   ]
  },
  {
   "cell_type": "markdown",
   "metadata": {},
   "source": [
    "## Import required libraries and set up configuration"
   ]
  },
  {
   "cell_type": "code",
   "execution_count": null,
   "metadata": {},
   "outputs": [],
   "source": [
    "from scipy import optimize\n",
    "import ufl\n",
    "import matplotlib.pyplot as plt\n",
    "import sys\n",
    "#sys.path.append(\"../\")\n",
    "import cuqi\n",
    "import cuqipy_fenics\n",
    "import dolfin as dl\n",
    "import numpy as np\n",
    "cuqi.__version__"
   ]
  },
  {
   "cell_type": "markdown",
   "metadata": {},
   "source": [
    "## 1. Build a FEniCS based Poisson problem \n",
    "\n",
    "The PDE model we consider here is a 2D steady-state problem (Poisson):\n",
    "\n",
    "$$ \\nabla \\cdot \\left(\\kappa(\\mathbf{x}) \\nabla u(\\mathbf{x})\\right) = f(x) \\;\\;\\;\\;\\mathrm{ in }\\; (0,1)\\times(0,1),$$\n",
    "\n",
    "$$u(0,y)=0 \\;\\;\\;\\;\\mathrm{on}\\; x=0$$ \n",
    "$$u(1,y)=0 \\;\\;\\;\\;\\mathrm{on}\\; x=1$$ \n",
    "$$\\kappa(x)\\nabla u(x,0)\\cdot n=0 \\;\\;\\;\\;\\mathrm{on}\\; y=0$$ \n",
    "$$\\kappa(x)\\nabla u(x,1)\\cdot n =0 \\;\\;\\;\\;\\mathrm{on}\\; y=1$$ \n",
    "\n",
    "\n",
    "\n",
    "- where $\\kappa(x)$ is the conductivity, $u(x)$ is the PDE solution (potential), $f(x)$ is the source term.\n",
    "\n",
    "- We use the parameterization $\\kappa(x) = e^{m(x)}$, to ensure positivity."
   ]
  },
  {
   "cell_type": "markdown",
   "metadata": {},
   "source": [
    "### The discretization \n",
    "\n",
    "We use finite element discretization of the model above where the solution and the parameters are approximated in a second and first order Lagrange polynomial space, respectively.  \n",
    "\n",
    "We denote the discretized system that we need to solve as\n",
    "$\\mathbf{A}(\\mathbf{m})\\mathbf{U} = \\mathbf{F}$\n",
    "- $\\mathbf{A}$ is the discretized diffusion differential operator\n",
    "- $\\mathbf{m}$ is the discretized Bayesian parameter \n",
    "- $\\mathbf{U}$ is the discretized solution (the potential)\n",
    "- $\\mathbf{F}$ is the discretized RHS (the source term) "
   ]
  },
  {
   "cell_type": "markdown",
   "metadata": {},
   "source": [
    "### 1.1. Set up mesh"
   ]
  },
  {
   "cell_type": "code",
   "execution_count": null,
   "metadata": {},
   "outputs": [],
   "source": [
    "nx = 12 # number of vertices on the x dimension\n",
    "ny = 12 # number of vertices on the y dimension\n",
    "mesh = dl.UnitSquareMesh(nx, ny) # create FEniCS mesh\n",
    "dl.plot(mesh)"
   ]
  },
  {
   "cell_type": "markdown",
   "metadata": {},
   "source": [
    "### 1.2. Set up function spaces"
   ]
  },
  {
   "cell_type": "code",
   "execution_count": null,
   "metadata": {},
   "outputs": [],
   "source": [
    "solution_function_space = dl.FunctionSpace(mesh, 'Lagrange', 2) # function space for solution u\n",
    "parameter_function_space = dl.FunctionSpace(mesh, 'Lagrange', 1) # function space for parameter m"
   ]
  },
  {
   "cell_type": "markdown",
   "metadata": {},
   "source": [
    "### 1.3. Set up Dirichlet boundaries"
   ]
  },
  {
   "cell_type": "code",
   "execution_count": null,
   "metadata": {},
   "outputs": [],
   "source": [
    "# Function (where do we have Dirichlet BC)\n",
    "def u_boundary(x, on_boundary):\n",
    "    return on_boundary and ( x[0] < dl.DOLFIN_EPS or x[0] > 1.0 - dl.DOLFIN_EPS)\n",
    "\n",
    "# Expression (what is the value on these Dirichlet BC)\n",
    "dirichlet_bc_expr = dl.Expression(\"0\", degree=1)\n",
    "\n",
    "# FEniCS Dirichlet BC Object\n",
    "dirichlet_bc = dl.DirichletBC(solution_function_space,\n",
    "                              dirichlet_bc_expr,\n",
    "                              u_boundary) "
   ]
  },
  {
   "cell_type": "markdown",
   "metadata": {},
   "source": [
    "### 1.4. Set up source term"
   ]
  },
  {
   "cell_type": "code",
   "execution_count": null,
   "metadata": {},
   "outputs": [],
   "source": [
    "f = dl.Constant(1.0)"
   ]
  },
  {
   "cell_type": "markdown",
   "metadata": {},
   "source": [
    "### 1.5. Set up PDE variational form\n"
   ]
  },
  {
   "cell_type": "code",
   "execution_count": null,
   "metadata": {},
   "outputs": [],
   "source": [
    "def form(m,u,p):\n",
    "    return ufl.exp(m)*ufl.inner(ufl.grad(u), ufl.grad(p))*ufl.dx - f*p*ufl.dx"
   ]
  },
  {
   "cell_type": "markdown",
   "metadata": {},
   "source": [
    "### 1.6 Create **CUQI** PDE object\n"
   ]
  },
  {
   "cell_type": "code",
   "execution_count": null,
   "metadata": {},
   "outputs": [],
   "source": [
    "PDE = cuqipy_fenics.pde.SteadyStateLinearFEniCSPDE( \n",
    "        form,\n",
    "        mesh, \n",
    "        parameter_function_space=parameter_function_space,\n",
    "        solution_function_space=solution_function_space,\n",
    "        dirichlet_bc=dirichlet_bc)"
   ]
  },
  {
   "cell_type": "markdown",
   "metadata": {},
   "source": [
    "Lets try solving this PDE for $m(x)=1$:"
   ]
  },
  {
   "cell_type": "code",
   "execution_count": null,
   "metadata": {},
   "outputs": [],
   "source": [
    "# Create homogeneous parameter m_1(x) = 1\n",
    "m_1 = dl.Function(parameter_function_space)\n",
    "m_1.vector().set_local(np.ones(parameter_function_space.dim()))\n",
    "m_1(.5,.8)"
   ]
  },
  {
   "cell_type": "markdown",
   "metadata": {},
   "source": [
    "Assemble and solve the PDE"
   ]
  },
  {
   "cell_type": "code",
   "execution_count": null,
   "metadata": {},
   "outputs": [],
   "source": [
    "# Assemble the PDE at m_1\n",
    "PDE.assemble(m_1)\n",
    "\n",
    "# Solve the PDE at m_1\n",
    "u, _ = PDE.solve()"
   ]
  },
  {
   "cell_type": "markdown",
   "metadata": {},
   "source": [
    "Plot the solution \n"
   ]
  },
  {
   "cell_type": "code",
   "execution_count": null,
   "metadata": {},
   "outputs": [],
   "source": [
    "im = dl.plot(u)\n",
    "plt.colorbar(im)"
   ]
  },
  {
   "cell_type": "markdown",
   "metadata": {},
   "source": [
    "## 2. Build and solve the Bayesian problem in CUQIpy\n",
    "  \n",
    "The goal is to infer the log conductivity profile $m(x)$ given observed data $d$. These observation can be of the potential directly, i.e. $d=u(x)$, or a function of the potential. \n",
    "\n",
    "The data $d$ is then given by:\n",
    "\n",
    "$$ d = \\mathcal{G}(m) + \\eta$$\n",
    "\n",
    "\n",
    "where \n",
    "- $\\eta$ is the measurement noise\n",
    "- $\\mathcal{G}$ is the forward model operator which maps $m$ to the observations.\n"
   ]
  },
  {
   "cell_type": "markdown",
   "metadata": {},
   "source": [
    "### 2.1. Create domain geometry \n",
    "We model $m$ as a Matern-class random field which lead to the parametrization (Karhunen-Lo\\'eve (KL) expansion)\n",
    "$$\n",
    "    m(x) = \\sum_{i\\in \\mathbb N} \\sqrt{\\lambda_i}\\theta_i e_i(x)\n",
    "$$\n",
    "- $ \\lambda_i $ and $ e_i $ are the eigenvalues and eigenvectors of the Matern covariance  operator\n",
    "- $\\theta_i\\sim \\mathcal N(0,1)$ are i.i.d. random variables.\n",
    "- Now, $\\theta_i$ are the Bayesian parameters"
   ]
  },
  {
   "cell_type": "code",
   "execution_count": null,
   "metadata": {},
   "outputs": [],
   "source": [
    "# Define CUQI geometry on which m is defined\n",
    "fenics_continuous_geo = cuqipy_fenics.geometry.FEniCSContinuous(parameter_function_space)\n",
    "\n",
    "# Define the MaternExpansion geometry that maps the i.i.d random variables to Matern field realizations\n",
    "domain_geometry = cuqipy_fenics.geometry.MaternExpansion(fenics_continuous_geo, length_scale = .1, num_terms=32)"
   ]
  },
  {
   "cell_type": "markdown",
   "metadata": {},
   "source": [
    "We can look at realizations of Matern class Gaussian random field "
   ]
  },
  {
   "cell_type": "code",
   "execution_count": null,
   "metadata": {},
   "outputs": [],
   "source": [
    "field_realization = domain_geometry.par2fun(np.random.randn(32))\n",
    "dl.plot(field_realization)"
   ]
  },
  {
   "cell_type": "markdown",
   "metadata": {},
   "source": [
    "### 2.2. Create range geometry"
   ]
  },
  {
   "cell_type": "code",
   "execution_count": null,
   "metadata": {},
   "outputs": [],
   "source": [
    "range_geometry= cuqipy_fenics.geometry.FEniCSContinuous(solution_function_space)\n"
   ]
  },
  {
   "cell_type": "markdown",
   "metadata": {},
   "source": [
    "### 2.3. Create cuqi forward model"
   ]
  },
  {
   "cell_type": "code",
   "execution_count": null,
   "metadata": {},
   "outputs": [],
   "source": [
    "cuqi_model = cuqi.model.PDEModel(PDE, domain_geometry=domain_geometry,range_geometry=range_geometry)"
   ]
  },
  {
   "cell_type": "markdown",
   "metadata": {},
   "source": [
    "### 2.4. Create prior"
   ]
  },
  {
   "cell_type": "code",
   "execution_count": null,
   "metadata": {},
   "outputs": [],
   "source": [
    "x = cuqi.distribution.GaussianCov(np.zeros(cuqi_model.domain_dim),1,geometry=domain_geometry)"
   ]
  },
  {
   "cell_type": "markdown",
   "metadata": {},
   "source": [
    "We can plot prior samples"
   ]
  },
  {
   "cell_type": "code",
   "execution_count": null,
   "metadata": {},
   "outputs": [],
   "source": [
    "prior_samples = x.sample(5)\n",
    "prior_samples.plot()"
   ]
  },
  {
   "cell_type": "markdown",
   "metadata": {},
   "source": [
    "### 2.5. Create exact solution and exact data\n",
    "\n",
    "Create an exact solution:"
   ]
  },
  {
   "cell_type": "code",
   "execution_count": null,
   "metadata": {},
   "outputs": [],
   "source": [
    "np.random.seed(1)\n",
    "exact_solution =cuqi.samples.CUQIarray(np.random.randn(domain_geometry.par_dim), is_par=True, geometry=domain_geometry )\n",
    "\n",
    "# plot exact solution\n",
    "im = exact_solution.plot()\n",
    "plt.colorbar(im[0])"
   ]
  },
  {
   "cell_type": "markdown",
   "metadata": {},
   "source": [
    "Create synthesized data that corresponds to the exact_solution"
   ]
  },
  {
   "cell_type": "code",
   "execution_count": null,
   "metadata": {},
   "outputs": [],
   "source": [
    "exact_data = cuqi_model(exact_solution)\n",
    "\n",
    "# plot exact data\n",
    "im = range_geometry.plot(exact_data)\n",
    "plt.colorbar(im[0])"
   ]
  },
  {
   "cell_type": "markdown",
   "metadata": {},
   "source": [
    "### 2.6. Create likelihood and noisy data\n",
    "We create the data distribution"
   ]
  },
  {
   "cell_type": "code",
   "execution_count": null,
   "metadata": {},
   "outputs": [],
   "source": [
    "y = cuqi.distribution.GaussianCov(mean=cuqi_model(x), cov=np.ones(cuqi_model.range_dim)*.01**2, geometry=range_geometry)\n",
    "y"
   ]
  },
  {
   "cell_type": "markdown",
   "metadata": {},
   "source": [
    "And we create the data"
   ]
  },
  {
   "cell_type": "code",
   "execution_count": null,
   "metadata": {},
   "outputs": [],
   "source": [
    "data = y(x=exact_solution).sample()\n",
    "data = exact_data"
   ]
  },
  {
   "cell_type": "markdown",
   "metadata": {},
   "source": [
    "We plot the data"
   ]
  },
  {
   "cell_type": "code",
   "execution_count": null,
   "metadata": {},
   "outputs": [],
   "source": [
    "# plot data\n",
    "im =range_geometry.plot(data)\n",
    "plt.colorbar(im[0])"
   ]
  },
  {
   "cell_type": "markdown",
   "metadata": {},
   "source": [
    "The likelihood distribution:"
   ]
  },
  {
   "cell_type": "code",
   "execution_count": null,
   "metadata": {},
   "outputs": [],
   "source": [
    "y = y(y=data)"
   ]
  },
  {
   "cell_type": "markdown",
   "metadata": {},
   "source": [
    "### 2.7. Create the posterior"
   ]
  },
  {
   "cell_type": "code",
   "execution_count": null,
   "metadata": {},
   "outputs": [],
   "source": [
    "cuqi_posterior = cuqi.distribution.Posterior(y, x, geometry=domain_geometry)"
   ]
  },
  {
   "cell_type": "markdown",
   "metadata": {},
   "source": [
    "### 2.8. Sample the posterior\n",
    "Create the sampler"
   ]
  },
  {
   "cell_type": "code",
   "execution_count": null,
   "metadata": {},
   "outputs": [],
   "source": [
    "Ns = 100\n",
    "sampler = cuqi.sampler.pCN(cuqi_posterior)"
   ]
  },
  {
   "cell_type": "markdown",
   "metadata": {},
   "source": [
    "Sample the posterior"
   ]
  },
  {
   "cell_type": "code",
   "execution_count": null,
   "metadata": {},
   "outputs": [],
   "source": [
    "samples = sampler.sample_adapt(Ns,Nb=10)"
   ]
  },
  {
   "cell_type": "markdown",
   "metadata": {},
   "source": [
    "We plot the samples mean (and the exact solution for reference)"
   ]
  },
  {
   "cell_type": "code",
   "execution_count": null,
   "metadata": {},
   "outputs": [],
   "source": [
    "# plot samples mean\n",
    "im = samples.plot_mean()\n",
    "cb = plt.colorbar(im[0])\n",
    "\n",
    "# plot the exact solution\n",
    "plt.figure()\n",
    "im = exact_solution.plot()\n",
    "cb = plt.colorbar(im[0])\n",
    "plt.title('Exact solution')"
   ]
  },
  {
   "cell_type": "markdown",
   "metadata": {},
   "source": [
    "We look at the trace plot"
   ]
  },
  {
   "cell_type": "code",
   "execution_count": null,
   "metadata": {},
   "outputs": [],
   "source": [
    "samples.plot_trace()"
   ]
  },
  {
   "cell_type": "markdown",
   "metadata": {},
   "source": [
    "We plot the credibility interval"
   ]
  },
  {
   "cell_type": "code",
   "execution_count": null,
   "metadata": {},
   "outputs": [],
   "source": [
    "samples.plot_ci(exact=exact_solution, plot_par=True)\n",
    "plt.xticks(np.arange(x.dim)[::5],['v'+str(i) for i in range(x.dim)][::5]);"
   ]
  },
  {
   "cell_type": "markdown",
   "metadata": {},
   "source": [
    "## 3. Use gradient-based sampler"
   ]
  },
  {
   "cell_type": "markdown",
   "metadata": {},
   "source": [
    "### 3.1. The chain rule\n",
    "\n",
    "$$\\nabla_\\theta \\mathrm{log}\\rho_\\mathrm{post}(\\theta) \\propto \\nabla_\\theta \\mathrm{log}\\rho_\\mathrm{likelihood}(\\mathcal{G}(m(\\theta))) + \\nabla_\\theta \\mathrm{log}\\rho_\\mathrm{prior}(\\theta) $$\n",
    "\n",
    "We have the maps:\n",
    "- Domain geometry: $z := m(\\theta)$\n",
    "- Model: $y := \\mathcal{G}(z) $\n",
    "\n",
    "\n",
    "By the chain rule we have (for the likelihood part):\n",
    "\n",
    "$$ \\nabla_\\theta \\mathrm{log}\\rho_\\mathrm{likelihood}(\\mathcal{G}(m(\\theta))) = J_{m,\\theta}^T(\\theta) J_{\\mathcal{G}, m}^T(m(\\theta)) \\nabla_y  \\mathrm{log}\\rho(\\mathcal{G}(m(\\theta))) $$ \n",
    "\n",
    "- We use adjoint-based method to compute $J_{\\mathcal{G}, m}^T(m(\\theta)) V$\n",
    "\t- Costs one forward solve and one adjoint solve (cheaper than finite difference approximation)\n",
    "\n",
    "  "
   ]
  },
  {
   "cell_type": "markdown",
   "metadata": {},
   "source": [
    "### 3.1 Set the adjoint problem boundary conditions"
   ]
  },
  {
   "cell_type": "code",
   "execution_count": null,
   "metadata": {},
   "outputs": [],
   "source": [
    "adjoint_dirichlet_bc_expr = dl.Constant(0.0)\n",
    "adjoint_dirichlet_bc = dl.DirichletBC(solution_function_space,\n",
    "                                      adjoint_dirichlet_bc_expr,\n",
    "                                      u_boundary) #adjoint problem bcs\n",
    "PDE.adjoint_dirichlet_bc = adjoint_dirichlet_bc"
   ]
  },
  {
   "cell_type": "markdown",
   "metadata": {},
   "source": [
    "### 3.2 Check the gradient correctness at a point $x_i$"
   ]
  },
  {
   "cell_type": "code",
   "execution_count": null,
   "metadata": {},
   "outputs": [],
   "source": [
    "# Create x_i\n",
    "x_i =cuqi.samples.CUQIarray( np.random.randn(domain_geometry.par_dim),is_par=True,geometry= domain_geometry)"
   ]
  },
  {
   "cell_type": "markdown",
   "metadata": {},
   "source": [
    "Compute the posterior gradient\n"
   ]
  },
  {
   "cell_type": "code",
   "execution_count": null,
   "metadata": {},
   "outputs": [],
   "source": [
    "print(\"Posterior gradient (cuqi.model)\")\n",
    "cuqi_grad = cuqi_posterior.gradient(x_i)\n"
   ]
  },
  {
   "cell_type": "markdown",
   "metadata": {},
   "source": [
    "Compute the approximate gradient\n"
   ]
  },
  {
   "cell_type": "code",
   "execution_count": null,
   "metadata": {},
   "outputs": [],
   "source": [
    "print(\"Scipy approx\")\n",
    "step = 1e-11   # finite diff step\n",
    "scipy_grad = optimize.approx_fprime(x_i, cuqi_posterior.logpdf, step)"
   ]
  },
  {
   "cell_type": "markdown",
   "metadata": {},
   "source": [
    "Plot both gradients"
   ]
  },
  {
   "cell_type": "code",
   "execution_count": null,
   "metadata": {},
   "outputs": [],
   "source": [
    "plt.plot(cuqi_grad, label='CUQI')\n",
    "plt.plot(scipy_grad , '--', label='Approximate')\n",
    "plt.legend()"
   ]
  },
  {
   "cell_type": "markdown",
   "metadata": {},
   "source": [
    "### 3.3. Use gradient based sampler (NUTS)\n",
    "\n",
    "Create the sampler "
   ]
  },
  {
   "cell_type": "code",
   "execution_count": null,
   "metadata": {},
   "outputs": [],
   "source": [
    "Ns = 100\n",
    "sampler = cuqi.sampler.NUTS(cuqi_posterior)"
   ]
  },
  {
   "cell_type": "markdown",
   "metadata": {},
   "source": [
    "Sample using NUTS"
   ]
  },
  {
   "cell_type": "code",
   "execution_count": null,
   "metadata": {},
   "outputs": [],
   "source": [
    "samples = sampler.sample_adapt(Ns,Nb=10)"
   ]
  },
  {
   "cell_type": "markdown",
   "metadata": {},
   "source": [
    "Plot the mean and the exact solution"
   ]
  },
  {
   "cell_type": "code",
   "execution_count": null,
   "metadata": {},
   "outputs": [],
   "source": [
    "# plot samples mean\n",
    "im = samples.plot_mean()\n",
    "cb = plt.colorbar(im[0])\n",
    "\n",
    "# plot the exact solution\n",
    "plt.figure()\n",
    "im = exact_solution.plot()\n",
    "cb = plt.colorbar(im[0])\n",
    "plt.title('Exact solution')"
   ]
  },
  {
   "cell_type": "markdown",
   "metadata": {},
   "source": [
    "Plot trace"
   ]
  },
  {
   "cell_type": "code",
   "execution_count": null,
   "metadata": {},
   "outputs": [],
   "source": [
    "samples.plot_trace()"
   ]
  },
  {
   "cell_type": "markdown",
   "metadata": {},
   "source": [
    "We plot the credibility interval"
   ]
  },
  {
   "cell_type": "code",
   "execution_count": null,
   "metadata": {},
   "outputs": [],
   "source": [
    "samples.plot_ci(exact=exact_solution, plot_par=True)\n",
    "plt.xticks(np.arange(x.dim)[::5],['v'+str(i) for i in range(x.dim)][::5]);"
   ]
  }
 ],
 "metadata": {
  "kernelspec": {
   "display_name": "Python 3.10.5 ('fenicsproject')",
   "language": "python",
   "name": "python3"
  },
  "language_info": {
   "codemirror_mode": {
    "name": "ipython",
    "version": 3
   },
   "file_extension": ".py",
   "mimetype": "text/x-python",
   "name": "python",
   "nbconvert_exporter": "python",
   "pygments_lexer": "ipython3",
   "version": "3.10.5"
  },
  "orig_nbformat": 3,
  "vscode": {
   "interpreter": {
    "hash": "f83c72a7c5d885a4a7f43561cb77434137f6f5cf21a7418d4732e18616218db3"
   }
  }
 },
 "nbformat": 4,
 "nbformat_minor": 2
}
