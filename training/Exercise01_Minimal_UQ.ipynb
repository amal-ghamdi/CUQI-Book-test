{
 "cells": [
  {
   "attachments": {},
   "cell_type": "markdown",
   "metadata": {},
   "source": [
    "# Exercise 01:  Minimal high-level UQ example\n",
    "\n",
    "This notebook demonstrates high-level (\"non-expert\") UQ with CUQIpy on a 1D Deconvolution test problem and optional 2D problems.\n",
    "\n",
    "Help, guidance, installation instruction etc. can be found in the [CUQIpy documentation](https://cuqi-dtu.github.io/CUQIpy/).\n",
    "\n",
    "## Learning objectives of this notebook:\n",
    "- Get acquainted with the CUQIpy components needed to specify a Bayesian inverse problem.\n",
    "- Run a high-level UQ analysis of an inverse problem.\n",
    "\n",
    "## Table of contents: \n",
    "* [1. UQ in just a few lines of code!](#UQ5)\n",
    "* [2. Loading a test problem](#TestProblem)\n",
    "* [3. Specifying and solving a Bayesian inverse problem ](#Bayesian)\n",
    "* [4. ★ Changing the prior](#ChangingPrior)\n",
    "* [5. ★ Gibbs sampling for hierarchical problems](#Gibbs)\n",
    "\n",
    "*The last two sections marked by \"★\" are optional - try running through sections 1, 2, 3 before attempting the exercises, and before sections 4 and 5.*"
   ]
  },
  {
   "attachments": {},
   "cell_type": "markdown",
   "metadata": {},
   "source": [
    "First we import any python packages we need, here simply NumPy to handle array computations and matplotlib for plotting:"
   ]
  },
  {
   "cell_type": "code",
   "execution_count": null,
   "metadata": {},
   "outputs": [],
   "source": [
    "import numpy as np\n",
    "import matplotlib.pyplot as plt"
   ]
  },
  {
   "attachments": {},
   "cell_type": "markdown",
   "metadata": {},
   "source": [
    "Then we import the functionality we need from CUQIpy:"
   ]
  },
  {
   "cell_type": "code",
   "execution_count": null,
   "metadata": {},
   "outputs": [],
   "source": [
    "from cuqi.distribution import Gaussian, Gamma, LMRF, CMRF, GMRF\n",
    "from cuqi.problem import BayesianProblem\n",
    "from cuqi.testproblem import Deconvolution1D, Deconvolution2D"
   ]
  },
  {
   "cell_type": "code",
   "execution_count": null,
   "metadata": {},
   "outputs": [],
   "source": [
    "# Print version for reproducibility\n",
    "import cuqi\n",
    "print(cuqi.__version__)"
   ]
  },
  {
   "attachments": {},
   "cell_type": "markdown",
   "metadata": {},
   "source": [
    "## 1. UQ in a few lines of code!   <a class=\"anchor\" id=\"UQ5\"></a> "
   ]
  },
  {
   "attachments": {},
   "cell_type": "markdown",
   "metadata": {},
   "source": [
    "In just a few lines of CUQIpy code we can:\n",
    "- load a forward model and data from a 1D deconvolution test problem,\n",
    "- specify distributions for prior and data,\n",
    "- formulate a Bayesian inverse problem with observed data, and\n",
    "- run a UQ analysis."
   ]
  },
  {
   "attachments": {},
   "cell_type": "markdown",
   "metadata": {},
   "source": [
    "The 1D deconvolution test problem is a linear inverse problem with additive noise:\n",
    "\n",
    "$$ \\mathbf{y} = \\mathbf{A}\\mathbf{x}+\\mathbf{e},$$\n",
    "where \n",
    "- $\\mathbf{A}\\in\\mathbb{R}^{n\\times n}$, is a blurring operator, \n",
    "- $\\mathbf{x}\\in\\mathbb{R}^n$ is an unknown 1D signal of length $n$ to be determined,\n",
    "- $\\mathbf{y}\\in\\mathbb{R}^n$ is an observed blurred and noisy signal, and\n",
    "- $\\mathbf{e}\\in\\mathbb{R}^n$ is additive noise.\n",
    "\n",
    "We load in the forward model `A` and observed data `y_data` from the test problem:"
   ]
  },
  {
   "cell_type": "code",
   "execution_count": null,
   "metadata": {},
   "outputs": [],
   "source": [
    "A, y_data, probInfo = Deconvolution1D(phantom=\"sinc\").get_components()"
   ]
  },
  {
   "attachments": {},
   "cell_type": "markdown",
   "metadata": {},
   "source": [
    "We assume (as a prior) that the elements of $\\mathbf{x}$ follow a so-called Gaussian Markov Random Field [(GMRF)](https://cuqi-dtu.github.io/CUQIpy/api/_autosummary/cuqi.distribution/cuqi.distribution.GMRF.html#cuqi.distribution.GMRF), which assumes a Gaussian distribution on the differences of the unknown. For the additive noise we assume i.i.d. Gaussian with zero mean and variance $\\sigma_e^2$, i.e., precision $d_e = 1/\\sigma_e^2$,\n",
    "$$\n",
    "\\begin{align}\n",
    "\\mathbf{x}&\\sim\\mathrm{GMRF}(\\mathbf{0},50), \\\\\n",
    "\\mathbf{e}&\\sim\\mathcal{N}(\\mathbf{0},d_e^{-1}\\mathbf{I}_n)\n",
    "\\end{align}\n",
    "$$"
   ]
  },
  {
   "attachments": {},
   "cell_type": "markdown",
   "metadata": {},
   "source": [
    "From the distribution of $\\mathbf{e}$ and the linear model we can write up this with the distribution of $\\mathbf{y}$ instead:\n",
    "$$\n",
    "\\begin{align}\n",
    "\\mathbf{x}&\\sim\\mathrm{GMRF}(\\mathbf{0},50), \\\\\n",
    "\\mathbf{y}&\\sim\\mathcal{N}(\\mathbf{Ax},d_e^{-1}\\mathbf{I}_n).\n",
    "\\end{align}$$"
   ]
  },
  {
   "attachments": {},
   "cell_type": "markdown",
   "metadata": {},
   "source": [
    "which in CUQIpy can be written as follows for known noise precision:"
   ]
  },
  {
   "cell_type": "code",
   "execution_count": null,
   "metadata": {},
   "outputs": [],
   "source": [
    "d_e_true = 1/0.01**2 # Actual noise precision from test problem\n",
    "\n",
    "x = GMRF(np.zeros(A.domain_dim), 50)\n",
    "y = Gaussian(A@x, cov=1/d_e_true)"
   ]
  },
  {
   "cell_type": "markdown",
   "metadata": {},
   "source": [
    "Notice the close correspondence between the mathematical formulation and the CUQIpy code."
   ]
  },
  {
   "attachments": {},
   "cell_type": "markdown",
   "metadata": {},
   "source": [
    "We can carry out a UQ analysis given observed data $\\mathbf{y}=\\mathbf{y}^\\mathrm{data}$ by:"
   ]
  },
  {
   "cell_type": "code",
   "execution_count": null,
   "metadata": {},
   "outputs": [],
   "source": [
    "BP = BayesianProblem(y,x).set_data(y=y_data)\n",
    "BP.UQ(exact=probInfo.exactSolution)"
   ]
  },
  {
   "attachments": {},
   "cell_type": "markdown",
   "metadata": {},
   "source": [
    "If the noise precision is not known, we can include it as a parameter to be estimated in the inverse problem. We extend the Bayesian problem by assuming the precision follows a Gamma distribution in a hierarchical problem:\n",
    "$$\n",
    "\\begin{align*}\n",
    "d_e   &\\sim \\mathrm{Gamma}(1, 10^{-4}), \\\\\n",
    "\\mathbf{x} &\\sim \\mathrm{GMRF}(\\mathbf{0},50), \\\\\n",
    "\\mathbf{y} &\\sim \\mathcal{N}(\\mathbf{Ax},d_e^{-1}\\mathbf{I}_n).\n",
    "\\end{align*}\n",
    "$$"
   ]
  },
  {
   "cell_type": "code",
   "execution_count": null,
   "metadata": {},
   "outputs": [],
   "source": [
    "d_e = Gamma(1, 1e-4)\n",
    "x = GMRF(np.zeros(A.domain_dim), 50)\n",
    "y = Gaussian(A@x, cov=lambda d_e : 1/d_e)"
   ]
  },
  {
   "attachments": {},
   "cell_type": "markdown",
   "metadata": {},
   "source": [
    "UQ analysis given observed data $\\mathbf{y}=\\mathbf{y}^\\mathrm{data}$, now on the extended problem using a Gibbs sampler:"
   ]
  },
  {
   "cell_type": "code",
   "execution_count": null,
   "metadata": {},
   "outputs": [],
   "source": [
    "BP = BayesianProblem(y, x, d_e).set_data(y=y_data)\n",
    "BP.UQ(exact={\"x\":probInfo.exactSolution, \"d_e\":d_e_true})"
   ]
  },
  {
   "attachments": {},
   "cell_type": "markdown",
   "metadata": {},
   "source": [
    "The plots for the hyperparameter $d_e$ are called trace plots. They show the density estimate (left) and chain (right).\n",
    "\n",
    "In the following sections of this notebook we break it down and take a slightly closer look at each step. The subsequent notebooks provide additional details."
   ]
  },
  {
   "attachments": {},
   "cell_type": "markdown",
   "metadata": {},
   "source": [
    "## 2. Loading a test problem  <a class=\"anchor\" id=\"TestProblem\"></a> "
   ]
  },
  {
   "attachments": {},
   "cell_type": "markdown",
   "metadata": {},
   "source": [
    "The 1D deconvolution test problem is a linear inverse problem with additive noise:\n",
    "\n",
    "$$ \\mathbf{y} = \\mathbf{A}\\mathbf{x}+\\mathbf{e},$$\n",
    "where \n",
    "- $\\mathbf{A}\\in\\mathbb{R}^{n\\times n}$, is a blurring operator, \n",
    "- $\\mathbf{x}\\in\\mathbb{R}^n$ is an unknown 1D signal of length $n$ to be determined,\n",
    "- $\\mathbf{y}\\in\\mathbb{R}^n$ is an observed blurred and noisy signal, and\n",
    "- $\\mathbf{e}\\in\\mathbb{R}^n$ is additive noise.\n",
    "\n",
    "We load in the forward model `A` and observed data `y_data` from the test problem:"
   ]
  },
  {
   "cell_type": "code",
   "execution_count": null,
   "metadata": {},
   "outputs": [],
   "source": [
    "A, y_data, probInfo = Deconvolution1D(phantom=\"sinc\").get_components()"
   ]
  },
  {
   "attachments": {},
   "cell_type": "markdown",
   "metadata": {},
   "source": [
    "Here we use the variable name `A` to match the mathematics. But `A` is a CUQIpy model, not a matrix.\n",
    "\n",
    "Note that the test problem can be configured (e.g. other phantoms, noise types and level etc.) by means of the inputs, see `help(Deconvolution1D)` for details."
   ]
  },
  {
   "attachments": {},
   "cell_type": "markdown",
   "metadata": {},
   "source": [
    "Several other test problems are available (click links to see online docs):\n",
    "- [Deconvolution1D](https://cuqi-dtu.github.io/CUQIpy/api/_autosummary/cuqi.testproblem/cuqi.testproblem.Deconvolution1D.html#cuqi.testproblem.Deconvolution1D): 1D periodic deconvolution problem.\n",
    "- [Deconvolution2D](https://cuqi-dtu.github.io/CUQIpy/api/_autosummary/cuqi.testproblem/cuqi.testproblem.Deconvolution2D.html#cuqi.testproblem.Deconvolution2D): 2D deconvolution (deblurring) problem.\n",
    "- [Heat1D](https://cuqi-dtu.github.io/CUQIpy/api/_autosummary/cuqi.testproblem/cuqi.testproblem.Heat1D.html):  Heat equation PDE problem.\n",
    "- [Poisson1D](https://cuqi-dtu.github.io/CUQIpy/api/_autosummary/cuqi.testproblem/cuqi.testproblem.Poisson1D.html): Poisson equation PDE problem.\n",
    "- [Abel1D](https://cuqi-dtu.github.io/CUQIpy/api/_autosummary/cuqi.testproblem/cuqi.testproblem.Abel1D.html):  Abel equation PDE (1D rotationally symmetric CT) problem. \n",
    "\n",
    "These are imported as follows:"
   ]
  },
  {
   "cell_type": "code",
   "execution_count": null,
   "metadata": {},
   "outputs": [],
   "source": [
    "from cuqi.testproblem import Deconvolution2D, Heat1D, Poisson1D, Abel1D"
   ]
  },
  {
   "attachments": {},
   "cell_type": "markdown",
   "metadata": {},
   "source": [
    "and their calling signature is the same as for the `Deconvolution1D` problem, e.g. \n",
    "```\n",
    "model, data, probInfo = Heat1D().get_components()\n",
    "```\n",
    "Input arguments vary and default values are provided if left empty. Instead of checking the onlinen docs, calling help of each testproblem, e.g., `help(Heat1D)` will also describe the test problem and the inputs it accepts"
   ]
  },
  {
   "attachments": {},
   "cell_type": "markdown",
   "metadata": {},
   "source": [
    "For now, proceeding with the `Deconvolution1D` test problem, we take a look at the model and see that it is a CUQIpy LinearModel:"
   ]
  },
  {
   "cell_type": "code",
   "execution_count": null,
   "metadata": {},
   "outputs": [],
   "source": [
    "A"
   ]
  },
  {
   "attachments": {},
   "cell_type": "markdown",
   "metadata": {},
   "source": [
    "We take a look at the data:"
   ]
  },
  {
   "cell_type": "code",
   "execution_count": null,
   "metadata": {},
   "outputs": [],
   "source": [
    "y_data"
   ]
  },
  {
   "attachments": {},
   "cell_type": "markdown",
   "metadata": {},
   "source": [
    "The data is a `CUQIarray`, which is a normal NumPy array further equipped with a few utilities, such as Geometry, which allows us to do plotting conveniently:"
   ]
  },
  {
   "cell_type": "code",
   "execution_count": null,
   "metadata": {},
   "outputs": [],
   "source": [
    "y_data.plot()\n",
    "plt.title(\"Data\");"
   ]
  },
  {
   "attachments": {},
   "cell_type": "markdown",
   "metadata": {},
   "source": [
    "The last thing returned by the test problem was `probInfo` which contains additional information about the test problem, typically it includes the exact solution (phantom) and the exact data. We take a look at both:"
   ]
  },
  {
   "cell_type": "code",
   "execution_count": null,
   "metadata": {},
   "outputs": [],
   "source": [
    "probInfo"
   ]
  },
  {
   "cell_type": "code",
   "execution_count": null,
   "metadata": {},
   "outputs": [],
   "source": [
    "probInfo.exactSolution.plot()\n",
    "plt.title(\"Exact solution\");"
   ]
  },
  {
   "cell_type": "code",
   "execution_count": null,
   "metadata": {},
   "outputs": [],
   "source": [
    "probInfo.exactData.plot()\n",
    "plt.title(\"Exact data\");"
   ]
  },
  {
   "attachments": {},
   "cell_type": "markdown",
   "metadata": {},
   "source": [
    "Since `CUQIarray` is a NumPy array (technically subclassed from NumPy ndarray), we can do all computations that NumPy admits and still get a `CUQIarray`, for example take the difference between the data and exact data and call the plot method:"
   ]
  },
  {
   "cell_type": "code",
   "execution_count": null,
   "metadata": {},
   "outputs": [],
   "source": [
    "(y_data-probInfo.exactData).plot()\n",
    "plt.title(\"Noise\");"
   ]
  },
  {
   "attachments": {},
   "cell_type": "markdown",
   "metadata": {},
   "source": [
    "## 3. Specifying and solving a Bayesian inverse problem  <a class=\"anchor\" id=\"Bayesian\"></a> "
   ]
  },
  {
   "attachments": {},
   "cell_type": "markdown",
   "metadata": {},
   "source": [
    "We assume (as a prior) that the elements of $\\mathbf{x}$ follow a so-called Gaussian Markov Random Field [(GMRF)](https://cuqi-dtu.github.io/CUQIpy/api/_autosummary/cuqi.distribution/cuqi.distribution.GMRF.html#cuqi.distribution.GMRF), which assumes a Gaussian distribution on the differences of the unknown. For the additive noise we assume i.i.d. Gaussian with zero mean and variance $\\sigma_e^2$, i.e., precision $d_e = 1/\\sigma_e^2$,\n",
    "$$\n",
    "\\begin{align}\n",
    "\\mathbf{x}&\\sim\\mathrm{GMRF}(\\mathbf{0},50), \\\\\n",
    "\\mathbf{e}&\\sim\\mathcal{N}(\\mathbf{0},d_e^{-1}\\mathbf{I}_n)\n",
    "\\end{align}\n",
    "$$"
   ]
  },
  {
   "cell_type": "markdown",
   "metadata": {},
   "source": [
    "From the distribution of $\\mathbf{e}$ and the linear model we can write up this with the distribution of $\\mathbf{y}$ instead:\n",
    "$$\n",
    "\\begin{align}\n",
    "\\mathbf{x}&\\sim\\mathrm{GMRF}(\\mathbf{0},50), \\\\\n",
    "\\mathbf{y}&\\sim\\mathcal{N}(\\mathbf{Ax},d_e^{-1}\\mathbf{I}_n).\n",
    "\\end{align}$$"
   ]
  },
  {
   "attachments": {},
   "cell_type": "markdown",
   "metadata": {},
   "source": [
    "We can specify these distributions in CUQIpy as follows. For $\\mathbf{x}$ we have"
   ]
  },
  {
   "cell_type": "code",
   "execution_count": null,
   "metadata": {},
   "outputs": [],
   "source": [
    "x = GMRF(np.zeros(A.domain_dim), 50)"
   ]
  },
  {
   "attachments": {},
   "cell_type": "markdown",
   "metadata": {},
   "source": [
    "And for y we have"
   ]
  },
  {
   "cell_type": "code",
   "execution_count": null,
   "metadata": {},
   "outputs": [],
   "source": [
    "d_e_true = 1/0.01**2 \n",
    "y = Gaussian(A@x, cov=1/d_e_true)"
   ]
  },
  {
   "attachments": {},
   "cell_type": "markdown",
   "metadata": {},
   "source": [
    "The two distributions are combined in a Bayesian inverse problem:"
   ]
  },
  {
   "cell_type": "code",
   "execution_count": null,
   "metadata": {},
   "outputs": [],
   "source": [
    "BP = BayesianProblem(y, x)\n",
    "print(BP)"
   ]
  },
  {
   "attachments": {},
   "cell_type": "markdown",
   "metadata": {},
   "source": [
    "This is essentially a joint distribution over `x` and `y` which is also indicated in the print result.\n",
    "\n",
    "The last step is to provide the observed data for `y`:"
   ]
  },
  {
   "cell_type": "code",
   "execution_count": null,
   "metadata": {},
   "outputs": [],
   "source": [
    "BP.set_data(y=y_data)"
   ]
  },
  {
   "cell_type": "markdown",
   "metadata": {},
   "source": [
    "Notice how the target of the Bayesian Problem now became a posterior distribution with respect to `x` given `y`."
   ]
  },
  {
   "attachments": {},
   "cell_type": "markdown",
   "metadata": {},
   "source": [
    "The \"completely non-expert approach\" to solving (more detailed approaches described in later notebooks) is to simply run the `UQ` method. \n",
    "\n",
    "The `UQ` method looks at the components of the inverse problem, chooses a suitable sampler, samples the posterior and presents results visually:"
   ]
  },
  {
   "cell_type": "code",
   "execution_count": null,
   "metadata": {},
   "outputs": [],
   "source": [
    "BP.UQ()"
   ]
  },
  {
   "attachments": {},
   "cell_type": "markdown",
   "metadata": {},
   "source": [
    "To compare with the exact solution (if available) one can pass it as an input, and we can also return the posterior samples (this resamples the problem for illustrative purposes):"
   ]
  },
  {
   "cell_type": "code",
   "execution_count": null,
   "metadata": {},
   "outputs": [],
   "source": [
    "samples = BP.UQ(exact=probInfo.exactSolution)"
   ]
  },
  {
   "attachments": {},
   "cell_type": "markdown",
   "metadata": {},
   "source": [
    "Having returned the samples allows us to further investigate the posterior in addition to the prefined analysis done by `.UQ()`, for example we can plot 5 randomly chosen samples:"
   ]
  },
  {
   "cell_type": "code",
   "execution_count": null,
   "metadata": {},
   "outputs": [],
   "source": [
    "samples.plot();"
   ]
  },
  {
   "cell_type": "markdown",
   "metadata": {},
   "source": [
    "Or comparing some scatter-type plots of the samples:"
   ]
  },
  {
   "cell_type": "code",
   "execution_count": null,
   "metadata": {},
   "outputs": [],
   "source": [
    "samples.plot_pair()"
   ]
  },
  {
   "attachments": {},
   "cell_type": "markdown",
   "metadata": {},
   "source": [
    "## Try yourself (optional):  \n",
    "- Play with the parameters of the Gaussian prior to see if a better solution can be obtained.\n",
    "- Change phantom to another of the options provided by the TestProblem. Hint: use `help(Deconvolution1D)` to see which phantoms are available.\n",
    "- Try changing to the `Deconvolution2D` test problem and run the same code.\n",
    "\n",
    "Go to the top of section 2 to modify the code or add the relevant code in the cell below."
   ]
  },
  {
   "cell_type": "code",
   "execution_count": null,
   "metadata": {},
   "outputs": [],
   "source": []
  },
  {
   "attachments": {},
   "cell_type": "markdown",
   "metadata": {},
   "source": [
    "## 4. ★ Changing the prior <a class=\"anchor\" id=\"ChangingPrior\"></a> "
   ]
  },
  {
   "attachments": {},
   "cell_type": "markdown",
   "metadata": {},
   "source": [
    "It is straightforward to change components of the BayesianProblem. For example if we want to experiment with a different prior we can easily change the prior for `x`.\n",
    "\n",
    "Suppose we were working with a different phantom that we know is piecewise constant. We can use a piecewise constant prior instead of the GMRF."
   ]
  },
  {
   "cell_type": "code",
   "execution_count": null,
   "metadata": {},
   "outputs": [],
   "source": [
    "A, y_data, probInfo = Deconvolution1D(phantom=\"square\", PSF_param=5).get_components()"
   ]
  },
  {
   "cell_type": "markdown",
   "metadata": {},
   "source": [
    "The \"square\" phantom looks as follows."
   ]
  },
  {
   "cell_type": "code",
   "execution_count": null,
   "metadata": {},
   "outputs": [],
   "source": [
    "probInfo.exactSolution.plot()\n",
    "plt.title(\"Exact solution\");"
   ]
  },
  {
   "cell_type": "markdown",
   "metadata": {},
   "source": [
    "We can specify a [LMRF](https://cuqi-dtu.github.io/CUQIpy/api/_autosummary/cuqi.distribution/cuqi.distribution.LMRF.html) prior, which is a Laplace distribution on differences between neighboring function values:"
   ]
  },
  {
   "cell_type": "code",
   "execution_count": null,
   "metadata": {},
   "outputs": [],
   "source": [
    "x = LMRF(location=np.zeros(A.domain_dim), scale=0.01)"
   ]
  },
  {
   "cell_type": "markdown",
   "metadata": {},
   "source": [
    "The remainder of the steps are exactly the same as before for setting up and solving the Bayesian inverse problem:"
   ]
  },
  {
   "cell_type": "markdown",
   "metadata": {},
   "source": [
    "Define the Gaussian distribution for y."
   ]
  },
  {
   "cell_type": "code",
   "execution_count": null,
   "metadata": {},
   "outputs": [],
   "source": [
    "d_e_true = 1/0.01**2\n",
    "y = Gaussian(A@x, cov=1/d_e_true)"
   ]
  },
  {
   "attachments": {},
   "cell_type": "markdown",
   "metadata": {},
   "source": [
    "We create a new Bayesian Problem (using y from earlier):"
   ]
  },
  {
   "cell_type": "code",
   "execution_count": null,
   "metadata": {},
   "outputs": [],
   "source": [
    "BP_lap = BayesianProblem(y, x)\n",
    "print(BP_lap)"
   ]
  },
  {
   "attachments": {},
   "cell_type": "markdown",
   "metadata": {},
   "source": [
    "Set the data:"
   ]
  },
  {
   "cell_type": "code",
   "execution_count": null,
   "metadata": {},
   "outputs": [],
   "source": [
    "BP_lap.set_data(y=y_data)"
   ]
  },
  {
   "attachments": {},
   "cell_type": "markdown",
   "metadata": {},
   "source": [
    "And rerun the `UQ` method:"
   ]
  },
  {
   "cell_type": "code",
   "execution_count": null,
   "metadata": {},
   "outputs": [],
   "source": [
    "samples_lap = BP_lap.UQ(exact=probInfo.exactSolution)"
   ]
  },
  {
   "attachments": {},
   "cell_type": "markdown",
   "metadata": {},
   "source": [
    "Note how a different sampler was chosen due to the change of prior, and how the prior has changed the solution to be more similar to the exact solution.\n",
    "\n",
    "We also plot a few selected samples and note the more piece-wise constant appearance:"
   ]
  },
  {
   "cell_type": "code",
   "execution_count": null,
   "metadata": {},
   "outputs": [],
   "source": [
    "samples_lap.plot();"
   ]
  },
  {
   "attachments": {},
   "cell_type": "markdown",
   "metadata": {},
   "source": [
    "## Try yourself (optional):  \n",
    "- Play with the parameters of the Laplace prior to see if a better solution can be obtained.\n",
    "- Try the `CMRF` prior instead with scale parameter 0.01 (only for `Deconvolution1D`) for an even more edge-preserving prior, which however is more difficult to sample reliably.\n",
    "- Explore how sampling goes with the `GMRF` prior for the `Square` phantom. What is the issue? Hint: look at the exact solution."
   ]
  },
  {
   "cell_type": "markdown",
   "metadata": {},
   "source": [
    "## 5. ★ Gibbs sampling for hierarchical problems <a class=\"anchor\" id=\"Gibbs\"></a>"
   ]
  },
  {
   "attachments": {},
   "cell_type": "markdown",
   "metadata": {},
   "source": [
    "In the example above we assumed that the mean, std and scale parameters of the prior and noise distributions were known. If these parameters are unknown, we include them as parameters to be estimated in a joint Bayesian inverse problem. Only very few additional lines of CUQIpy are needed to achieve this, through a hierarchical prior.\n",
    "\n",
    "For example we can assume weakly informative Gamma distribution prior distributions on $d_e$ and $d_x$ such that we have the four random variables:\n",
    "$$\n",
    "\\begin{align*}\n",
    "d_x &\\sim \\mathrm{Gamma}(1, 10^{-4}), \\\\\n",
    "d_e  &\\sim \\mathrm{Gamma}(1, 10^{-4}), \\\\\n",
    "\\mathbf{x}&\\sim\\mathbf{LMRF}(\\mathbf{0}, d_x^{-1}), \\\\\n",
    "\\mathbf{y}&\\sim\\mathcal{N}(\\mathbf{Ax}, d_e^{-1}\\mathbf{I}_n).\n",
    "\\end{align*}\n",
    "$$\n",
    "\n",
    "We specify the four distributions in CUQIpy. To specify the hierarchical structure we use python lambda functions (equivalent to anonymous functions in MATLAB):"
   ]
  },
  {
   "cell_type": "code",
   "execution_count": null,
   "metadata": {},
   "outputs": [],
   "source": [
    "d_x = Gamma(1, 1e-4)\n",
    "d_e = Gamma(1, 1e-4)\n",
    "x = LMRF(np.zeros(A.domain_dim), lambda d_x : 1/d_x)\n",
    "y = Gaussian(A@x, cov=lambda d_e : 1/d_e)"
   ]
  },
  {
   "attachments": {},
   "cell_type": "markdown",
   "metadata": {},
   "source": [
    "and proceed as before to specify the Bayesian Problem, now with the four distributions:"
   ]
  },
  {
   "cell_type": "code",
   "execution_count": null,
   "metadata": {},
   "outputs": [],
   "source": [
    "BP = BayesianProblem(y, x, d_e, d_x)\n",
    "print(BP)"
   ]
  },
  {
   "attachments": {},
   "cell_type": "markdown",
   "metadata": {},
   "source": [
    "Again, we provide the observed data for `y`:"
   ]
  },
  {
   "cell_type": "code",
   "execution_count": null,
   "metadata": {},
   "outputs": [],
   "source": [
    "BP.set_data(y=y_data)"
   ]
  },
  {
   "attachments": {},
   "cell_type": "markdown",
   "metadata": {},
   "source": [
    "As before, we can run the UQ method, which will use a Gibbs sampler automatically selecting suitable sampling methods for each of the three parameters to be sampled `x`, `d_x` and `d_e`. We provide the true solution for `x` and the true precision for the noise for comparison in the generated plots:"
   ]
  },
  {
   "cell_type": "code",
   "execution_count": null,
   "metadata": {},
   "outputs": [],
   "source": [
    "samplesH = BP.UQ(Ns=1000, exact={\"x\":probInfo.exactSolution, \"d_e\":d_e_true})"
   ]
  },
  {
   "attachments": {},
   "cell_type": "markdown",
   "metadata": {},
   "source": [
    "We see the effect of the LMRF prior once again on the solution, and in addition we see trace plots for the `d_x` and `d_e` parameters produced by the `UQ` method with the Gibbs sampler.\n",
    "\n",
    "Having returned the samples we can pick out the individual parameters and do separate plots manually:"
   ]
  },
  {
   "cell_type": "code",
   "execution_count": null,
   "metadata": {},
   "outputs": [],
   "source": [
    "samplesH[\"x\"].plot();"
   ]
  },
  {
   "cell_type": "code",
   "execution_count": null,
   "metadata": {},
   "outputs": [],
   "source": [
    "samplesH[\"d_x\"].plot_trace();"
   ]
  },
  {
   "cell_type": "markdown",
   "metadata": {},
   "source": [
    "## Try yourself (optional):  \n",
    "- Try the above example with the `Deconvolution2D` test problem instead of `Deconvolution1D` and with phantom \"cookie\". You should be able to replicate the results from the introductory example in the [CUQIpy paper](https://arxiv.org/abs/2305.16949). \n",
    "- Note for the 2D problem you need to specify `geometry=A.domain_geometry` as a keyword argument to `LMRF` to ensure the difference operator is applied on a 2D image grid."
   ]
  },
  {
   "cell_type": "markdown",
   "metadata": {},
   "source": []
  }
 ],
 "metadata": {
  "interpreter": {
   "hash": "8a2a2a6f000eefafb6ab14e86e333a3522b00875ca02312d09d70808f888a31d"
  },
  "kernelspec": {
   "display_name": "Python 3",
   "language": "python",
   "name": "python3"
  },
  "language_info": {
   "codemirror_mode": {
    "name": "ipython",
    "version": 3
   },
   "file_extension": ".py",
   "mimetype": "text/x-python",
   "name": "python",
   "nbconvert_exporter": "python",
   "pygments_lexer": "ipython3",
   "version": "3.11.4"
  }
 },
 "nbformat": 4,
 "nbformat_minor": 4
}
