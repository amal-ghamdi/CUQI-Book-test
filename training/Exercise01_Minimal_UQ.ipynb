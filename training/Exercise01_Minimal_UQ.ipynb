{
 "cells": [
  {
   "cell_type": "markdown",
   "metadata": {},
   "source": [
    "# Exercise 01:  Minimal high-level UQ example\n",
    "\n",
    "This notebook demonstrates high-level UQ with CUQIpy on a 1D Deconvolution test problem.\n",
    "\n",
    "## Learning objectives of this notebook:\n",
    "- Get acquainted with the CUQIpy components needed to specify a Bayesian inverse problem.\n",
    "- Run a high-level UQ analysis of an inverse problem.\n",
    "\n",
    "## Table of contents: \n",
    "* [1. UQ in five lines!](#UQ5)\n",
    "* [2. Loading a test problem](#TestProblem)\n",
    "* [3. Specifying and solving a Bayesian inverse problem ](#Bayesian)\n",
    "* [4. ★ Changing the prior](#ChangingPrior)\n",
    "* [5. ★ Gibbs sampling for hierarchical problems](#Gibbs)\n",
    "\n",
    "*The last two sections marked by \"★\" are optional - try running through sections 1, 2, 3 before attempting the exercises, and before sections 4 and 5.*"
   ]
  },
  {
   "cell_type": "markdown",
   "metadata": {},
   "source": [
    "First we import any python packages we need, here simply NumPy to handle array computations and matplotlib for plotting:"
   ]
  },
  {
   "cell_type": "code",
   "execution_count": null,
   "metadata": {},
   "outputs": [],
   "source": [
    "import numpy as np\n",
    "import matplotlib.pyplot as plt"
   ]
  },
  {
   "cell_type": "markdown",
   "metadata": {},
   "source": [
    "Then we import the functionality we need from CUQIpy:"
   ]
  },
  {
   "cell_type": "code",
   "execution_count": null,
   "metadata": {},
   "outputs": [],
   "source": [
    "import sys\n",
    "sys.path.append(\"../../CUQIpy/\")\n",
    "\n",
    "from cuqi.distribution import JointDistribution, Gaussian, GaussianCov, GaussianPrec, Gamma, Laplace_diff, Cauchy_diff\n",
    "from cuqi.problem import BayesianProblem\n",
    "from cuqi.testproblem import Deconvolution1D, Deconvolution2D"
   ]
  },
  {
   "cell_type": "markdown",
   "metadata": {},
   "source": [
    "## 1. UQ in a few lines of code!   <a class=\"anchor\" id=\"UQ5\"></a> "
   ]
  },
  {
   "cell_type": "markdown",
   "metadata": {},
   "source": [
    "In just a few lines of CUQIpy code we can:\n",
    "- load a forward model and data from a 1D deconvolution test problem,\n",
    "- specify distributions for prior and data,\n",
    "- formulate a Bayesian inverse problem with observed data, and\n",
    "- run a UQ analysis."
   ]
  },
  {
   "cell_type": "markdown",
   "metadata": {},
   "source": [
    "The 1D deconvolution test problem is a linear inverse problem with additive noise:\n",
    "\n",
    "$$ \\mathbf{y} = \\mathbf{A}\\mathbf{x}+\\mathbf{e},$$\n",
    "where \n",
    "- $\\mathbf{A}\\in\\mathbb{R}^{n\\times n}$, is a blurring operator, \n",
    "- $\\mathbf{x}\\in\\mathbb{R}^n$ is an unknown 1D signal of length $n$ to be determined,\n",
    "- $\\mathbf{y}\\in\\mathbb{R}^n$ is an observed blurred and noisy signal, and\n",
    "- $\\mathbf{e}\\in\\mathbb{R}^n$ is additive noise.\n",
    "\n",
    "We load in the forward model `A` and observed data `y_data` from the test problem:"
   ]
  },
  {
   "cell_type": "code",
   "execution_count": null,
   "metadata": {},
   "outputs": [],
   "source": [
    "n = 50\n",
    "A, y_data, probInfo = Deconvolution1D.get_components(dim=n, phantom=\"Square\")"
   ]
  },
  {
   "cell_type": "markdown",
   "metadata": {},
   "source": [
    "We assume (as a prior) that the elements of $\\mathbf{x}$ are i.i.d. zero-mean Gaussian with variance $\\sigma_x^2$ or equivalently *precision* $d_x = 1/\\sigma_x^2$, and the additive noise is also i.i.d. Gaussian with zero mean and variance $\\sigma_e^2$, i.e., precision $d_e = 1/\\sigma_e^2$,\n",
    "$$\n",
    "\\begin{align}\n",
    "\\mathbf{x}&\\sim\\mathcal{N}(\\mathbf{0},d_x^{-1}\\mathbf{I}_n), \\\\\n",
    "\\mathbf{e}&\\sim\\mathcal{N}(\\mathbf{0},d_e^{-1}\\mathbf{I}_n)\n",
    "\\end{align}\n",
    "$$"
   ]
  },
  {
   "cell_type": "markdown",
   "metadata": {},
   "source": [
    "From the distribution of $\\mathbf{e}$ and the linear model we can write up this with the distribution of $\\mathbf{y}$ instead:\n",
    "$$\n",
    "\\begin{align}\n",
    "\\mathbf{x}&\\sim\\mathcal{N}(\\mathbf{0},d_x^{-1}\\mathbf{I}_n), \\\\\n",
    "\\mathbf{y}&\\sim\\mathcal{N}(\\mathbf{Ax},d_e^{-1}\\mathbf{I}_n).\n",
    "\\end{align}$$"
   ]
  },
  {
   "cell_type": "markdown",
   "metadata": {},
   "source": [
    "which in CUQIpy can be written as follows for known precisions:"
   ]
  },
  {
   "cell_type": "code",
   "execution_count": null,
   "metadata": {},
   "outputs": [],
   "source": [
    "d_x_true = 100\n",
    "d_e_true = 400\n",
    "x = GaussianCov(mean=np.zeros(n), cov=1/d_x_true)\n",
    "y = GaussianCov(mean=A@x, cov=1/d_e_true)"
   ]
  },
  {
   "cell_type": "markdown",
   "metadata": {},
   "source": [
    "We can carry out a UQ analysis given observed data $\\mathbf{y}=\\mathbf{y}^\\mathrm{data}$ by:"
   ]
  },
  {
   "cell_type": "code",
   "execution_count": null,
   "metadata": {},
   "outputs": [],
   "source": [
    "BP = BayesianProblem(y,x).set_data(y=y_data)\n",
    "BP.UQ(exact=probInfo.exactSolution)"
   ]
  },
  {
   "cell_type": "markdown",
   "metadata": {},
   "source": [
    "If the precisions are not known, we can include both as parameters to be estimated in the inverse problem. We extend the Bayesian problem by assuming the precisions follow Gamma distributions in a hierarchical problem:\n",
    "$$\n",
    "\\begin{align*}\n",
    "\\delta_x   &\\sim \\mathrm{Gamma}(1, 10^{-2}), \\\\\n",
    "\\delta_e   &\\sim \\mathrm{Gamma}(1, 10^{-2}), \\\\\n",
    "\\mathbf{x} &\\sim \\mathcal{N}(\\mathbf{0},d_x^{-1}\\mathbf{I}_n), \\\\\n",
    "\\mathbf{y} &\\sim \\mathcal{N}(\\mathbf{Ax},d_e^{-1}\\mathbf{I}_n).\n",
    "\\end{align*}\n",
    "$$"
   ]
  },
  {
   "cell_type": "code",
   "execution_count": null,
   "metadata": {},
   "outputs": [],
   "source": [
    "d_x = Gamma(1, 0.01)\n",
    "d_e = Gamma(1, 0.01)\n",
    "x = GaussianCov(np.zeros(n), cov=lambda d_x : 1/d_x)\n",
    "y = GaussianCov(A@x, cov=lambda d_e : 1/d_e)"
   ]
  },
  {
   "cell_type": "markdown",
   "metadata": {},
   "source": [
    "UQ analysis given observed data $\\mathbf{y}=\\mathbf{y}^\\mathrm{data}$, now on the extended problem using a Gibbs sampler:"
   ]
  },
  {
   "cell_type": "code",
   "execution_count": null,
   "metadata": {},
   "outputs": [],
   "source": [
    "BP = BayesianProblem(y, x, d_x, d_e).set_data(y=y_data)\n",
    "BP.UQ(exact={\"x\":probInfo.exactSolution, \"d_e\":d_e_true})"
   ]
  },
  {
   "cell_type": "markdown",
   "metadata": {},
   "source": [
    "The plots for the hyperparameters $\\delta_x$ and $\\delta_e$ are called trace plots. They show the density estimate (left) and chain (right).\n",
    "\n",
    "In the following sections of this notebook we break it down and take a slightly closer look at each step. The subsequent notebooks provide additional details."
   ]
  },
  {
   "cell_type": "markdown",
   "metadata": {},
   "source": [
    "## 2. Loading a test problem  <a class=\"anchor\" id=\"TestProblem\"></a> "
   ]
  },
  {
   "cell_type": "markdown",
   "metadata": {},
   "source": [
    "The 1D deconvolution test problem is a linear inverse problem with additive noise:\n",
    "\n",
    "$$ \\mathbf{y} = \\mathbf{A}\\mathbf{x}+\\mathbf{e},$$\n",
    "where \n",
    "- $\\mathbf{A}\\in\\mathbb{R}^{n\\times n}$, is a blurring operator, \n",
    "- $\\mathbf{x}\\in\\mathbb{R}^n$ is an unknown 1D signal of length $n$ to be determined,\n",
    "- $\\mathbf{y}\\in\\mathbb{R}^n$ is an observed blurred and noisy signal, and\n",
    "- $\\mathbf{e}\\in\\mathbb{R}^n$ is additive noise.\n",
    "\n",
    "We load in the forward model `A` and observed data `y_data` from the test problem:"
   ]
  },
  {
   "cell_type": "code",
   "execution_count": null,
   "metadata": {},
   "outputs": [],
   "source": [
    "A, y_data, probInfo = Deconvolution1D.get_components(dim=n, phantom=\"Square\")"
   ]
  },
  {
   "cell_type": "markdown",
   "metadata": {},
   "source": [
    "Here we use the variable name `A` to match the mathematics. But `A` is a CUQIpy model, not a matrix.\n",
    "\n",
    "Note that the test problem can be configured (e.g. other phantoms, noise types and level etc.) by means of the inputs, see `help(Deconvolution1D)` for details."
   ]
  },
  {
   "cell_type": "markdown",
   "metadata": {},
   "source": [
    "Several other test problems are available (click links to see online docs):\n",
    "- [Deconvolution1D](https://cuqi-dtu.github.io/CUQIpy/api/_autosummary/cuqi.testproblem/cuqi.testproblem.Deconvolution1D.html#cuqi.testproblem.Deconvolution1D): 1D periodic deconvolution problem.\n",
    "- [Deconvolution2D](https://cuqi-dtu.github.io/CUQIpy/api/_autosummary/cuqi.testproblem/cuqi.testproblem.Deconvolution2D.html#cuqi.testproblem.Deconvolution2D): 2D deconvolution (deblurring) problem.\n",
    "- [Heat_1D](https://cuqi-dtu.github.io/CUQIpy/api/_autosummary/cuqi.testproblem/cuqi.testproblem.Heat_1D.html):  Heat equation PDE problem.\n",
    "- [Poisson_1D](https://cuqi-dtu.github.io/CUQIpy/api/_autosummary/cuqi.testproblem/cuqi.testproblem.Poisson_1D.html): Poisson equation PDE problem.\n",
    "- [Abel_1D](https://cuqi-dtu.github.io/CUQIpy/api/_autosummary/cuqi.testproblem/cuqi.testproblem.Abel_1D.html):  Abel equation PDE (1D rotationally symmetric CT) problem. \n",
    "\n",
    "These are imported as follows:"
   ]
  },
  {
   "cell_type": "code",
   "execution_count": null,
   "metadata": {},
   "outputs": [],
   "source": [
    "from cuqi.testproblem import Deconvolution2D, Heat_1D, Poisson_1D, Abel_1D"
   ]
  },
  {
   "cell_type": "markdown",
   "metadata": {},
   "source": [
    "and their calling signature is the same as for the `Deconvolution1D` problem, e.g. \n",
    "```\n",
    "model, data, probInfo = Heat_1D.get_components()\n",
    "```\n",
    "Input arguments vary and default values are provided if left empty. Instead of checking the onlinen docs, calling help of each testproblem, e.g., `help(Heat_1D)` will also describe the test problem and the inputs it accepts"
   ]
  },
  {
   "cell_type": "markdown",
   "metadata": {},
   "source": [
    "For now, proceeding with the `Deconvolution1D` test problem, we take a look at the model and see that it is a CUQIpy LinearModel:"
   ]
  },
  {
   "cell_type": "code",
   "execution_count": null,
   "metadata": {},
   "outputs": [],
   "source": [
    "A"
   ]
  },
  {
   "cell_type": "markdown",
   "metadata": {},
   "source": [
    "We take a look at the data:"
   ]
  },
  {
   "cell_type": "code",
   "execution_count": null,
   "metadata": {},
   "outputs": [],
   "source": [
    "y_data"
   ]
  },
  {
   "cell_type": "markdown",
   "metadata": {},
   "source": [
    "The data is a `CUQIarray`, which is a normal NumPy array further equipped with a few utilities, such as Geometry, which allows us to do plotting conveniently:"
   ]
  },
  {
   "cell_type": "code",
   "execution_count": null,
   "metadata": {},
   "outputs": [],
   "source": [
    "y_data.plot()\n",
    "plt.title(\"Data\");"
   ]
  },
  {
   "cell_type": "markdown",
   "metadata": {},
   "source": [
    "The last thing returned by the test problem was `probInfo` which contains additional information about the test problem, typically it includes the exact solution (phantom) and the exact data. We take a look at both:"
   ]
  },
  {
   "cell_type": "code",
   "execution_count": null,
   "metadata": {},
   "outputs": [],
   "source": [
    "probInfo"
   ]
  },
  {
   "cell_type": "code",
   "execution_count": null,
   "metadata": {},
   "outputs": [],
   "source": [
    "probInfo.exactSolution.plot()\n",
    "plt.title(\"Exact solution\");"
   ]
  },
  {
   "cell_type": "code",
   "execution_count": null,
   "metadata": {},
   "outputs": [],
   "source": [
    "probInfo.exactData.plot()\n",
    "plt.title(\"Exact data\");"
   ]
  },
  {
   "cell_type": "markdown",
   "metadata": {},
   "source": [
    "Since `CUQIarray` is a NumPy array (technically subclassed from NumPy ndarray), we can do all computations that NumPy admits and still get a `CUQIarray`, for example take the difference between the data and exact data and call the plot method:"
   ]
  },
  {
   "cell_type": "code",
   "execution_count": null,
   "metadata": {},
   "outputs": [],
   "source": [
    "(y_data-probInfo.exactData).plot()\n",
    "plt.title(\"Noise\");"
   ]
  },
  {
   "cell_type": "markdown",
   "metadata": {},
   "source": [
    "## 3. Specifying and solving a Bayesian inverse problem  <a class=\"anchor\" id=\"Bayesian\"></a> "
   ]
  },
  {
   "cell_type": "markdown",
   "metadata": {},
   "source": [
    "We assume (as a prior) that the elements of $\\mathbf{x}$ are i.i.d. zero-mean Gaussian with variance $\\sigma_x^2$ or equivalently *precision* $d_x = 1/\\sigma_x^2$, and the additive noise is also i.i.d. Gaussian with zero mean and variance $\\sigma_e^2$, i.e., precision $d_e = 1/\\sigma_e^2$,\n",
    "$$\n",
    "\\begin{align}\n",
    "\\mathbf{x}&\\sim\\mathcal{N}(\\mathbf{0},d_x^{-1}\\mathbf{I}_n), \\\\\n",
    "\\mathbf{e}&\\sim\\mathcal{N}(\\mathbf{0},d_e^{-1}\\mathbf{I}_n)\n",
    "\\end{align}\n",
    "$$"
   ]
  },
  {
   "cell_type": "markdown",
   "metadata": {},
   "source": [
    "From the distribution of $\\mathbf{e}$ and the linear model we can write up this with the distribution of $\\mathbf{y}$ instead:\n",
    "$$\n",
    "\\begin{align}\n",
    "\\mathbf{x}&\\sim\\mathcal{N}(\\mathbf{0},d_x^{-1}\\mathbf{I}_n), \\\\\n",
    "\\mathbf{y}&\\sim\\mathcal{N}(\\mathbf{Ax},d_e^{-1}\\mathbf{I}_n).\n",
    "\\end{align}$$"
   ]
  },
  {
   "cell_type": "markdown",
   "metadata": {},
   "source": [
    "We can specify these distributions in CUQIpy as follows. For $\\mathbf{x}$ with a particular fixed choice of $\\mathbf{\\sigma_x}$:"
   ]
  },
  {
   "cell_type": "code",
   "execution_count": null,
   "metadata": {},
   "outputs": [],
   "source": [
    "d_x_true = 100\n",
    "x = GaussianCov(mean=np.zeros(n), cov=1/d_x_true)"
   ]
  },
  {
   "cell_type": "markdown",
   "metadata": {},
   "source": [
    "We create the Gaussian distribution with the model applied to `x` as mean and a choice of fixed standard deviation:"
   ]
  },
  {
   "cell_type": "code",
   "execution_count": null,
   "metadata": {},
   "outputs": [],
   "source": [
    "d_e_true = 400\n",
    "y = GaussianCov(A@x, cov=1/d_e_true)"
   ]
  },
  {
   "cell_type": "markdown",
   "metadata": {},
   "source": [
    "The two distributions are combined in a Bayesian inverse problem:"
   ]
  },
  {
   "cell_type": "code",
   "execution_count": null,
   "metadata": {},
   "outputs": [],
   "source": [
    "BP = BayesianProblem(y, x)\n",
    "print(BP)"
   ]
  },
  {
   "cell_type": "markdown",
   "metadata": {},
   "source": [
    "This is essentially a joint distribution over `x` and `y`. The last step is to provide the observed data for `y`:"
   ]
  },
  {
   "cell_type": "code",
   "execution_count": null,
   "metadata": {},
   "outputs": [],
   "source": [
    "BP.set_data(y=y_data)"
   ]
  },
  {
   "cell_type": "markdown",
   "metadata": {},
   "source": [
    "The \"completely non-expert approach\" to solving (more detailed approaches described in later notebooks) is to simply run the `UQ` method. \n",
    "\n",
    "The `UQ` method looks at the components of the inverse problem, chooses a suitable sampler, samples the posterior and presents results visually:"
   ]
  },
  {
   "cell_type": "code",
   "execution_count": null,
   "metadata": {},
   "outputs": [],
   "source": [
    "BP.UQ()"
   ]
  },
  {
   "cell_type": "markdown",
   "metadata": {},
   "source": [
    "To compare with the exact solution (if available) one can pass it as an input, and we can also return the posterior samples:"
   ]
  },
  {
   "cell_type": "code",
   "execution_count": null,
   "metadata": {},
   "outputs": [],
   "source": [
    "samples = BP.UQ(exact=probInfo.exactSolution)"
   ]
  },
  {
   "cell_type": "markdown",
   "metadata": {},
   "source": [
    "Having returned the samples allows us to further investigate the posterior in addition to the prefined analysis done by `.UQ()`, for example we can plot 5 randomly chosen samples:"
   ]
  },
  {
   "cell_type": "code",
   "execution_count": null,
   "metadata": {},
   "outputs": [],
   "source": [
    "samples.plot();"
   ]
  },
  {
   "cell_type": "markdown",
   "metadata": {},
   "source": [
    "## Try yourself (optional):  \n",
    "- Play with the parameters of the Gaussian prior to see if a better solution can be obtained.\n",
    "- Change phantom to another of the options provided by the TestProblem. Hint: use `help(Deconvolution1D)` to see which phantoms are available.\n",
    "- Try changing to the `Deconvolution2D` test problem and run the same code.\n",
    "\n",
    "Go to the top of section 2 to modify the code or add the relevant code in the cell below."
   ]
  },
  {
   "cell_type": "code",
   "execution_count": null,
   "metadata": {},
   "outputs": [],
   "source": []
  },
  {
   "cell_type": "markdown",
   "metadata": {},
   "source": [
    "## 4. ★ Changing the prior <a class=\"anchor\" id=\"ChangingPrior\"></a> "
   ]
  },
  {
   "cell_type": "markdown",
   "metadata": {},
   "source": [
    "It is straightforward to change components of the BayesianProblem. For example if we want to experiment with a different prior we can easily swap it out.\n",
    "\n",
    "We specify a `Laplace_diff` prior, which is a Laplace distribution on differences between neighbouring function values:"
   ]
  },
  {
   "cell_type": "code",
   "execution_count": null,
   "metadata": {},
   "outputs": [],
   "source": [
    "x = Laplace_diff(location=np.zeros(n), scale=0.01)"
   ]
  },
  {
   "cell_type": "markdown",
   "metadata": {},
   "source": [
    "We create a new Bayesian Problem:"
   ]
  },
  {
   "cell_type": "code",
   "execution_count": null,
   "metadata": {},
   "outputs": [],
   "source": [
    "BP_lap = BayesianProblem(y, x)\n",
    "print(BP_lap)"
   ]
  },
  {
   "cell_type": "markdown",
   "metadata": {},
   "source": [
    "Set the data:"
   ]
  },
  {
   "cell_type": "code",
   "execution_count": null,
   "metadata": {},
   "outputs": [],
   "source": [
    "BP_lap.set_data(y=y_data)"
   ]
  },
  {
   "cell_type": "markdown",
   "metadata": {},
   "source": [
    "And rerun the `UQ` method:"
   ]
  },
  {
   "cell_type": "code",
   "execution_count": null,
   "metadata": {},
   "outputs": [],
   "source": [
    "samples_lap = BP_lap.UQ(exact=probInfo.exactSolution)"
   ]
  },
  {
   "cell_type": "markdown",
   "metadata": {},
   "source": [
    "Note how a different sampler was chosen due to the change of prior, and how the prior has changed the solution to be more similar to the exact solution.\n",
    "\n",
    "We also plot a few selected samples and note the more piece-wise constant appearance:"
   ]
  },
  {
   "cell_type": "code",
   "execution_count": null,
   "metadata": {},
   "outputs": [],
   "source": [
    "samples_lap.plot();"
   ]
  },
  {
   "cell_type": "markdown",
   "metadata": {},
   "source": [
    "## Try yourself (optional):  \n",
    "- Play with the parameters of the Laplace prior to see if a better solution can be obtained.\n",
    "- Try the `Cauchy_diff` prior instead with scale parameter 0.01 (only for `Deconvolution1D`) for an even more edge-preserving prior, which however is more difficult to sample reliably."
   ]
  },
  {
   "cell_type": "markdown",
   "metadata": {},
   "source": [
    "# 5. ★ Gibbs sampling for hierarchical problems   <a class=\"anchor\" id=\"Gibbs\"></a> "
   ]
  },
  {
   "cell_type": "markdown",
   "metadata": {},
   "source": [
    "Until now we assumed that the mean, std and scale parameters of the prior and noise distributions were known. If these parameters are unknown, we include them as parameters to be estimated in a joint Bayesian inverse problem. Only very few additional lines of CUQIpy are needed to achieve this, through a hierarchical prior.\n",
    "\n",
    "For example we can assume weakly informative Gamma distribution prior distributions on $\\sigma_x$ and $\\sigma_e$ such that we have the four random variables:\n",
    "$$\n",
    "\\begin{align*}\n",
    "d_x  &\\sim \\mathrm{Gamma}(1, 10^{-2}), \\\\\n",
    "d_e  &\\sim \\mathrm{Gamma}(1, 10^{-2}), \\\\\n",
    "\\mathbf{x}&\\sim\\mathcal{N}(\\mathbf{0},d_x^{-1}\\mathbf{I}_n), \\\\\n",
    "\\mathbf{y}&\\sim\\mathcal{N}(\\mathbf{Ax}, d_e^{-1}\\mathbf{I}_n).\n",
    "\\end{align*}\n",
    "$$\n",
    "\n",
    "We specify the four distributions in CUQIpy. To specify the hierarchical structure we use python lambda functions (equivalent to anonymous functions in MATLAB):"
   ]
  },
  {
   "cell_type": "code",
   "execution_count": null,
   "metadata": {},
   "outputs": [],
   "source": [
    "d_x = Gamma(1, 0.01)\n",
    "d_e = Gamma(1, 0.01)\n",
    "x = GaussianCov(np.zeros(n), cov=lambda d_x : 1/d_x)\n",
    "y = GaussianCov(A@x, cov=lambda d_e : 1/d_e)"
   ]
  },
  {
   "cell_type": "markdown",
   "metadata": {},
   "source": [
    "and proceed as before to specify the Bayesian Problem, now with the four distributions:"
   ]
  },
  {
   "cell_type": "code",
   "execution_count": null,
   "metadata": {},
   "outputs": [],
   "source": [
    "BP = BayesianProblem(y, x, d_x, d_e)\n",
    "print(BP)"
   ]
  },
  {
   "cell_type": "markdown",
   "metadata": {},
   "source": [
    "Again, we provide the observed data for `y`:"
   ]
  },
  {
   "cell_type": "code",
   "execution_count": null,
   "metadata": {},
   "outputs": [],
   "source": [
    "BP.set_data(y=y_data)"
   ]
  },
  {
   "cell_type": "markdown",
   "metadata": {},
   "source": [
    "As before, we can run the UQ method, which will use a Gibbs sampler automatically selecting suitable sampling methods for each of the three parameters to be sampled `x`, `d_x` and `d_e`. We provide the true solution for `x` and the true precision for the noise for comparison in the generated plots:"
   ]
  },
  {
   "cell_type": "code",
   "execution_count": null,
   "metadata": {},
   "outputs": [],
   "source": [
    "samplesH = BP.UQ(Ns=2000, exact={\"x\":probInfo.exactSolution, \"d_e\":d_e_true})"
   ]
  },
  {
   "cell_type": "markdown",
   "metadata": {},
   "source": [
    "Earlier we saw that the Laplace_diff prior gave a more piecewise constant behavior of `x`and we can also try employing that as part of the hierarchical problem:"
   ]
  },
  {
   "cell_type": "code",
   "execution_count": null,
   "metadata": {},
   "outputs": [],
   "source": [
    "x  = Laplace_diff(np.zeros(n), lambda d_x: 1/d_x)"
   ]
  },
  {
   "cell_type": "markdown",
   "metadata": {},
   "source": [
    "We set up the Bayesian Problem and specify the observed data for `y`:"
   ]
  },
  {
   "cell_type": "code",
   "execution_count": null,
   "metadata": {},
   "outputs": [],
   "source": [
    "BP = BayesianProblem(y, x, d_x, d_e)\n",
    "BP.set_data(y=y_data)"
   ]
  },
  {
   "cell_type": "markdown",
   "metadata": {},
   "source": [
    "And we sample it using the `UQ` method, this time returning the generated samples:"
   ]
  },
  {
   "cell_type": "code",
   "execution_count": null,
   "metadata": {},
   "outputs": [],
   "source": [
    "samplesH = BP.UQ(Ns=2000, exact={\"x\":probInfo.exactSolution, \"d_e\":d_e_true})"
   ]
  },
  {
   "cell_type": "markdown",
   "metadata": {},
   "source": [
    "We see the effect of the Laplace_diff prior once again on the solution, and in addition we see trace plots for the `d_x` and `d_e` parameters produced by the `UQ` method with the Gibbs sampler.\n",
    "\n",
    "Having returned the samples we can pick out the individual parameters and do separate plots manually:"
   ]
  },
  {
   "cell_type": "code",
   "execution_count": null,
   "metadata": {},
   "outputs": [],
   "source": [
    "samplesH[\"x\"].plot();"
   ]
  },
  {
   "cell_type": "code",
   "execution_count": null,
   "metadata": {},
   "outputs": [],
   "source": [
    "samplesH[\"d_x\"].plot_trace();"
   ]
  },
  {
   "cell_type": "code",
   "execution_count": null,
   "metadata": {},
   "outputs": [],
   "source": []
  }
 ],
 "metadata": {
  "interpreter": {
   "hash": "8a2a2a6f000eefafb6ab14e86e333a3522b00875ca02312d09d70808f888a31d"
  },
  "kernelspec": {
   "display_name": "Python 3",
   "language": "python",
   "name": "python3"
  },
  "language_info": {
   "codemirror_mode": {
    "name": "ipython",
    "version": 3
   },
   "file_extension": ".py",
   "mimetype": "text/x-python",
   "name": "python",
   "nbconvert_exporter": "python",
   "pygments_lexer": "ipython3",
   "version": "3.9.12"
  }
 },
 "nbformat": 4,
 "nbformat_minor": 4
}
