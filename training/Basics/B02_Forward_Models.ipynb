{
 "cells": [
  {
   "attachments": {},
   "cell_type": "markdown",
   "metadata": {},
   "source": [
    "# Exercise B02: Forward models, data generation and forward UQ\n",
    "\n",
    "In this notebook, we dive into forward models in CUQIpy. In brief, a forward model is defined as a mathematical model that describes the relationship between some input parameters (which are not directly observable) and some output data (which is observable).\n",
    "\n",
    "In the context of inverse problems, forward models are an important concept. What distinguishes forward models for inverse problems from any other kind of model of a physical system, is that they are typically *ill-posed*, which means that existence, uniqueness and/or stability of inversion cannot be guaranteed. This deserves a separate discussion, which is out-of-scope for this notebook and we refer to [1] for the interested reader.\n",
    "\n",
    "For the purpose of this notebook, we show the basics of how to use forward models in CUQIpy. In particular for generating simulated noisy data and some forward uncertainty quantification. Finally, we also show how to define new custom linear or non-linear forward models in CUQIpy from either a matrix or functions.\n",
    "\n",
    "## Learning objectives\n",
    "Going through this notebook you will see how to\n",
    "\n",
    "* Access and use pre-defined forward models from the CUQIpy testproblem library.\n",
    "* Carry out basic operations of forward models such as forward evaluation.\n",
    "* Generate noisy forward simulated data.\n",
    "* Make a custom forward model from an existing matrix or function.\n",
    "* Run a simple forward UQ analysis.\n",
    "\n",
    "## Table of contents\n",
    "1. [Access forward models from test problems](#testproblems)\n",
    "2. [Basic usage of forward models](#models)\n",
    "3. [Generating synthetic data](#data)\n",
    "4. [Creating custom forward models](#custom)\n",
    "5. [★ Forward UQ](#forwardUQ)\n",
    "\n",
    "## References\n",
    "[1] Hansen, P. C. (2010). Discrete inverse problems: insight and algorithms. Society for Industrial and Applied Mathematics, [10.1137/1.9780898718836](https://epubs.siam.org/doi/book/10.1137/1.9780898718836)."
   ]
  },
  {
   "attachments": {},
   "cell_type": "markdown",
   "metadata": {},
   "source": [
    "Before getting started, we have to import the Python packages we need. Here we also import CUQIpy (cuqi)."
   ]
  },
  {
   "cell_type": "code",
   "execution_count": null,
   "metadata": {},
   "outputs": [],
   "source": [
    "import numpy as np\n",
    "import matplotlib.pyplot as plt\n",
    "import cuqi"
   ]
  },
  {
   "attachments": {},
   "cell_type": "markdown",
   "metadata": {},
   "source": [
    "# 1. Access forward models from test problems<a class=\"anchor\" id=\"testproblems\"></a>\n",
    "Forward models in CUQIpy are the link between the parameter of interest (which we call solution), say $\\mathbf{x}$, and the observed data, say $\\mathbf{y}$. In their simplest form, they are simply a mapping $A: \\mathbf{x} \\mapsto \\mathbf{y}$. In CUQIpy, forward models are so commonly used that we refer to them simply as models.\n",
    "\n",
    "In addition to providing a mapping for the \"forward\" operation and potentially the adjoint, a CUQIpy model also contains information on the parametrization of its domain and range, as well as possible gradients and so on. \n",
    "\n",
    "To get a better grasp of the extend of CUQIpy models, let us look at a few examples taken from the testproblem library."
   ]
  },
  {
   "attachments": {},
   "cell_type": "markdown",
   "metadata": {},
   "source": [
    "A CUQIpy test problem contains all components specifying an inverse problem, including example data. Most test problems can be configured in different ways. A simple way to work with test problems is to return the main components, namely the forward model, the data and dictionary with problem information. \n",
    "\n",
    "## 1.1 Deconvolution in 1D\n",
    "\n",
    "For example, we can set up a [1D Deconvolution test problem](https://cuqi-dtu.github.io/CUQIpy/api/_autosummary/cuqi.testproblem/cuqi.testproblem.Deconvolution1D.html) and return the main components by:"
   ]
  },
  {
   "cell_type": "code",
   "execution_count": null,
   "metadata": {},
   "outputs": [],
   "source": [
    "model1, data1, probInfo1 = cuqi.testproblem.Deconvolution1D(dim=64, phantom=\"sinc\").get_components()"
   ]
  },
  {
   "attachments": {},
   "cell_type": "markdown",
   "metadata": {},
   "source": [
    "Here we define the testproblem with mostly default settings, except for the dimension and phantom type (exact solution).\n",
    "\n",
    "Calling print around the model gives us some of the most important information about the model:"
   ]
  },
  {
   "cell_type": "code",
   "execution_count": null,
   "metadata": {},
   "outputs": [],
   "source": [
    "print(model1)"
   ]
  },
  {
   "attachments": {},
   "cell_type": "markdown",
   "metadata": {},
   "source": [
    "In this case, we see that we are working with a LinearModel (linear in the operator sense), which makes sense for the deconvolution problem. We also see that the domain and range are both parametrized as Continous1D with 64 parameters. Finally, we see that the forward parameter is called 'x'.\n",
    "\n",
    "The problem info typically contains both the exact synthetic signal `exactSolution` from which the data was produced and the exact simulated data `exactData`:"
   ]
  },
  {
   "cell_type": "code",
   "execution_count": null,
   "metadata": {},
   "outputs": [],
   "source": [
    "probInfo1"
   ]
  },
  {
   "attachments": {},
   "cell_type": "markdown",
   "metadata": {},
   "source": [
    "The true signal (before blurring) looks like this:"
   ]
  },
  {
   "cell_type": "code",
   "execution_count": null,
   "metadata": {},
   "outputs": [],
   "source": [
    "probInfo1.exactSolution.plot()\n",
    "plt.title(\"Exact Solution\");"
   ]
  },
  {
   "attachments": {},
   "cell_type": "markdown",
   "metadata": {},
   "source": [
    "We can plot and compare the clean and noisy data:"
   ]
  },
  {
   "cell_type": "code",
   "execution_count": null,
   "metadata": {},
   "outputs": [],
   "source": [
    "data1.plot(label='Noisy data')\n",
    "probInfo1.exactData.plot(label='Exact data')\n",
    "plt.legend()"
   ]
  },
  {
   "attachments": {},
   "cell_type": "markdown",
   "metadata": {},
   "source": [
    "and easily take a look also at their difference:"
   ]
  },
  {
   "cell_type": "code",
   "execution_count": null,
   "metadata": {},
   "outputs": [],
   "source": [
    "(data1-probInfo1.exactData).plot()\n",
    "plt.title(\"Noise realization\");"
   ]
  },
  {
   "attachments": {},
   "cell_type": "markdown",
   "metadata": {},
   "source": [
    "## 1.2 Deconvolution2D: Inverse problem of two-dimensional image deblurring"
   ]
  },
  {
   "attachments": {},
   "cell_type": "markdown",
   "metadata": {},
   "source": [
    "CUQIpy offers a [2D image deblurring test problem](https://cuqi-dtu.github.io/CUQIpy/api/_autosummary/cuqi.testproblem/cuqi.testproblem.Deconvolution2D.html) as well, which can be set up in the same way as the 1D problem (now with all default settings):"
   ]
  },
  {
   "cell_type": "code",
   "execution_count": null,
   "metadata": {},
   "outputs": [],
   "source": [
    "model2, data2, probInfo2 = cuqi.testproblem.Deconvolution2D().get_components()"
   ]
  },
  {
   "attachments": {},
   "cell_type": "markdown",
   "metadata": {},
   "source": [
    "If we take a look at the model, we see it is a linear model, now with `Image2D` geometries instead of `Continuous1D` as before - the size corresponds to image of size 128x128 = 16384 pixels:"
   ]
  },
  {
   "cell_type": "code",
   "execution_count": null,
   "metadata": {},
   "outputs": [],
   "source": [
    "model2"
   ]
  },
  {
   "attachments": {},
   "cell_type": "markdown",
   "metadata": {},
   "source": [
    "The exact solution is available and `plot` method displays as an image due to the `Image2D` geometry:"
   ]
  },
  {
   "cell_type": "code",
   "execution_count": null,
   "metadata": {},
   "outputs": [],
   "source": [
    "probInfo2.exactSolution.plot()\n",
    "plt.title(\"Exact Solution (sharp image)\");"
   ]
  },
  {
   "attachments": {},
   "cell_type": "markdown",
   "metadata": {},
   "source": [
    "Similarly the blurred and noisy data, the clean data and their difference (i.e. the added noise) can be displayed as images:"
   ]
  },
  {
   "cell_type": "code",
   "execution_count": null,
   "metadata": {},
   "outputs": [],
   "source": [
    "data2.plot()\n",
    "plt.title(\"Data (noisy blurred image)\");"
   ]
  },
  {
   "cell_type": "code",
   "execution_count": null,
   "metadata": {},
   "outputs": [],
   "source": [
    "probInfo2.exactData.plot()\n",
    "plt.title(\"Exact data (blurred image)\");"
   ]
  },
  {
   "cell_type": "code",
   "execution_count": null,
   "metadata": {},
   "outputs": [],
   "source": [
    "(data2 - probInfo2.exactData).plot()\n",
    "plt.title(\"Noise realization\");"
   ]
  },
  {
   "attachments": {},
   "cell_type": "markdown",
   "metadata": {},
   "source": [
    "## 1.3 Heat1D: A model for a PDE-based inverse problem"
   ]
  },
  {
   "attachments": {},
   "cell_type": "markdown",
   "metadata": {},
   "source": [
    "A completely different test problem is [The 1D heat test problem](https://cuqi-dtu.github.io/CUQIpy/api/_autosummary/cuqi.testproblem/cuqi.testproblem.Heat1D.html), which is described by a partial differential equation (PDE), namely the heat equation. The forward model of `Heat1D` maps an initial temperature distribution on an interval to the temperature distribution after a specified amount of time has passed, by solving the 1D heat equation. For more details, see [Notebook 5](Exercise05_PDE.ipynb). \n",
    "\n",
    "Here, we simply set up the test problem in the same way as before:"
   ]
  },
  {
   "cell_type": "code",
   "execution_count": null,
   "metadata": {},
   "outputs": [],
   "source": [
    "modelH, dataH, probInfoH = cuqi.testproblem.Heat1D().get_components()"
   ]
  },
  {
   "attachments": {},
   "cell_type": "markdown",
   "metadata": {},
   "source": [
    "We start by plotting the exact solution, i.e., the true initial temperature distribution over the interval:"
   ]
  },
  {
   "cell_type": "code",
   "execution_count": null,
   "metadata": {},
   "outputs": [],
   "source": [
    "probInfoH.exactSolution.plot()\n",
    "plt.title(\"Exact Solution (temperature)\");"
   ]
  },
  {
   "attachments": {},
   "cell_type": "markdown",
   "metadata": {},
   "source": [
    "The data is the noisy observations of the temperature distribution after some time has passed (notice the difference in y-axis values). We plot the data and the exact data as well as their difference:"
   ]
  },
  {
   "cell_type": "code",
   "execution_count": null,
   "metadata": {},
   "outputs": [],
   "source": [
    "dataH.plot(label=\"Data (final noisy temperature)\")\n",
    "probInfoH.exactData.plot(label=\"Exact data (final temperature)\")\n",
    "plt.legend()"
   ]
  },
  {
   "cell_type": "code",
   "execution_count": null,
   "metadata": {},
   "outputs": [],
   "source": [
    "(dataH - probInfoH.exactData).plot()\n",
    "plt.title(\"Noise realization\");"
   ]
  },
  {
   "attachments": {},
   "cell_type": "markdown",
   "metadata": {},
   "source": [
    "We can take a closer look at the model:"
   ]
  },
  {
   "cell_type": "code",
   "execution_count": null,
   "metadata": {
    "tags": []
   },
   "outputs": [],
   "source": [
    "print(modelH)"
   ]
  },
  {
   "attachments": {},
   "cell_type": "markdown",
   "metadata": {},
   "source": [
    "Here the domain and range are parametrized as Continuous1D with 128 parameters, and the model is now noted as PDEModel and a new field for a PDE is listed."
   ]
  },
  {
   "attachments": {},
   "cell_type": "markdown",
   "metadata": {},
   "source": [
    "A PDEModel in CUQIpy is a model where in each forward computation a PDE is 1) assembled, 2) solved and 3) observed. The specifics would depend on the underlying PDE. With that in mind, let us have a look at the underlying PDE for this PDEModel."
   ]
  },
  {
   "cell_type": "code",
   "execution_count": null,
   "metadata": {},
   "outputs": [],
   "source": [
    "modelH.pde"
   ]
  },
  {
   "attachments": {},
   "cell_type": "markdown",
   "metadata": {},
   "source": [
    "Here we see that the underlying PDE is a time-dependent linear PDE which makes sense for the 1D heat testproblem. We could keep exploring PDEModels, but we leave that to Notebook 5.\n",
    "\n",
    "For now, the main message is that the CUQIpy model provides an abstract representation of a forward model of many and different inverse problems, and that CUQIpy offers a collection of test problems containing forward models, data and exact solutions that can be used for demonstration and benchmarking."
   ]
  },
  {
   "attachments": {},
   "cell_type": "markdown",
   "metadata": {},
   "source": [
    "# 2 Basic usage of models <a class=\"anchor\" id=\"models\"></a>\n",
    "In this section we demonstrate common operations with CUQIpy models. Let us focus on the `LinearModel` representing the convolution operation from the deconvolution test problem.\n",
    "\n",
    "To simplify notation, let us define this model simply as $\\mathbf{A}$ (but remember this is a CUQIpy model, not a matrix) and let us define the exact solution as $\\mathbf{x}_\\mathrm{exact}$."
   ]
  },
  {
   "cell_type": "code",
   "execution_count": null,
   "metadata": {},
   "outputs": [],
   "source": [
    "A,_,probInfo = cuqi.testproblem.Deconvolution1D(dim=64, phantom=\"sinc\").get_components()\n",
    "x_exact = probInfo.exactSolution"
   ]
  },
  {
   "attachments": {},
   "cell_type": "markdown",
   "metadata": {},
   "source": [
    "One of the most basic usages of a CUQIpy model is to evaluate the forward map. This is simply done by calling the `.forward` method, or in the case of a `LinearModel` the short-hand \"@\" (matrix multiply in Python) can also be used."
   ]
  },
  {
   "cell_type": "code",
   "execution_count": null,
   "metadata": {},
   "outputs": [],
   "source": [
    "y_exact  = A.forward(x_exact) # Explicitly call the forward method\n",
    "y_exact  = A@x_exact          # Can also use short-hand for matrix multiply (gives the same result)"
   ]
  },
  {
   "attachments": {},
   "cell_type": "markdown",
   "metadata": {},
   "source": [
    "Linear model also supports basic operations such as evaluating the adjoint, which can also be done using the numpy-like syntax \".T\" for transpose. For example here we apply the adjoint operator of `A` to `y_exact`."
   ]
  },
  {
   "cell_type": "code",
   "execution_count": null,
   "metadata": {},
   "outputs": [],
   "source": [
    "z = A.adjoint(y_exact) # Explicitly call the adjoint method\n",
    "z = A.T@y_exact        # Can also use short-hand for matrix transpose (gives the same result)"
   ]
  },
  {
   "attachments": {},
   "cell_type": "markdown",
   "metadata": {},
   "source": [
    "All CUQIpy models also contain information about the parametrization of domain and range in the `domain_geometry` and `range_geometry` attributes.\n",
    "\n",
    "For example, let us take a look at the range geometry of `A`:"
   ]
  },
  {
   "cell_type": "code",
   "execution_count": null,
   "metadata": {},
   "outputs": [],
   "source": [
    "A.range_geometry"
   ]
  },
  {
   "attachments": {},
   "cell_type": "markdown",
   "metadata": {},
   "source": [
    "When computing the forward operation, `A` passes its range geometry to the output. We can validate this by inspecting `y_exact` from earlier."
   ]
  },
  {
   "cell_type": "code",
   "execution_count": null,
   "metadata": {},
   "outputs": [],
   "source": [
    "y_exact.geometry"
   ]
  },
  {
   "attachments": {},
   "cell_type": "markdown",
   "metadata": {},
   "source": [
    "This allows plotting in the correct geometry immediately after forward computation"
   ]
  },
  {
   "cell_type": "code",
   "execution_count": null,
   "metadata": {},
   "outputs": [],
   "source": [
    "y_exact.plot();"
   ]
  },
  {
   "attachments": {},
   "cell_type": "markdown",
   "metadata": {},
   "source": [
    "It can be useful to change to domain or range geometries of a model, for example to work with different parametrizations or simply for visualization purposes.\n",
    "\n",
    "Here we change the range geometry of the model to [Discrete](https://cuqi-dtu.github.io/CUQIpy/api/_autosummary/cuqi.geometry/cuqi.geometry.Discrete.html) and see this reflected in the plotting of the computed output:"
   ]
  },
  {
   "cell_type": "code",
   "execution_count": null,
   "metadata": {},
   "outputs": [],
   "source": [
    "A.range_geometry = cuqi.geometry.Discrete(A.range_dim)\n",
    "A.forward(x_exact).plot()"
   ]
  },
  {
   "attachments": {},
   "cell_type": "markdown",
   "metadata": {},
   "source": [
    "Note that since we are only interested in generating a plot here, we do not need to store a new variable for `y_exact`, but rather just immediately call the `plot` method in the same line."
   ]
  },
  {
   "attachments": {},
   "cell_type": "markdown",
   "metadata": {},
   "source": [
    "Here we also used `A.range_dim` to get not the range geometry but the dimension of it. Similarly, we can ask for the dimension of the domain geometry:"
   ]
  },
  {
   "cell_type": "code",
   "execution_count": null,
   "metadata": {},
   "outputs": [],
   "source": [
    "A.domain_dim"
   ]
  },
  {
   "attachments": {},
   "cell_type": "markdown",
   "metadata": {},
   "source": [
    "Some `LinearModel` objects simply contain a matrix representing the linear mapping; while others use a matrix-free approach. In both cases, one can extract the matrix of the linear model by (this will raise an error if the model is too large):"
   ]
  },
  {
   "cell_type": "code",
   "execution_count": null,
   "metadata": {},
   "outputs": [],
   "source": [
    "A.get_matrix()"
   ]
  },
  {
   "attachments": {},
   "cell_type": "markdown",
   "metadata": {},
   "source": [
    "Finally, models can also be applied to [Samples objects](https://cuqi-dtu.github.io/CUQIpy/api/_autosummary/cuqi.samples/cuqi.samples.Samples.html#cuqi.samples.Samples), for example to evaluate the forward on all samples. This can be used for forward UQ as shown in Section 5 of this notebook.\n",
    "\n",
    "Given a distribution and some samples generated from it:"
   ]
  },
  {
   "cell_type": "code",
   "execution_count": null,
   "metadata": {},
   "outputs": [],
   "source": [
    "x = cuqi.distribution.Gaussian(np.zeros(A.domain_dim), cov=1)"
   ]
  },
  {
   "cell_type": "code",
   "execution_count": null,
   "metadata": {},
   "outputs": [],
   "source": [
    "xs = x.sample(1000)\n",
    "print(type(xs))\n",
    "xs.shape"
   ]
  },
  {
   "attachments": {},
   "cell_type": "markdown",
   "metadata": {},
   "source": [
    "i.e. 1000 samples each of size 64 matching the domain of `A`. We can apply `A` directly to the Samples object:"
   ]
  },
  {
   "cell_type": "code",
   "execution_count": null,
   "metadata": {},
   "outputs": [],
   "source": [
    "ys = A@xs"
   ]
  },
  {
   "attachments": {},
   "cell_type": "markdown",
   "metadata": {},
   "source": [
    "We plot a couple of selected samples from x:"
   ]
  },
  {
   "cell_type": "code",
   "execution_count": null,
   "metadata": {},
   "outputs": [],
   "source": [
    "xs.plot([100,200,300])\n",
    "plt.title(\"Samples from x\");"
   ]
  },
  {
   "attachments": {},
   "cell_type": "markdown",
   "metadata": {},
   "source": [
    "and plot the same samples from y:"
   ]
  },
  {
   "cell_type": "code",
   "execution_count": null,
   "metadata": {},
   "outputs": [],
   "source": [
    "ys.plot([100,200,300])\n",
    "plt.title(\"Samples from y\");"
   ]
  },
  {
   "attachments": {},
   "cell_type": "markdown",
   "metadata": {},
   "source": [
    "where we note the computed samples ys = A(xs) have the Discrete geometry as `A` is now equipped with."
   ]
  },
  {
   "attachments": {},
   "cell_type": "markdown",
   "metadata": {},
   "source": [
    "#### ★ Try yourself (optional):  \n",
    "Try modifying the range geometry of `A` to a `Continuous2D` and plotting the resulting samples `ys = A(xs)`. \n",
    "\n",
    "**Hint:** Continuous2D can created with a tuple of integers defining the size of each dimension, e.g. to define a 8 by 8 geometry `cuqi.geometry.Continuous2D((8,8))`"
   ]
  },
  {
   "cell_type": "code",
   "execution_count": null,
   "metadata": {},
   "outputs": [],
   "source": [
    "# This is where you type the code:\n",
    "\n"
   ]
  },
  {
   "attachments": {},
   "cell_type": "markdown",
   "metadata": {},
   "source": [
    "# 3. Generating synthetic data <a class=\"anchor\" id=\"data\"></a>\n",
    "\n",
    "One of the main tasks when working on numerical experiments for inverse problems is to generate synthetic data (potentially many realizations) to test and validate against. \n",
    "\n",
    "In this section, we demonstrate one way this can be achieved by defining the *data distribution*.\n",
    "\n",
    "Let us return to the forward model from the deconvolution testproblem from earlier, and assume that the measurement data is affected by additive i.i.d. Gaussian noise with standard deviation $0.05$. This leads to the Bayesian model for the inverse problem\n",
    "\n",
    "$$\\mathbf{y} = \\mathbf{A}\\mathbf{x}+\\mathbf{e},$$\n",
    "\n",
    "where $\\mathbf{y}$, $\\mathbf{x}$ and $\\mathbf{e}$ are random variables and where the goal now is to generate examples of observed data assuming $\\mathbf{e}\\sim \\mathcal{N}(\\mathbf{0},0.05^2\\mathbf{I})$ and given some exact solution vector $\\mathbf{x}_\\mathrm{exact}$.\n",
    "\n",
    "**Note** *Generating noisy data in the above example with additive Gaussian noise is rather straightforward. However, the focus here is to provide a common framework for a much larger variety of models and noise types - exemplified by the Gaussian case.*"
   ]
  },
  {
   "attachments": {},
   "cell_type": "markdown",
   "metadata": {},
   "source": [
    "## 3.1 Data distribution\n",
    "First, note that since $\\mathbf{e}$ is the only random contribution to $\\mathbf{y}$ when $\\mathbf{x}$ is fixed we can directly see that \n",
    "\n",
    "$$\\mathbf{y} \\mid \\mathbf{x} \\sim \\mathcal{N}(\\mathbf{A}\\mathbf{x}, 0.05^2 \\mathbf{I}).$$\n",
    "\n",
    "We call the distribution $p(\\mathbf{y} \\mid \\mathbf{x})$ associated with $\\mathbf{y} \\mid \\mathbf{x}$ a *data distribution*. \n",
    "To generate synthetic data from $\\mathbf{x}_\\mathrm{exact}$, we are thus interested in sampling from\n",
    "$p(\\mathbf{y} \\mid \\mathbf{x}=\\mathbf{x}_\\mathrm{exact})$.\n",
    "\n",
    "Let us use the phantom from probInfo and extract the model again from the testproblem (just in case some changes were made above)"
   ]
  },
  {
   "cell_type": "code",
   "execution_count": null,
   "metadata": {},
   "outputs": [],
   "source": [
    "n = 64\n",
    "A, _, probInfo = cuqi.testproblem.Deconvolution1D(dim=n, phantom=\"sinc\").get_components()\n",
    "x_exact = probInfo.exactSolution"
   ]
  },
  {
   "attachments": {},
   "cell_type": "markdown",
   "metadata": {},
   "source": [
    "The data distribution is conditioned on $\\mathbf{x}$ and so we need to represent a conditional distribution in CUQIpy. \n",
    "\n",
    "Luckily, when $\\mathbf{A}$ is represented by a CUQIpy model this is easy as we simply provide the model in place of $\\mathbf{A}\\mathbf{x}$ as follows."
   ]
  },
  {
   "cell_type": "code",
   "execution_count": null,
   "metadata": {},
   "outputs": [],
   "source": [
    "y = cuqi.distribution.Gaussian(mean=A, cov=0.05**2)"
   ]
  },
  {
   "attachments": {},
   "cell_type": "markdown",
   "metadata": {},
   "source": [
    "Recall from earlier that the model `A` had its forward parameter given by 'x':"
   ]
  },
  {
   "cell_type": "code",
   "execution_count": null,
   "metadata": {},
   "outputs": [],
   "source": [
    "print(A)"
   ]
  },
  {
   "attachments": {},
   "cell_type": "markdown",
   "metadata": {},
   "source": [
    "If we now inspect `y`, we see that it has become a conditional distribution, conditioned on that same 'x' parameter."
   ]
  },
  {
   "cell_type": "code",
   "execution_count": null,
   "metadata": {},
   "outputs": [],
   "source": [
    "print(y)"
   ]
  },
  {
   "attachments": {},
   "cell_type": "markdown",
   "metadata": {},
   "source": [
    "Note that the mean of the Gaussian is really `A*x`, but since `x` is the forward parameter of `A`, this is implied. \n",
    "\n",
    "When working multiple distributions, one can be more explicit about the parameter to the forward model by explicitly `evaluating` the forward model with the desired distribution as input. In this way the forward parameter can also be changed from e.g. the default `x` to `u`:"
   ]
  },
  {
   "cell_type": "code",
   "execution_count": null,
   "metadata": {},
   "outputs": [],
   "source": [
    "u = cuqi.distribution.Gaussian(np.zeros(n), cov=1)"
   ]
  },
  {
   "attachments": {},
   "cell_type": "markdown",
   "metadata": {},
   "source": [
    "and using `u` we can now specify the mean `Au`:"
   ]
  },
  {
   "cell_type": "code",
   "execution_count": null,
   "metadata": {},
   "outputs": [],
   "source": [
    "yu = cuqi.distribution.Gaussian(mean=A@u, cov=0.05**2)\n",
    "yu"
   ]
  },
  {
   "attachments": {},
   "cell_type": "markdown",
   "metadata": {},
   "source": [
    "and we see that `u` is now the conditioning variable instead of `x`."
   ]
  },
  {
   "attachments": {},
   "cell_type": "markdown",
   "metadata": {},
   "source": [
    "## 3.2 Sampling a data distribtuion\n",
    "\n",
    "Evaluating a conditional distribution in CUQIpy is done by use of the \"call\" method on Python. That is, for a data distribution we would write `y(x=x_exact)` or simply `y(x_exact)`.\n",
    "\n",
    "Evaluating the conditional distribution creates a new distribution, where the conditioning variable is fixed. That is, one can think of the expression `y(x=x_exact)` as defining $p(\\mathbf{y} \\mid \\mathbf{x}=\\mathbf{x}_\\mathrm{exact})$. \n",
    "\n",
    "Hence to simulate some noisy data, we just provide the conditioning variable `x_exact` to the data distribution and then sample."
   ]
  },
  {
   "cell_type": "code",
   "execution_count": null,
   "metadata": {},
   "outputs": [],
   "source": [
    "y_obs = y(x=x_exact).sample()\n",
    "y_obs.plot();\n",
    "plt.title(\"Generated synthetic data\");"
   ]
  },
  {
   "attachments": {},
   "cell_type": "markdown",
   "metadata": {},
   "source": [
    "#### Try yourself (optional):  \n",
    "The above example may seem like a rather extensive way to generate noisy data when the noise is additive Gaussian (and it is for this simple case!).\n",
    "\n",
    "Using the CUQIpy framework, try simulating data from the case where the data distribution follows a [Laplace distribution](https://cuqi-dtu.github.io/CUQIpy/api/_autosummary/cuqi.distribution/cuqi.distribution.Laplace.html#cuqi.distribution.Laplace) with location $\\mathbf{A}\\mathbf{x}$ and precision $5$."
   ]
  },
  {
   "cell_type": "code",
   "execution_count": null,
   "metadata": {},
   "outputs": [],
   "source": [
    "# This is where you type the code:\n",
    "\n",
    "\n"
   ]
  },
  {
   "attachments": {},
   "cell_type": "markdown",
   "metadata": {},
   "source": [
    "## 4. Creating custom forward models <a class=\"anchor\" id=\"custom\"></a>"
   ]
  },
  {
   "attachments": {
    "73e14688-21d1-4885-955d-bcccd6263dd2.png": {
     "image/png": "[encoded data removed]"
    }
   },
   "cell_type": "markdown",
   "metadata": {},
   "source": [
    "## 4.1 Defining model from a matrix\n",
    "\n",
    "Defining a CUQIpy model from a matrix is easy. Suppose we have the matrix representing the forward operator of the following simple linear inverse problem, which is akin to a sudoko puzzle representing simple Computed Tomography.\n",
    "\n",
    "Consider a 2x2 square with unknown pixel values, to be determined from the row and column sums:\n",
    "\n",
    "![image.png](attachment:73e14688-21d1-4885-955d-bcccd6263dd2.png)"
   ]
  },
  {
   "cell_type": "code",
   "execution_count": null,
   "metadata": {},
   "outputs": [],
   "source": [
    "#Create a numpy matrix to act like a forward model (this matrix can be replaced to represent other problems)\n",
    "mat = np.array([\n",
    "    [1,0,1,0],\n",
    "    [0,1,0,1],\n",
    "    [1,1,0,0],\n",
    "    [0,0,1,1]\n",
    "])"
   ]
  },
  {
   "attachments": {},
   "cell_type": "markdown",
   "metadata": {},
   "source": [
    "To create a CUQIpy model represented by this matrix, all we have to do is pass it to the `LinearModel` class from the `model` module in CUQIpy as follows."
   ]
  },
  {
   "cell_type": "code",
   "execution_count": null,
   "metadata": {},
   "outputs": [],
   "source": [
    "model_mat = cuqi.model.LinearModel(mat)\n",
    "print(model_mat)"
   ]
  },
  {
   "attachments": {},
   "cell_type": "markdown",
   "metadata": {},
   "source": [
    "Here the range and domain geometry is inferred from the matrix. If we want to, we can pass in more explicit information about the range and domain geometries. Here we choose to represent the domain geometry of the four pixel values as a [Image2D](https://cuqi-dtu.github.io/CUQIpy/api/_autosummary/cuqi.geometry/cuqi.geometry.Image2D.html) geometry:"
   ]
  },
  {
   "cell_type": "code",
   "execution_count": null,
   "metadata": {},
   "outputs": [],
   "source": [
    "geom1 = cuqi.geometry.Image2D((2,2), order=\"F\", visual_only=True)\n",
    "geom1"
   ]
  },
  {
   "attachments": {},
   "cell_type": "markdown",
   "metadata": {},
   "source": [
    "To match the picture above, we select the column-major order by defining `order=\"F\"` (F comes from Fortran for historical reasons).\n",
    "\n",
    "By default `Image2D` converts the input to an image before being evaluated by the model. In our case the matrix expects a vector, so we do not want this default behavior and thus set `visual_only=True` to not convert the vector to an image before model evaluation."
   ]
  },
  {
   "attachments": {},
   "cell_type": "markdown",
   "metadata": {},
   "source": [
    "We can create an example 2x2 solution as a CUQIarray equipped with the geometry:"
   ]
  },
  {
   "cell_type": "code",
   "execution_count": null,
   "metadata": {},
   "outputs": [],
   "source": [
    "im1 = cuqi.array.CUQIarray([7,5,3,1], geometry=geom1)\n",
    "im1"
   ]
  },
  {
   "attachments": {},
   "cell_type": "markdown",
   "metadata": {},
   "source": [
    "which will allow us to display it nicely, even through it is a stored as a vector:"
   ]
  },
  {
   "cell_type": "code",
   "execution_count": null,
   "metadata": {},
   "outputs": [],
   "source": [
    "im1.plot()\n",
    "plt.colorbar()"
   ]
  },
  {
   "attachments": {},
   "cell_type": "markdown",
   "metadata": {},
   "source": [
    "The row and column sum data we can - for the purpose of the example - let be of the type Discrete (labelled) geometry:"
   ]
  },
  {
   "cell_type": "code",
   "execution_count": null,
   "metadata": {},
   "outputs": [],
   "source": [
    "geom2 = cuqi.geometry.Discrete(['row1','row2','col1','col2'])"
   ]
  },
  {
   "attachments": {},
   "cell_type": "markdown",
   "metadata": {},
   "source": [
    "We set up and display the observed data from the figure above:"
   ]
  },
  {
   "cell_type": "code",
   "execution_count": null,
   "metadata": {},
   "outputs": [],
   "source": [
    "data = cuqi.array.CUQIarray([3,7,4,6], geometry=geom2)\n",
    "data"
   ]
  },
  {
   "cell_type": "code",
   "execution_count": null,
   "metadata": {},
   "outputs": [],
   "source": [
    "data.plot()"
   ]
  },
  {
   "attachments": {},
   "cell_type": "markdown",
   "metadata": {},
   "source": [
    "We can equip our model with the geometries for its domain and range"
   ]
  },
  {
   "cell_type": "code",
   "execution_count": null,
   "metadata": {},
   "outputs": [],
   "source": [
    "model_mat.domain_geometry = geom1\n",
    "model_mat.range_geometry = geom2\n",
    "model_mat"
   ]
  },
  {
   "attachments": {},
   "cell_type": "markdown",
   "metadata": {},
   "source": [
    "which will allow to apply the forward to an image as if it were a matrix:"
   ]
  },
  {
   "cell_type": "code",
   "execution_count": null,
   "metadata": {},
   "outputs": [],
   "source": [
    "data1 = model_mat@im1\n",
    "data1"
   ]
  },
  {
   "attachments": {},
   "cell_type": "markdown",
   "metadata": {},
   "source": [
    "Note the resulting `data1` automatically has the desired geometry."
   ]
  },
  {
   "attachments": {},
   "cell_type": "markdown",
   "metadata": {},
   "source": [
    "We can compare the data computed from `im1` against the observed data:"
   ]
  },
  {
   "cell_type": "code",
   "execution_count": null,
   "metadata": {},
   "outputs": [],
   "source": [
    "data1.plot()\n",
    "data.plot(marker=\"v\")\n",
    "plt.legend([\"Observed data\", \"Data from im1\"])"
   ]
  },
  {
   "attachments": {},
   "cell_type": "markdown",
   "metadata": {},
   "source": [
    "We can also apply the adjoint using matrix transpose notation:"
   ]
  },
  {
   "cell_type": "code",
   "execution_count": null,
   "metadata": {},
   "outputs": [],
   "source": [
    "adjoint_data = model_mat.T@data1\n",
    "adjoint_data"
   ]
  },
  {
   "attachments": {},
   "cell_type": "markdown",
   "metadata": {},
   "source": [
    "and we can visualize the adjoint data (which should be in the domain geometry of A)"
   ]
  },
  {
   "cell_type": "code",
   "execution_count": null,
   "metadata": {},
   "outputs": [],
   "source": [
    "adjoint_data.plot()"
   ]
  },
  {
   "attachments": {},
   "cell_type": "markdown",
   "metadata": {},
   "source": [
    "### Optional exercise: \n",
    "- Try our different values for the four elements of `im1` to find a set that produces the observed data.\n",
    "- Note there is more than one solution. Can you describe all the solutions?"
   ]
  },
  {
   "attachments": {},
   "cell_type": "markdown",
   "metadata": {},
   "source": [
    "## 4.2 Defining model from a function\n",
    "We can also define CUQIpy models from functions. In this case, we must at the minimum provide the dimensions of the range and domain, for example"
   ]
  },
  {
   "cell_type": "code",
   "execution_count": null,
   "metadata": {},
   "outputs": [],
   "source": [
    "#This can be any function representing the forward computation. Here just a random function with 3 inputs and 2 outputs\n",
    "def my_func(x):\n",
    "    return np.array([x[0]**2+x[1], x[1]+x[2]])"
   ]
  },
  {
   "attachments": {},
   "cell_type": "markdown",
   "metadata": {},
   "source": [
    "We could provide any geometry of size 2 for the range and size 3 for the domain - here we use the short-hand integer notation to specify uninformative default geometries that only represent the dimension:"
   ]
  },
  {
   "cell_type": "code",
   "execution_count": null,
   "metadata": {},
   "outputs": [],
   "source": [
    "model_func = cuqi.model.Model(my_func, range_geometry=2, domain_geometry=3)\n",
    "print(model_func)"
   ]
  },
  {
   "attachments": {},
   "cell_type": "markdown",
   "metadata": {},
   "source": [
    "Models will work both on simple `numpy` arrays and CUQIarrays. Numpy arrays will produces numpy array out:"
   ]
  },
  {
   "cell_type": "code",
   "execution_count": null,
   "metadata": {},
   "outputs": [],
   "source": [
    "in1 = np.array([3.0, 2.0, 1.0])\n",
    "out1 = model_func(in1)\n",
    "print(out1)\n",
    "type(out1)"
   ]
  },
  {
   "attachments": {},
   "cell_type": "markdown",
   "metadata": {},
   "source": [
    "Passing a CUQIarray in produces a CUQIarray out:"
   ]
  },
  {
   "cell_type": "code",
   "execution_count": null,
   "metadata": {},
   "outputs": [],
   "source": [
    "in2 = cuqi.array.CUQIarray(in1)\n",
    "in2"
   ]
  },
  {
   "cell_type": "code",
   "execution_count": null,
   "metadata": {},
   "outputs": [],
   "source": [
    "out2 = model_func(in2)\n",
    "out2"
   ]
  },
  {
   "attachments": {},
   "cell_type": "markdown",
   "metadata": {},
   "source": [
    "## 4.3 Linear model from functions\n",
    "\n",
    "If we have function for both the forward and adjoint, we can also specify a LinearModel from these functions. Here we illustrate by creating a forward and adjoint function from the matrix given earlier"
   ]
  },
  {
   "cell_type": "code",
   "execution_count": null,
   "metadata": {},
   "outputs": [],
   "source": [
    "def mat_forward(x):\n",
    "    return mat@x\n",
    "\n",
    "def mat_adjoint(y):\n",
    "    return mat.T@y"
   ]
  },
  {
   "attachments": {},
   "cell_type": "markdown",
   "metadata": {},
   "source": [
    "In this case, the range and domain dimensions (or geometry) cannot be inferred, so they also need to be defined"
   ]
  },
  {
   "cell_type": "code",
   "execution_count": null,
   "metadata": {},
   "outputs": [],
   "source": [
    "model_linear_func = cuqi.model.LinearModel(forward=mat_forward, adjoint=mat_adjoint, range_geometry=4, domain_geometry=4)\n",
    "print(model_linear_func)"
   ]
  },
  {
   "attachments": {},
   "cell_type": "markdown",
   "metadata": {},
   "source": [
    "The new linear model can then be applied to numpy arrays (or CUQIarrays if including geometries):"
   ]
  },
  {
   "cell_type": "code",
   "execution_count": null,
   "metadata": {},
   "outputs": [],
   "source": [
    "z1 = np.array([1., 2., 3., 4.])\n",
    "z2 = model_linear_func(z1)\n",
    "z2"
   ]
  },
  {
   "attachments": {},
   "cell_type": "markdown",
   "metadata": {},
   "source": [
    "and the adjoint function is also available:"
   ]
  },
  {
   "cell_type": "code",
   "execution_count": null,
   "metadata": {},
   "outputs": [],
   "source": [
    "model_linear_func.T(z2)"
   ]
  },
  {
   "attachments": {},
   "cell_type": "markdown",
   "metadata": {},
   "source": [
    "# 5. ★ Forward UQ <a class=\"anchor\" id=\"forwardUQ\"></a>\n",
    "In some cases, it may be interesting to see the effect a chosen prior has on the data-side, a so-called forward UQ analysis. This can easily be achieved using CUQIpy models and distributions. \n",
    "\n",
    "For this case, let us assume we have the data created from $\\mathbf{x}_\\mathrm{exact}$ earlier, and we want to see if the prior encapsulates the measured data if we push it through forward model (ignoring noise in this case).\n",
    "\n",
    "To do this, we first define our prior and generate some samples from it"
   ]
  },
  {
   "cell_type": "code",
   "execution_count": null,
   "metadata": {},
   "outputs": [],
   "source": [
    "# Number of samples (try changing this)\n",
    "Ns = 200\n",
    "\n",
    "# Building blocks for defining Gaussian mean\n",
    "z = np.zeros(20); o = 0.5*np.ones(24) \n",
    "\n",
    "# Prior distribution\n",
    "x = cuqi.distribution.Gaussian(np.hstack((z,o,z)),0.5)\n",
    "\n",
    "# Sample prior\n",
    "xs = x.sample(Ns)"
   ]
  },
  {
   "attachments": {},
   "cell_type": "markdown",
   "metadata": {},
   "source": [
    "We then plot a credibility interval for the prior and compare with $\\mathbf{x}_\\mathrm{exact}$. "
   ]
  },
  {
   "cell_type": "code",
   "execution_count": null,
   "metadata": {},
   "outputs": [],
   "source": [
    "xs.plot_ci(95)\n",
    "x_exact.plot()\n",
    "plt.legend(['Credibility interval', 'Mean of prior','x_exact'])"
   ]
  },
  {
   "attachments": {},
   "cell_type": "markdown",
   "metadata": {},
   "source": [
    "To perform the forward UQ analysis and compare on the data-side, we essentially have to compute the forward for each sample.\n",
    "\n",
    "This would normally be done with for loop. However, because `xs` is a CUQIpy samples object and `A` is CUQIpy model, we can simply call the forward on the entire samples object (where once again the range geometry is passed from the model to the Samples on the data side)."
   ]
  },
  {
   "cell_type": "code",
   "execution_count": null,
   "metadata": {},
   "outputs": [],
   "source": [
    "ys = A.forward(xs) #Notation A@xs or even A(xs) would also have worked"
   ]
  },
  {
   "attachments": {},
   "cell_type": "markdown",
   "metadata": {},
   "source": [
    "We then compare the *push-forward* samples with the data generated earlier"
   ]
  },
  {
   "cell_type": "code",
   "execution_count": null,
   "metadata": {},
   "outputs": [],
   "source": [
    "ys.plot_ci(95)\n",
    "y_obs.plot()\n",
    "plt.legend(['Credibility interval', 'Mean of push-forward prior', 'Actual data'])"
   ]
  },
  {
   "attachments": {},
   "cell_type": "markdown",
   "metadata": {},
   "source": [
    "In this case the actual data is within the credibility interval of the push-forward prior, which is a good sign that the prior is a good representation of\n",
    "the exact solution.\n",
    "\n",
    "This kind of forward UQ analysis is the stepping stone to the more general prior-predictive analysis, which we leave for future tutorials."
   ]
  }
 ],
 "metadata": {
  "kernelspec": {
   "display_name": "Python 3.8.5 ('base')",
   "language": "python",
   "name": "python3"
  },
  "language_info": {
   "codemirror_mode": {
    "name": "ipython",
    "version": 3
   },
   "file_extension": ".py",
   "mimetype": "text/x-python",
   "name": "python",
   "nbconvert_exporter": "python",
   "pygments_lexer": "ipython3",
   "version": "3.11.5"
  },
  "vscode": {
   "interpreter": {
    "hash": "bdd0614febdc5d5cb7ca911d6da399e7bdecd3325d4f6cbaa40f1152134ae125"
   }
  }
 },
 "nbformat": 4,
 "nbformat_minor": 4
}
