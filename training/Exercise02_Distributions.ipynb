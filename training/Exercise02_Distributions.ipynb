{
 "cells": [
  {
   "cell_type": "markdown",
   "metadata": {},
   "source": [
    "# Exercise 02:  Introduction to distributions and basic sampling in CUQIpy\n",
    "\n",
    "This notebooks describes basic usage of distributions including visualizing their PDF/CDF and generating samples.  It also describes how distributions can be equipped with geometry to represent sampling in nontrivial spaces. Finally conditional distributions are demonstrated along with the creation of user-defined distributions.\n",
    "\n",
    "## Learning objectives of this notebook:\n",
    "- Set up random variables following uni- and multivariate distributions in CUQIpy.\n",
    "- Generate samples from distributions and use CUQIpy tools to inspect visually.\n",
    "- Explain the use of Geometry in distributions and samples.\n",
    "- ★ Set up conditional distributions in CUQIpy - simple and using lambda functions.\n",
    "- ★ Create a user-defined distribution from a logpdf function.\n",
    "\n",
    "## Table of contents: \n",
    "* [1. Normal distribution (univariate)](#Normal)\n",
    "* [2. Multivariate distributions](#Multivariate)\n",
    "* [3. Geometry in distribution and Samples](#Geometry)\n",
    "* [4. Conditional distributions ★](#Conditional)\n",
    "* [5. User-defined distributions ★](#Userdefined)\n",
    "\n",
    "## References\n",
    "[1] *Bardsley, Johnathan. 2018. Computational Uncertainty Quantification for Inverse Problems. SIAM, Society for Industrial and Applied Mathematics.*\n",
    "\n"
   ]
  },
  {
   "cell_type": "markdown",
   "metadata": {},
   "source": [
    "\n",
    "First we need to import any Python packages needed, here Numpy for array computations and matplotlib for plotting."
   ]
  },
  {
   "cell_type": "code",
   "execution_count": null,
   "metadata": {},
   "outputs": [],
   "source": [
    "import numpy as np\n",
    "import matplotlib.pyplot as plt"
   ]
  },
  {
   "cell_type": "markdown",
   "metadata": {},
   "source": [
    "We import CUQIpy. In the previous notebook we imported upfront the specific tools we needed, like `from cuqi.distribution import Gaussian` to get the Gaussian distribution from CUQIpy's distribution module. We now simply import the complete package and then specify the complete name such as `cuqi.distribution.Gaussian` when using it. Both approaches are fine, each with pros and cons."
   ]
  },
  {
   "cell_type": "code",
   "execution_count": null,
   "metadata": {},
   "outputs": [],
   "source": [
    "import sys\n",
    "sys.path.append(\"../../CUQIpy\")"
   ]
  },
  {
   "cell_type": "code",
   "execution_count": null,
   "metadata": {},
   "outputs": [],
   "source": [
    "import cuqi"
   ]
  },
  {
   "cell_type": "markdown",
   "metadata": {},
   "source": [
    "## 1. Normal distribution  (univariate)  <a class=\"anchor\" id=\"Normal\"></a> "
   ]
  },
  {
   "cell_type": "markdown",
   "metadata": {},
   "source": [
    "The first thing we can do is define a simple normal distribution of a single variable, e.g.,\n",
    "\n",
    "$$ X \\sim \\mathcal{N}(0,1^2) $$\n",
    "\n",
    "This is done using the following syntax:"
   ]
  },
  {
   "cell_type": "code",
   "execution_count": null,
   "metadata": {},
   "outputs": [],
   "source": [
    "X = cuqi.distribution.Normal(mean=0, std=1)"
   ]
  },
  {
   "cell_type": "markdown",
   "metadata": {},
   "source": [
    "More information on the distribution can be found in the CUQIpy documentation: https://cuqi-dtu.github.io/CUQIpy/api/index.html"
   ]
  },
  {
   "cell_type": "markdown",
   "metadata": {},
   "source": [
    "Once created, we can print the distribution object and its dimension:"
   ]
  },
  {
   "cell_type": "code",
   "execution_count": null,
   "metadata": {},
   "outputs": [],
   "source": [
    "print(X)\n",
    "print(X.dim)"
   ]
  },
  {
   "cell_type": "markdown",
   "metadata": {},
   "source": [
    "and query information such as its mean and standard deviation"
   ]
  },
  {
   "cell_type": "code",
   "execution_count": null,
   "metadata": {},
   "outputs": [],
   "source": [
    "print(X.mean)\n",
    "print(X.std)"
   ]
  },
  {
   "cell_type": "markdown",
   "metadata": {},
   "source": [
    "Distributions in CUQIpy have commonly used methods that one might expect like *pdf*, *logpdf*, *cdf*, etc. For example we can evaluate the cumulative distribution function (CDF) at 0, which should be 0.5, since the pdf is symmetric about 0:"
   ]
  },
  {
   "cell_type": "code",
   "execution_count": null,
   "metadata": {},
   "outputs": [],
   "source": [
    "X.cdf(0)"
   ]
  },
  {
   "cell_type": "markdown",
   "metadata": {},
   "source": [
    "We can evaluate and plot the CDF on an interval by evaluating the CDF on a grid:"
   ]
  },
  {
   "cell_type": "code",
   "execution_count": null,
   "metadata": {},
   "outputs": [],
   "source": [
    "grid = np.linspace(-10, 10, 1001)\n",
    "cdf_vals = np.zeros(grid.shape)\n",
    "for k in range(len(grid)):\n",
    "    cdf_vals[k] = X.cdf(grid[k])\n",
    "plt.plot(grid, cdf_vals)"
   ]
  },
  {
   "cell_type": "markdown",
   "metadata": {},
   "source": [
    "Alternative more compact form using python's list comprehension:"
   ]
  },
  {
   "cell_type": "code",
   "execution_count": null,
   "metadata": {},
   "outputs": [],
   "source": [
    "plt.plot(grid, [X.cdf(grid[k]) for k in range(len(grid))])"
   ]
  },
  {
   "cell_type": "markdown",
   "metadata": {},
   "source": [
    "CUQIpy distributions also have `sample` method which returns one or more samples from the distribution as a CUQIarray:"
   ]
  },
  {
   "cell_type": "code",
   "execution_count": null,
   "metadata": {},
   "outputs": [],
   "source": [
    "X.sample()"
   ]
  },
  {
   "cell_type": "markdown",
   "metadata": {},
   "source": [
    "By default a single sample is returned. More samples can easily be requested:"
   ]
  },
  {
   "cell_type": "code",
   "execution_count": null,
   "metadata": {},
   "outputs": [],
   "source": [
    "s = X.sample(10000)\n",
    "type(s)"
   ]
  },
  {
   "cell_type": "markdown",
   "metadata": {},
   "source": [
    "When more than one sample is generated, a CUQIpy `Samples` object is returned. This is essentially an array in which each column contains one sample, and further equipped with a number of methods for example for plotting."
   ]
  },
  {
   "cell_type": "markdown",
   "metadata": {},
   "source": [
    "For example one can make a \"chain plot\", i.e., the sampled values of selected parameter(s) of interest. Here we have a single parameter and with Python being zero-indexed we specify this parameter as follows:"
   ]
  },
  {
   "cell_type": "code",
   "execution_count": null,
   "metadata": {},
   "outputs": [],
   "source": [
    "s.plot_chain(0)"
   ]
  },
  {
   "cell_type": "markdown",
   "metadata": {},
   "source": [
    "Another possibility is a histogram of the parameter chain: (The keyword arguments are passed directly to the underlying matplotlib `hist` function for full control). Again, we specify 0 as the element to look at the chain for:"
   ]
  },
  {
   "cell_type": "code",
   "execution_count": null,
   "metadata": {},
   "outputs": [],
   "source": [
    "s.hist_chain(0, bins=100, density=True)"
   ]
  },
  {
   "cell_type": "markdown",
   "metadata": {},
   "source": [
    "CUQIpy has integrated support for common statistical plots with the [ArviZ library](https://arviz-devs.github.io/arviz/), for example a \"trace plot\" combines the previous two plots, where the histogram is replaced by a kernel density estimate (KDE)."
   ]
  },
  {
   "cell_type": "code",
   "execution_count": null,
   "metadata": {},
   "outputs": [],
   "source": [
    "s.plot_trace()"
   ]
  },
  {
   "cell_type": "markdown",
   "metadata": {},
   "source": [
    "and a \"violin plot\" displays the median as a white circle, the interquartile range, along with the density/histogram on either side:"
   ]
  },
  {
   "cell_type": "code",
   "execution_count": null,
   "metadata": {},
   "outputs": [],
   "source": [
    "s.plot_violin()"
   ]
  },
  {
   "cell_type": "markdown",
   "metadata": {},
   "source": [
    "#### Try yourself (optional):  \n",
    " - Create a new random variable `Y` following a normal distribution with mean 2 and standard deviation 3.\n",
    " - Generate 100 samples and display a histogram.\n",
    " - Compare with the theoretical distribution by plotting the probability density function of `Y` on top of the histogram.\n",
    " - Increase the number of samples and (hopefully) see the histogram approach the theoretical PDF."
   ]
  },
  {
   "cell_type": "code",
   "execution_count": null,
   "metadata": {},
   "outputs": [],
   "source": [
    "# Type code here:\n",
    "\n",
    "\n",
    "\n"
   ]
  },
  {
   "cell_type": "markdown",
   "metadata": {},
   "source": [
    "## 2. Multivariate distributions <a class=\"anchor\" id=\"Multivariate\"></a> "
   ]
  },
  {
   "cell_type": "markdown",
   "metadata": {},
   "source": [
    "CUQIpy currently implements a number multivariate distributions in the `cuqi.distribution` module:\n",
    "\n",
    "- Beta\n",
    "- Cauchy_diff\n",
    "- Gamma\n",
    "- Gaussian\n",
    "- GaussianCov\n",
    "- GaussianPrec\n",
    "- GaussianSqrtPrec\n",
    "- GMRF\n",
    "- InverseGamma\n",
    "- Laplace\n",
    "- Laplace_diff\n",
    "- LMRF\n",
    "- LogNormal\n",
    "- Uniform\n",
    "\n",
    "and more can easily be added when needed.\n"
   ]
  },
  {
   "cell_type": "markdown",
   "metadata": {},
   "source": [
    "To demonstrate, we specify here a 3-element random variable `Z` following a Gaussian distribution with independent elements:\n",
    "\n",
    "$$Z \\sim \\mathcal{N}(\\mu,\\mathrm{diag}(\\sigma^2)) \\quad \\text{for} \\quad \\mu = [5, 3, 1]^T \\quad \\text{and} \\quad \\sigma = [1,2,3]$$"
   ]
  },
  {
   "cell_type": "code",
   "execution_count": null,
   "metadata": {},
   "outputs": [],
   "source": [
    "true_mu = np.array([5, 3, 1])\n",
    "true_sigma = np.array([1, 2, 3])\n",
    "Z = cuqi.distribution.Gaussian(mean=true_mu, std=true_sigma)"
   ]
  },
  {
   "cell_type": "markdown",
   "metadata": {},
   "source": [
    "As before we can take a look at the distribution by printing it and its dimension:"
   ]
  },
  {
   "cell_type": "code",
   "execution_count": null,
   "metadata": {},
   "outputs": [],
   "source": [
    "print(Z)\n",
    "print(Z.dim)"
   ]
  },
  {
   "cell_type": "markdown",
   "metadata": {},
   "source": [
    "as well as its mean"
   ]
  },
  {
   "cell_type": "code",
   "execution_count": null,
   "metadata": {},
   "outputs": [],
   "source": [
    "print(Z.mean)"
   ]
  },
  {
   "cell_type": "markdown",
   "metadata": {},
   "source": [
    "and covariance matrix:"
   ]
  },
  {
   "cell_type": "code",
   "execution_count": null,
   "metadata": {},
   "outputs": [],
   "source": [
    "print(Z.cov)"
   ]
  },
  {
   "cell_type": "markdown",
   "metadata": {},
   "source": [
    "We generate a single sample which produces a 3-element CUQIarray:"
   ]
  },
  {
   "cell_type": "code",
   "execution_count": null,
   "metadata": {},
   "outputs": [],
   "source": [
    "Z.sample()"
   ]
  },
  {
   "cell_type": "markdown",
   "metadata": {},
   "source": [
    "If we ask for more than one sample, say 1000, we get a `Samples` object with 1000 columns each holding a 3-element sample:"
   ]
  },
  {
   "cell_type": "code",
   "execution_count": null,
   "metadata": {},
   "outputs": [],
   "source": [
    "sZ = Z.sample(1000)\n",
    "print(sZ)\n",
    "sZ.shape"
   ]
  },
  {
   "cell_type": "markdown",
   "metadata": {},
   "source": [
    "We can plot chains of a few of these variable samples, here we pick element 2 and 0:"
   ]
  },
  {
   "cell_type": "code",
   "execution_count": null,
   "metadata": {},
   "outputs": [],
   "source": [
    "sZ.plot_chain([2, 0])"
   ]
  },
  {
   "cell_type": "markdown",
   "metadata": {},
   "source": [
    "As well as plot a few individual 3-element samples:"
   ]
  },
  {
   "cell_type": "code",
   "execution_count": null,
   "metadata": {
    "scrolled": true
   },
   "outputs": [],
   "source": [
    "sZ.plot();"
   ]
  },
  {
   "cell_type": "code",
   "execution_count": null,
   "metadata": {},
   "outputs": [],
   "source": [
    "sZ.plot(plot_par=True)"
   ]
  },
  {
   "cell_type": "markdown",
   "metadata": {},
   "source": [
    "By default 5 random samples are plotted, but we can also specify indices of specific samples we wish to plot, like every 100th sample:"
   ]
  },
  {
   "cell_type": "code",
   "execution_count": null,
   "metadata": {},
   "outputs": [],
   "source": [
    "sZ.plot([0, 100, 200, 300, 400, 500, 600, 700, 800, 900]);"
   ]
  },
  {
   "cell_type": "markdown",
   "metadata": {},
   "source": [
    "We can also plot the sample mean and compare with the true mean of the distribution:"
   ]
  },
  {
   "cell_type": "code",
   "execution_count": null,
   "metadata": {},
   "outputs": [],
   "source": [
    "sZ.plot_mean(label=\"Sample mean\")\n",
    "plt.plot(Z.mean, 'o', label=\"Distribution mean\")\n",
    "plt.legend()"
   ]
  },
  {
   "cell_type": "markdown",
   "metadata": {},
   "source": [
    "and sample standard deviation along with the true standard deviations of the distribution which we obtain as the square-root of the diagonal of the covariance matrix:"
   ]
  },
  {
   "cell_type": "code",
   "execution_count": null,
   "metadata": {},
   "outputs": [],
   "source": [
    "sZ.plot_std(label=\"Sample std\")\n",
    "plt.plot(np.sqrt(np.diag(Z.cov)), 'o', label=\"Distribution std\")\n",
    "plt.legend()"
   ]
  },
  {
   "cell_type": "markdown",
   "metadata": {},
   "source": [
    "#### Try yourself (optional):  \n",
    " - Plot mean with 95% credibility interval, hint: `help(sZ.plot_ci)`.\n",
    " - Include in the credibility interval plot a comparison with the true mean using the `exact` keyword argument of `plot_ci`.\n",
    " - Reduce and increase the number of samples and study the effect on the mean and credibility interval.\n",
    " - Try also 50% and 99% credibility intervals."
   ]
  },
  {
   "cell_type": "code",
   "execution_count": null,
   "metadata": {},
   "outputs": [],
   "source": [
    "# Type code here:\n"
   ]
  },
  {
   "cell_type": "markdown",
   "metadata": {},
   "source": [
    "## 3. Geometry in distribution and Samples <a class=\"anchor\" id=\"Geometry\"></a> "
   ]
  },
  {
   "cell_type": "markdown",
   "metadata": {},
   "source": [
    "By default no particular structure or space is assumed of the parameters. If we want to express that parameters constitute for example a 2D image or are a set of discrete named parameters we can specify this by means of a CUQIpy geometry. \n",
    "\n",
    "By default distributions (and the Samples produced from distributions) contain a default (trivial) geometry."
   ]
  },
  {
   "cell_type": "code",
   "execution_count": null,
   "metadata": {},
   "outputs": [],
   "source": [
    "print(Z.geometry)\n",
    "print(sZ.geometry)"
   ]
  },
  {
   "cell_type": "markdown",
   "metadata": {},
   "source": [
    "As we saw, samples are plotted with line plot by default:"
   ]
  },
  {
   "cell_type": "code",
   "execution_count": null,
   "metadata": {},
   "outputs": [],
   "source": [
    "sZ.plot([100,200,300])"
   ]
  },
  {
   "cell_type": "markdown",
   "metadata": {},
   "source": [
    "But we can also plot the raw underlying parameters using the plot_par argument:"
   ]
  },
  {
   "cell_type": "code",
   "execution_count": null,
   "metadata": {},
   "outputs": [],
   "source": [
    "sZ.plot([100,200,300], plot_par=True)"
   ]
  },
  {
   "cell_type": "markdown",
   "metadata": {},
   "source": [
    "We may equip the distribution with a different geometry, either when creating it, or afterwards. For example if the three parameters represent labelled quantities such as height, width and depth we can use a `Discrete` geometry:"
   ]
  },
  {
   "cell_type": "code",
   "execution_count": null,
   "metadata": {},
   "outputs": [],
   "source": [
    "geom = cuqi.geometry.Discrete(['height','width','depth'])"
   ]
  },
  {
   "cell_type": "markdown",
   "metadata": {},
   "source": [
    "We can update the distribution's geometry and generate some new samples:"
   ]
  },
  {
   "cell_type": "code",
   "execution_count": null,
   "metadata": {},
   "outputs": [],
   "source": [
    "Z.geometry = geom"
   ]
  },
  {
   "cell_type": "code",
   "execution_count": null,
   "metadata": {},
   "outputs": [],
   "source": [
    "sZ2 = Z.sample(100)"
   ]
  },
  {
   "cell_type": "markdown",
   "metadata": {},
   "source": [
    "The samples will now know about their new `Discrete` geometry and the plotting style will be changed:"
   ]
  },
  {
   "cell_type": "code",
   "execution_count": null,
   "metadata": {},
   "outputs": [],
   "source": [
    "sZ2.plot();"
   ]
  },
  {
   "cell_type": "markdown",
   "metadata": {},
   "source": [
    "The credibility interval plot style is also updated to show errorbars for the `Discrete` geometry:"
   ]
  },
  {
   "cell_type": "code",
   "execution_count": null,
   "metadata": {},
   "outputs": [],
   "source": [
    "sZ2.plot_ci(95, exact=true_mu)"
   ]
  },
  {
   "cell_type": "markdown",
   "metadata": {},
   "source": [
    "And the similarly in the chain plot the legend reflects the particular labels:"
   ]
  },
  {
   "cell_type": "code",
   "execution_count": null,
   "metadata": {},
   "outputs": [],
   "source": [
    "sZ2.plot_chain([2,0])"
   ]
  },
  {
   "cell_type": "markdown",
   "metadata": {},
   "source": [
    "Another use of geometry is to represent 1D or 2D versions of the same distribution (prior). To do that let us first look at two new geometries.\n",
    "\n",
    "In CUQIpy we can represent 1D and 2D signals using the `Continuous1D` and `Continuous2D` geometries:"
   ]
  },
  {
   "cell_type": "code",
   "execution_count": null,
   "metadata": {},
   "outputs": [],
   "source": [
    "N = 100     # number of pixels\n",
    "dom = 1     # 1D or 2D domain\n",
    "\n",
    "x = np.linspace(0,1,N)\n",
    "\n",
    "if (dom == 1):\n",
    "    geometry = cuqi.geometry.Continuous1D(x)\n",
    "elif (dom == 2):\n",
    "    geometry = cuqi.geometry.Continuous2D((x, x))"
   ]
  },
  {
   "cell_type": "markdown",
   "metadata": {},
   "source": [
    "In this example in 1D there will be N parameters and in 2D there will be N^2 parameters. We can check the number of parameters of the geometry as well as its type:"
   ]
  },
  {
   "cell_type": "code",
   "execution_count": null,
   "metadata": {},
   "outputs": [],
   "source": [
    "geometry.par_dim"
   ]
  },
  {
   "cell_type": "code",
   "execution_count": null,
   "metadata": {},
   "outputs": [],
   "source": [
    "type(geometry)"
   ]
  },
  {
   "cell_type": "markdown",
   "metadata": {},
   "source": [
    "A Gaussian Markov Random Field (GMRF) can be used in 1 or 2 spatial dimensions, please see documentation for details: https://cuqi-dtu.github.io/CUQIpy/api/_autosummary/cuqi.distribution/cuqi.distribution.GMRF.html. \n",
    "\n",
    "We can now specify a GMRF distribution (with some chosen mean, precision, boundary conditions etc.) The same exact code will work in 1D and 2D due to the geometry:"
   ]
  },
  {
   "cell_type": "code",
   "execution_count": null,
   "metadata": {},
   "outputs": [],
   "source": [
    "mean = np.zeros(geometry.par_dim)\n",
    "prec = 4\n",
    "pX = cuqi.distribution.GMRF(mean, prec, dom, bc_type='zero', geometry=geometry)"
   ]
  },
  {
   "cell_type": "markdown",
   "metadata": {},
   "source": [
    "With the distribution set up, we are ready to generate some samples"
   ]
  },
  {
   "cell_type": "code",
   "execution_count": null,
   "metadata": {},
   "outputs": [],
   "source": [
    "# call method to sample\n",
    "sampleX = pX.sample(50)"
   ]
  },
  {
   "cell_type": "markdown",
   "metadata": {},
   "source": [
    "We can check that we have produced 50 samples, each of size 100 in the 1D case (in 2D, size 10000):"
   ]
  },
  {
   "cell_type": "code",
   "execution_count": null,
   "metadata": {},
   "outputs": [],
   "source": [
    "sampleX.shape"
   ]
  },
  {
   "cell_type": "markdown",
   "metadata": {},
   "source": [
    "We plot a couple of samples:"
   ]
  },
  {
   "cell_type": "code",
   "execution_count": null,
   "metadata": {},
   "outputs": [],
   "source": [
    "sampleX.plot()   "
   ]
  },
  {
   "cell_type": "markdown",
   "metadata": {},
   "source": [
    "#### Try yourself (optional):  \n",
    " - Go back and change `dom` to 2 to get the 2D case and rerun the subsequent cells.\n",
    " - Play with the number of pixels `N` as well as parameters of the GMRF and see the effect on the samples."
   ]
  },
  {
   "cell_type": "markdown",
   "metadata": {},
   "source": [
    "## 4. Conditional distributions ★ <a class=\"anchor\" id=\"Conditional\"></a> \n",
    "\n",
    "In CUQIpy defining conditional distributions is simple. Assume we are interested in defining the Normal distribution condtioned on the standard deviation, e.g.\n",
    "\n",
    "$$ X_2 \\mid \\mathrm{std} \\sim \\mathcal{N}(0,\\mathrm{std}^2) $$\n",
    "\n",
    "This can simply be achieved by *omitting* the keyword argument for the standard deviation as shown in the following code"
   ]
  },
  {
   "cell_type": "code",
   "execution_count": null,
   "metadata": {},
   "outputs": [],
   "source": [
    "X2 = cuqi.distribution.Normal(mean=0)"
   ]
  },
  {
   "cell_type": "markdown",
   "metadata": {},
   "source": [
    "Printing it will tell us that the variable `std` has not been specified, i.e., it is a *conditioning variable*:"
   ]
  },
  {
   "cell_type": "code",
   "execution_count": null,
   "metadata": {},
   "outputs": [],
   "source": [
    "print(X2)"
   ]
  },
  {
   "cell_type": "markdown",
   "metadata": {},
   "source": [
    "Because $X_2$ is a conditional distribution, we cannot evaluate the logpdf or sample it directly without specifying the value of the conditioning variable (the standard deviation in this case). Hence this code will fail to run:"
   ]
  },
  {
   "cell_type": "code",
   "execution_count": null,
   "metadata": {},
   "outputs": [],
   "source": [
    "# This code will give an error so we wrap it in a try/except block and print the error\n",
    "try:\n",
    "    X2.sample()\n",
    "except Exception as e:\n",
    "    print(e)"
   ]
  },
  {
   "cell_type": "markdown",
   "metadata": {},
   "source": [
    "However, we can specify the conditioning variable using the \"call\" syntax, i.e., `X2(std=2)` to specify the value of the standard deviation in the conditional distribution as shown below."
   ]
  },
  {
   "cell_type": "code",
   "execution_count": null,
   "metadata": {},
   "outputs": [],
   "source": [
    "X2(std=2).sample()"
   ]
  },
  {
   "cell_type": "markdown",
   "metadata": {},
   "source": [
    "In fact, conditioning creates a new *unconditional* distribution. Here printing reveals that it does not have any conditioning variables:"
   ]
  },
  {
   "cell_type": "code",
   "execution_count": null,
   "metadata": {},
   "outputs": [],
   "source": [
    "X2_std2 = X2(std=2)\n",
    "print(X2_std2)"
   ]
  },
  {
   "cell_type": "markdown",
   "metadata": {},
   "source": [
    "We expect we can then sample it directly, which is confirmed:"
   ]
  },
  {
   "cell_type": "code",
   "execution_count": null,
   "metadata": {},
   "outputs": [],
   "source": [
    "X2_std2.sample()"
   ]
  },
  {
   "cell_type": "markdown",
   "metadata": {},
   "source": [
    "In general one may need more flexibility than simply conditioning directly on the attributes of the distribution. Let us assume we want to condition on the variance - denoted d - rather than the standard deviation of the normal distribution, i.e.\n",
    "\n",
    "$$ X_3 \\mid d \\sim \\mathcal{N}(0,d) $$\n",
    "\n",
    "In CUQIpy this is can be achieved through *lambda* functions. A lambda function is the Python equivalent of a MATLAB anonymous function, i.e. a function defined in a single line with the following syntax for an example function the simply sums two input arguments:"
   ]
  },
  {
   "cell_type": "code",
   "execution_count": null,
   "metadata": {},
   "outputs": [],
   "source": [
    "myfun = lambda v1, v2: v1+v2"
   ]
  },
  {
   "cell_type": "code",
   "execution_count": null,
   "metadata": {},
   "outputs": [],
   "source": [
    "myfun(5,7)"
   ]
  },
  {
   "cell_type": "markdown",
   "metadata": {},
   "source": [
    "We can pass a lambda function directly as an argument to the distribution, e.g.,"
   ]
  },
  {
   "cell_type": "code",
   "execution_count": null,
   "metadata": {},
   "outputs": [],
   "source": [
    "X3 = cuqi.distribution.Normal(mean=0, std=lambda d: np.sqrt(d))\n",
    "print(X3)"
   ]
  },
  {
   "cell_type": "markdown",
   "metadata": {},
   "source": [
    "where we see that `d` is now the conditioning variable instead of `std` as before.\n",
    "\n",
    "We can then pass a value for `d` to condition on, which allows us to sample from the now fully specified distribution:"
   ]
  },
  {
   "cell_type": "code",
   "execution_count": null,
   "metadata": {},
   "outputs": [],
   "source": [
    "X3(d=2).sample()"
   ]
  },
  {
   "cell_type": "markdown",
   "metadata": {},
   "source": [
    "What actually happens behind the scenes is that writing `X3(d=2)` defined a new CUQIpy distribution, where the standard deviation is defined by evaluating the lambda function. This can be seen by storing the new distribution as follows."
   ]
  },
  {
   "cell_type": "code",
   "execution_count": null,
   "metadata": {},
   "outputs": [],
   "source": [
    "X4 = X3(d=2)\n",
    "X4.std"
   ]
  },
  {
   "cell_type": "markdown",
   "metadata": {},
   "source": [
    "One can even go crazy and define lambda functions for all attributes e.g."
   ]
  },
  {
   "cell_type": "code",
   "execution_count": null,
   "metadata": {},
   "outputs": [],
   "source": [
    "#Functions for mean and std with various (shared) inputs\n",
    "mean = lambda sigma,gamma: sigma+gamma\n",
    "std  = lambda delta,gamma: np.sqrt(delta+gamma)\n",
    "\n",
    "z = cuqi.distribution.Normal(mean, std)\n",
    "print(z)"
   ]
  },
  {
   "cell_type": "markdown",
   "metadata": {},
   "source": [
    "The three variable names `sigma`, `gamma` and `delta` used to define the two lambda functions for the mean and standard deviation are now the conditioning variables of the conditional distribution `z`.\n",
    "\n",
    "By providing values for all three variables we obtain a fully specified distribution"
   ]
  },
  {
   "cell_type": "code",
   "execution_count": null,
   "metadata": {},
   "outputs": [],
   "source": [
    "Z = z(sigma=3, delta=5, gamma=-2)\n",
    "print(Z)"
   ]
  },
  {
   "cell_type": "markdown",
   "metadata": {},
   "source": [
    "that we can sample:"
   ]
  },
  {
   "cell_type": "code",
   "execution_count": null,
   "metadata": {},
   "outputs": [],
   "source": [
    "Z.sample()"
   ]
  },
  {
   "cell_type": "markdown",
   "metadata": {},
   "source": [
    "Conditional distributions will play a major role when specifying Bayesian inverse problems including hierarchical models where some random variables depend on other random variables. We revisit this in later notebooks."
   ]
  },
  {
   "cell_type": "markdown",
   "metadata": {},
   "source": [
    "## 5. User-defined distributions ★ <a class=\"anchor\" id=\"Userdefined\"></a> "
   ]
  },
  {
   "cell_type": "markdown",
   "metadata": {},
   "source": [
    "In addition to the distributions provided by CUQIpy, there is also the possibility for users to specify new distributions. One option is to write their own class in the same style as existing distributions such as the Beta distribution (see code here: https://github.com/CUQI-DTU/CUQIpy/blob/main/cuqi/distribution/_beta.py).\n",
    "\n",
    "Another option is to specify a user-defined distribution, which is convenient if one for example only wishes to evaluate the logpdf.\n",
    "\n",
    "The example below demonstrates how to manually specify a normal distribution through a lambda function for the logpdf and compare it to the normal distribution defined in the beginning of this notebook.\n",
    "\n",
    "We specify variables for the mean and the standard deviation and specify the lambda function for the logpdf. "
   ]
  },
  {
   "cell_type": "code",
   "execution_count": null,
   "metadata": {},
   "outputs": [],
   "source": [
    "mu1 = 0\n",
    "std1 = 1\n",
    "\n",
    "logpdf_func = lambda xx: -np.log(std1*np.sqrt(2*np.pi))-0.5*((xx-mu1)/std1)**2"
   ]
  },
  {
   "cell_type": "markdown",
   "metadata": {},
   "source": [
    "To set up the user-defined distribution we need to specify the logpdf as well as its dimension (number of variables) since that cannot be automatically inferred from the lambda function:"
   ]
  },
  {
   "cell_type": "code",
   "execution_count": null,
   "metadata": {},
   "outputs": [],
   "source": [
    "XU = cuqi.distribution.UserDefinedDistribution(dim=1, logpdf_func=logpdf_func)"
   ]
  },
  {
   "cell_type": "markdown",
   "metadata": {},
   "source": [
    "We can now evalute the logpdf, as well as the pdf:"
   ]
  },
  {
   "cell_type": "code",
   "execution_count": null,
   "metadata": {},
   "outputs": [],
   "source": [
    "print(XU.logpdf(0))\n",
    "print(XU.pdf(0))"
   ]
  },
  {
   "cell_type": "markdown",
   "metadata": {},
   "source": [
    "We can compare this with the normal distribution from the beginning of the notebook and observe that their pdfs agree:"
   ]
  },
  {
   "cell_type": "code",
   "execution_count": null,
   "metadata": {},
   "outputs": [],
   "source": [
    "plt.plot(grid, [X.pdf(grid[k]) for k in range(len(grid))], label='CUQIpy Normal')\n",
    "plt.plot(grid, [XU.pdf(grid[k]) for k in range(len(grid))], '--', label='User-defined Normal')\n",
    "plt.legend()"
   ]
  },
  {
   "cell_type": "markdown",
   "metadata": {},
   "source": [
    "We cannot sample the user-defined distribution because we have only provided the logpdf:"
   ]
  },
  {
   "cell_type": "code",
   "execution_count": null,
   "metadata": {},
   "outputs": [],
   "source": [
    "try:\n",
    "    XU.sample()\n",
    "except Exception as e:\n",
    "    print(e)"
   ]
  },
  {
   "cell_type": "markdown",
   "metadata": {},
   "source": [
    "We can equip the user-defined distribution with a sample_func which specified how to sample (it is up to the user to ensure consistency between logpdf and sample_func):"
   ]
  },
  {
   "cell_type": "code",
   "execution_count": null,
   "metadata": {},
   "outputs": [],
   "source": [
    "XU.sample_func = lambda : np.array(mu1 + std1*np.random.randn())"
   ]
  },
  {
   "cell_type": "code",
   "execution_count": null,
   "metadata": {},
   "outputs": [],
   "source": [
    "XU.sample()"
   ]
  },
  {
   "cell_type": "markdown",
   "metadata": {},
   "source": [
    "We can compare the samples obtained from the original normal distribution and the user-defined:"
   ]
  },
  {
   "cell_type": "code",
   "execution_count": null,
   "metadata": {},
   "outputs": [],
   "source": [
    "Xs = X.sample(10000)"
   ]
  },
  {
   "cell_type": "code",
   "execution_count": null,
   "metadata": {},
   "outputs": [],
   "source": [
    "XUs = XU.sample(10000)"
   ]
  },
  {
   "cell_type": "markdown",
   "metadata": {},
   "source": [
    "We plot their histograms and note that they appear similar:"
   ]
  },
  {
   "cell_type": "code",
   "execution_count": null,
   "metadata": {},
   "outputs": [],
   "source": [
    "Xs.hist_chain(0,bins=100)\n",
    "XUs.hist_chain(0,bins=100)\n",
    "plt.legend(['CUQIpy Normal', 'User-defined Normal'])"
   ]
  },
  {
   "cell_type": "code",
   "execution_count": null,
   "metadata": {},
   "outputs": [],
   "source": []
  }
 ],
 "metadata": {
  "kernelspec": {
   "display_name": "Python 3",
   "language": "python",
   "name": "python3"
  },
  "language_info": {
   "codemirror_mode": {
    "name": "ipython",
    "version": 3
   },
   "file_extension": ".py",
   "mimetype": "text/x-python",
   "name": "python",
   "nbconvert_exporter": "python",
   "pygments_lexer": "ipython3",
   "version": "3.9.12"
  },
  "vscode": {
   "interpreter": {
    "hash": "39df9cdae8ebf7efb1525026a7ebb7fcd202c6f8c14fe7ef64f5e199bee61274"
   }
  }
 },
 "nbformat": 4,
 "nbformat_minor": 4
}
